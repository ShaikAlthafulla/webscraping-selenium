{
 "cells": [
  {
   "cell_type": "code",
   "execution_count": 110,
   "metadata": {},
   "outputs": [],
   "source": [
    "#question no 1\n",
    "import selenium\n",
    "import pandas as pd\n",
    "from selenium import webdriver"
   ]
  },
  {
   "cell_type": "code",
   "execution_count": 111,
   "metadata": {},
   "outputs": [],
   "source": [
    "driver = webdriver.Edge(executable_path = r\"C:\\Users\\Althaf\\Downloads\\msedgedriver.exe\")"
   ]
  },
  {
   "cell_type": "code",
   "execution_count": 112,
   "metadata": {},
   "outputs": [],
   "source": [
    "driver.get('https://www.naukri.com/')"
   ]
  },
  {
   "cell_type": "code",
   "execution_count": 113,
   "metadata": {},
   "outputs": [],
   "source": [
    "search_job =driver.find_element_by_id('qsb-keyword-sugg')\n",
    "search_job.send_keys(\"Data Scientist\")\n",
    "search_loc = driver.find_element_by_xpath(\"//input[@id='qsb-location-sugg']\")\n",
    "search_loc.send_keys(\"Bangalore\")"
   ]
  },
  {
   "cell_type": "code",
   "execution_count": 114,
   "metadata": {},
   "outputs": [],
   "source": [
    "search_btn = driver.find_element_by_xpath(\"//div[@class='search-btn']/button\")\n",
    "search_btn.click()"
   ]
  },
  {
   "cell_type": "code",
   "execution_count": 115,
   "metadata": {},
   "outputs": [],
   "source": [
    "job_titles=[]\n",
    "company_names=[]\n",
    "locations_list=[] \n",
    "experience_list=[]"
   ]
  },
  {
   "cell_type": "code",
   "execution_count": 116,
   "metadata": {},
   "outputs": [
    {
     "data": {
      "text/plain": [
       "[<selenium.webdriver.remote.webelement.WebElement (session=\"3ed5ce604bd0da4f2db680192323f66d\", element=\"fe76c9ea-d754-4313-97c7-6fdd0b87a24b\")>,\n",
       " <selenium.webdriver.remote.webelement.WebElement (session=\"3ed5ce604bd0da4f2db680192323f66d\", element=\"1a2e88dd-4a68-4271-92b7-697e7a60f0db\")>,\n",
       " <selenium.webdriver.remote.webelement.WebElement (session=\"3ed5ce604bd0da4f2db680192323f66d\", element=\"d282896b-939e-402b-b6e1-24446537a92e\")>,\n",
       " <selenium.webdriver.remote.webelement.WebElement (session=\"3ed5ce604bd0da4f2db680192323f66d\", element=\"d34f73e6-0d24-48aa-a4fc-c2409b10d335\")>,\n",
       " <selenium.webdriver.remote.webelement.WebElement (session=\"3ed5ce604bd0da4f2db680192323f66d\", element=\"b3ebc25a-c56c-49e8-b5d1-3e165e97672d\")>,\n",
       " <selenium.webdriver.remote.webelement.WebElement (session=\"3ed5ce604bd0da4f2db680192323f66d\", element=\"41ec41fb-adc6-4832-88e7-2279bef98be1\")>,\n",
       " <selenium.webdriver.remote.webelement.WebElement (session=\"3ed5ce604bd0da4f2db680192323f66d\", element=\"b745bdaa-3ae9-410d-a21d-01dfa4e5b312\")>,\n",
       " <selenium.webdriver.remote.webelement.WebElement (session=\"3ed5ce604bd0da4f2db680192323f66d\", element=\"03214ec9-653c-4b04-a855-07f2f516081f\")>,\n",
       " <selenium.webdriver.remote.webelement.WebElement (session=\"3ed5ce604bd0da4f2db680192323f66d\", element=\"671dcb70-d0b9-40a9-9afc-af21e9438be1\")>,\n",
       " <selenium.webdriver.remote.webelement.WebElement (session=\"3ed5ce604bd0da4f2db680192323f66d\", element=\"bde9be91-6d92-4a77-8702-8bbeb002ddbb\")>]"
      ]
     },
     "execution_count": 116,
     "metadata": {},
     "output_type": "execute_result"
    }
   ],
   "source": [
    "title_tags=driver.find_elements_by_xpath(\"//a[@class='title fw500 ellipsis']\")\n",
    "title_tags[0:10]"
   ]
  },
  {
   "cell_type": "code",
   "execution_count": 117,
   "metadata": {},
   "outputs": [
    {
     "data": {
      "text/plain": [
       "['Fresher Data Engineer / Data Scientist / Data Analyst Requirements',\n",
       " 'Immediate opening For Data Scientist/Data Analyst',\n",
       " 'Lead Data Scientist - Machine Learning/ Data Mining',\n",
       " 'Data Scientist - Machine Learning',\n",
       " 'Data Scientist / Data Analyst',\n",
       " 'Senior Data Scientist - NLP/ Python/ R',\n",
       " 'Explore job openings on Data Scientist!!',\n",
       " 'Senior Data Scientist',\n",
       " 'Artificial Intelligence Analyst/Data Scientist',\n",
       " 'Data Scientist']"
      ]
     },
     "execution_count": 117,
     "metadata": {},
     "output_type": "execute_result"
    }
   ],
   "source": [
    "for i in title_tags:\n",
    "    \n",
    "    title=i.text\n",
    "    job_titles.append(title)\n",
    "job_titles[0:10]"
   ]
  },
  {
   "cell_type": "code",
   "execution_count": 118,
   "metadata": {},
   "outputs": [
    {
     "data": {
      "text/plain": [
       "[<selenium.webdriver.remote.webelement.WebElement (session=\"3ed5ce604bd0da4f2db680192323f66d\", element=\"9a6c59fb-c2f9-4885-bf4d-126357edadd9\")>,\n",
       " <selenium.webdriver.remote.webelement.WebElement (session=\"3ed5ce604bd0da4f2db680192323f66d\", element=\"b2a3d405-1226-4106-a214-0b93c2d6d45c\")>,\n",
       " <selenium.webdriver.remote.webelement.WebElement (session=\"3ed5ce604bd0da4f2db680192323f66d\", element=\"533a77b9-4c77-4074-93fc-803e048c28a0\")>,\n",
       " <selenium.webdriver.remote.webelement.WebElement (session=\"3ed5ce604bd0da4f2db680192323f66d\", element=\"0e202a08-b71d-464a-b942-1f7996302b4f\")>,\n",
       " <selenium.webdriver.remote.webelement.WebElement (session=\"3ed5ce604bd0da4f2db680192323f66d\", element=\"e1b176a0-dbab-4b2e-bf8f-c107c8664d22\")>,\n",
       " <selenium.webdriver.remote.webelement.WebElement (session=\"3ed5ce604bd0da4f2db680192323f66d\", element=\"bacb8770-3dcd-4f81-82c6-47ebfe0140cb\")>,\n",
       " <selenium.webdriver.remote.webelement.WebElement (session=\"3ed5ce604bd0da4f2db680192323f66d\", element=\"67e4995f-4d8f-438e-be13-24197b705f64\")>,\n",
       " <selenium.webdriver.remote.webelement.WebElement (session=\"3ed5ce604bd0da4f2db680192323f66d\", element=\"e29bbe8a-0a6b-432b-b7dc-8015fc5684ed\")>,\n",
       " <selenium.webdriver.remote.webelement.WebElement (session=\"3ed5ce604bd0da4f2db680192323f66d\", element=\"f63d6b27-432a-48fc-a31b-8ceb24fce3f0\")>,\n",
       " <selenium.webdriver.remote.webelement.WebElement (session=\"3ed5ce604bd0da4f2db680192323f66d\", element=\"3a357f63-e8f2-4eb6-ab59-9bc067b49f3a\")>]"
      ]
     },
     "execution_count": 118,
     "metadata": {},
     "output_type": "execute_result"
    }
   ],
   "source": [
    "companies_tags=driver.find_elements_by_xpath(\"//a[@class='subTitle ellipsis fleft']\")\n",
    "companies_tags[0:10]"
   ]
  },
  {
   "cell_type": "code",
   "execution_count": 119,
   "metadata": {},
   "outputs": [
    {
     "data": {
      "text/plain": [
       "['ACHYUTAS SOFT PRIVATE LIMITED',\n",
       " 'CAIA-Center For Artificial Intelligence & Advanced Analytics',\n",
       " 'Wrackle Technologies Pvt Ltd',\n",
       " 'BLUE YONDER INDIA PRIVATE LIMITED',\n",
       " 'Altimetrik India Pvt. Ltd',\n",
       " 'AVI Consulting LLP',\n",
       " 'Bristlecone India Limited',\n",
       " 'Signify',\n",
       " 'TalentCo Search Pvt Ltd',\n",
       " 'Mailkit Private Limited']"
      ]
     },
     "execution_count": 119,
     "metadata": {},
     "output_type": "execute_result"
    }
   ],
   "source": [
    "for i in companies_tags:\n",
    "    company_name=i.text\n",
    "    company_names.append(company_name)\n",
    "company_names[0:10]"
   ]
  },
  {
   "cell_type": "code",
   "execution_count": 120,
   "metadata": {},
   "outputs": [
    {
     "data": {
      "text/plain": [
       "[<selenium.webdriver.remote.webelement.WebElement (session=\"3ed5ce604bd0da4f2db680192323f66d\", element=\"569eb9f1-6a7e-49f0-a90a-693232d14996\")>,\n",
       " <selenium.webdriver.remote.webelement.WebElement (session=\"3ed5ce604bd0da4f2db680192323f66d\", element=\"dcc537c2-0614-495d-83c9-a97c1efab36c\")>,\n",
       " <selenium.webdriver.remote.webelement.WebElement (session=\"3ed5ce604bd0da4f2db680192323f66d\", element=\"ccfb2ca1-3313-4920-91a3-808f60dc3af6\")>,\n",
       " <selenium.webdriver.remote.webelement.WebElement (session=\"3ed5ce604bd0da4f2db680192323f66d\", element=\"4dc960cb-41fe-4053-bfa7-ab95698b34f5\")>,\n",
       " <selenium.webdriver.remote.webelement.WebElement (session=\"3ed5ce604bd0da4f2db680192323f66d\", element=\"46bb38d6-cd8c-4c94-bb2f-613bfb762f7d\")>,\n",
       " <selenium.webdriver.remote.webelement.WebElement (session=\"3ed5ce604bd0da4f2db680192323f66d\", element=\"51c6d3d6-454b-48b8-a787-9c4a606df547\")>,\n",
       " <selenium.webdriver.remote.webelement.WebElement (session=\"3ed5ce604bd0da4f2db680192323f66d\", element=\"04088eb8-865c-4e49-8f47-9d60e2638942\")>,\n",
       " <selenium.webdriver.remote.webelement.WebElement (session=\"3ed5ce604bd0da4f2db680192323f66d\", element=\"f153bcc3-d88c-4ad2-b7a7-8fb867be05be\")>,\n",
       " <selenium.webdriver.remote.webelement.WebElement (session=\"3ed5ce604bd0da4f2db680192323f66d\", element=\"bade6b90-7e14-4d34-9782-30b5ee41bd9f\")>,\n",
       " <selenium.webdriver.remote.webelement.WebElement (session=\"3ed5ce604bd0da4f2db680192323f66d\", element=\"3e866b20-c620-44c1-a722-c86d0a1f5612\")>]"
      ]
     },
     "execution_count": 120,
     "metadata": {},
     "output_type": "execute_result"
    }
   ],
   "source": [
    "experience_tags=driver.find_elements_by_xpath(\"//li[@class='fleft grey-text br2 placeHolderLi experience']/span[1]\")\n",
    "experience_tags[0:10]"
   ]
  },
  {
   "cell_type": "code",
   "execution_count": 121,
   "metadata": {},
   "outputs": [
    {
     "data": {
      "text/plain": [
       "['0-2 Yrs',\n",
       " '0-3 Yrs',\n",
       " '6-11 Yrs',\n",
       " '2-7 Yrs',\n",
       " '3-8 Yrs',\n",
       " '4-9 Yrs',\n",
       " '4-9 Yrs',\n",
       " '6-10 Yrs',\n",
       " '1-5 Yrs',\n",
       " '4-9 Yrs']"
      ]
     },
     "execution_count": 121,
     "metadata": {},
     "output_type": "execute_result"
    }
   ],
   "source": [
    "for i in experience_tags:\n",
    "    experience=i.text\n",
    "    experience_list.append(experience)\n",
    "experience_list[0:10]"
   ]
  },
  {
   "cell_type": "code",
   "execution_count": 122,
   "metadata": {},
   "outputs": [
    {
     "data": {
      "text/plain": [
       "[<selenium.webdriver.remote.webelement.WebElement (session=\"3ed5ce604bd0da4f2db680192323f66d\", element=\"dbd972a1-6805-4538-8c2b-0ec6757021f2\")>,\n",
       " <selenium.webdriver.remote.webelement.WebElement (session=\"3ed5ce604bd0da4f2db680192323f66d\", element=\"23f409f2-1618-46f1-acf0-098f99d33f9c\")>,\n",
       " <selenium.webdriver.remote.webelement.WebElement (session=\"3ed5ce604bd0da4f2db680192323f66d\", element=\"cf76b4b0-6a06-421d-aae4-039962d24bec\")>,\n",
       " <selenium.webdriver.remote.webelement.WebElement (session=\"3ed5ce604bd0da4f2db680192323f66d\", element=\"297feae4-e7e4-42dc-b682-1367176631e6\")>,\n",
       " <selenium.webdriver.remote.webelement.WebElement (session=\"3ed5ce604bd0da4f2db680192323f66d\", element=\"03960798-7d66-49c7-b0c8-9ca15f094643\")>,\n",
       " <selenium.webdriver.remote.webelement.WebElement (session=\"3ed5ce604bd0da4f2db680192323f66d\", element=\"bc52d4ae-3961-4739-bdee-6c9fc9bdc39e\")>,\n",
       " <selenium.webdriver.remote.webelement.WebElement (session=\"3ed5ce604bd0da4f2db680192323f66d\", element=\"9e691997-23e4-41bb-9a8d-77f58cb37d0a\")>,\n",
       " <selenium.webdriver.remote.webelement.WebElement (session=\"3ed5ce604bd0da4f2db680192323f66d\", element=\"b30e4480-47c5-4161-b840-5dacb53a86c3\")>,\n",
       " <selenium.webdriver.remote.webelement.WebElement (session=\"3ed5ce604bd0da4f2db680192323f66d\", element=\"3a64996e-1782-4837-87c0-50f4ad6ca66f\")>,\n",
       " <selenium.webdriver.remote.webelement.WebElement (session=\"3ed5ce604bd0da4f2db680192323f66d\", element=\"68190503-2d20-430e-bfe5-794647179b12\")>]"
      ]
     },
     "execution_count": 122,
     "metadata": {},
     "output_type": "execute_result"
    }
   ],
   "source": [
    "locations_tags=driver.find_elements_by_xpath(\"//li[@class='fleft grey-text br2 placeHolderLi location']/span[1]\")\n",
    "locations_tags[0:10]"
   ]
  },
  {
   "cell_type": "code",
   "execution_count": 123,
   "metadata": {},
   "outputs": [
    {
     "data": {
      "text/plain": [
       "['Delhi NCR, Bengaluru, Hyderabad',\n",
       " 'Chennai, Pune, Bengaluru, Hyderabad',\n",
       " 'Bengaluru',\n",
       " 'Bengaluru',\n",
       " 'Bengaluru',\n",
       " 'Bengaluru, Hyderabad',\n",
       " 'Pune, Mumbai, Bengaluru',\n",
       " 'Bengaluru',\n",
       " 'Mumbai, Bengaluru',\n",
       " 'Chennai, Pune, Mumbai, Bengaluru, Hyderabad, Kolkata']"
      ]
     },
     "execution_count": 123,
     "metadata": {},
     "output_type": "execute_result"
    }
   ],
   "source": [
    "for i in locations_tags:\n",
    "    location=i.text\n",
    "    locations_list.append(location)\n",
    "locations_list[0:10]"
   ]
  },
  {
   "cell_type": "code",
   "execution_count": 124,
   "metadata": {},
   "outputs": [
    {
     "name": "stdout",
     "output_type": "stream",
     "text": [
      "20 20 20 20\n"
     ]
    }
   ],
   "source": [
    "print(len(job_titles),len(company_names),len(experience_list),len(locations_list))"
   ]
  },
  {
   "cell_type": "code",
   "execution_count": 125,
   "metadata": {},
   "outputs": [],
   "source": [
    "jobs=pd.DataFrame({})\n",
    "jobs['title']=job_titles[0:10]\n",
    "jobs['company']=company_names[0:10]\n",
    "jobs['experience_required']=experience_list[0:10]\n",
    "jobs['location']=locations_list[0:10]"
   ]
  },
  {
   "cell_type": "code",
   "execution_count": 126,
   "metadata": {},
   "outputs": [
    {
     "data": {
      "text/html": [
       "<div>\n",
       "<style scoped>\n",
       "    .dataframe tbody tr th:only-of-type {\n",
       "        vertical-align: middle;\n",
       "    }\n",
       "\n",
       "    .dataframe tbody tr th {\n",
       "        vertical-align: top;\n",
       "    }\n",
       "\n",
       "    .dataframe thead th {\n",
       "        text-align: right;\n",
       "    }\n",
       "</style>\n",
       "<table border=\"1\" class=\"dataframe\">\n",
       "  <thead>\n",
       "    <tr style=\"text-align: right;\">\n",
       "      <th></th>\n",
       "      <th>title</th>\n",
       "      <th>company</th>\n",
       "      <th>experience_required</th>\n",
       "      <th>location</th>\n",
       "    </tr>\n",
       "  </thead>\n",
       "  <tbody>\n",
       "    <tr>\n",
       "      <th>0</th>\n",
       "      <td>Fresher Data Engineer / Data Scientist / Data ...</td>\n",
       "      <td>ACHYUTAS SOFT PRIVATE LIMITED</td>\n",
       "      <td>0-2 Yrs</td>\n",
       "      <td>Delhi NCR, Bengaluru, Hyderabad</td>\n",
       "    </tr>\n",
       "    <tr>\n",
       "      <th>1</th>\n",
       "      <td>Immediate opening For Data Scientist/Data Analyst</td>\n",
       "      <td>CAIA-Center For Artificial Intelligence &amp; Adva...</td>\n",
       "      <td>0-3 Yrs</td>\n",
       "      <td>Chennai, Pune, Bengaluru, Hyderabad</td>\n",
       "    </tr>\n",
       "    <tr>\n",
       "      <th>2</th>\n",
       "      <td>Lead Data Scientist - Machine Learning/ Data M...</td>\n",
       "      <td>Wrackle Technologies Pvt Ltd</td>\n",
       "      <td>6-11 Yrs</td>\n",
       "      <td>Bengaluru</td>\n",
       "    </tr>\n",
       "    <tr>\n",
       "      <th>3</th>\n",
       "      <td>Data Scientist - Machine Learning</td>\n",
       "      <td>BLUE YONDER INDIA PRIVATE LIMITED</td>\n",
       "      <td>2-7 Yrs</td>\n",
       "      <td>Bengaluru</td>\n",
       "    </tr>\n",
       "    <tr>\n",
       "      <th>4</th>\n",
       "      <td>Data Scientist / Data Analyst</td>\n",
       "      <td>Altimetrik India Pvt. Ltd</td>\n",
       "      <td>3-8 Yrs</td>\n",
       "      <td>Bengaluru</td>\n",
       "    </tr>\n",
       "    <tr>\n",
       "      <th>5</th>\n",
       "      <td>Senior Data Scientist - NLP/ Python/ R</td>\n",
       "      <td>AVI Consulting LLP</td>\n",
       "      <td>4-9 Yrs</td>\n",
       "      <td>Bengaluru, Hyderabad</td>\n",
       "    </tr>\n",
       "    <tr>\n",
       "      <th>6</th>\n",
       "      <td>Explore job openings on Data Scientist!!</td>\n",
       "      <td>Bristlecone India Limited</td>\n",
       "      <td>4-9 Yrs</td>\n",
       "      <td>Pune, Mumbai, Bengaluru</td>\n",
       "    </tr>\n",
       "    <tr>\n",
       "      <th>7</th>\n",
       "      <td>Senior Data Scientist</td>\n",
       "      <td>Signify</td>\n",
       "      <td>6-10 Yrs</td>\n",
       "      <td>Bengaluru</td>\n",
       "    </tr>\n",
       "    <tr>\n",
       "      <th>8</th>\n",
       "      <td>Artificial Intelligence Analyst/Data Scientist</td>\n",
       "      <td>TalentCo Search Pvt Ltd</td>\n",
       "      <td>1-5 Yrs</td>\n",
       "      <td>Mumbai, Bengaluru</td>\n",
       "    </tr>\n",
       "    <tr>\n",
       "      <th>9</th>\n",
       "      <td>Data Scientist</td>\n",
       "      <td>Mailkit Private Limited</td>\n",
       "      <td>4-9 Yrs</td>\n",
       "      <td>Chennai, Pune, Mumbai, Bengaluru, Hyderabad, K...</td>\n",
       "    </tr>\n",
       "  </tbody>\n",
       "</table>\n",
       "</div>"
      ],
      "text/plain": [
       "                                               title  \\\n",
       "0  Fresher Data Engineer / Data Scientist / Data ...   \n",
       "1  Immediate opening For Data Scientist/Data Analyst   \n",
       "2  Lead Data Scientist - Machine Learning/ Data M...   \n",
       "3                  Data Scientist - Machine Learning   \n",
       "4                      Data Scientist / Data Analyst   \n",
       "5             Senior Data Scientist - NLP/ Python/ R   \n",
       "6           Explore job openings on Data Scientist!!   \n",
       "7                              Senior Data Scientist   \n",
       "8     Artificial Intelligence Analyst/Data Scientist   \n",
       "9                                     Data Scientist   \n",
       "\n",
       "                                             company experience_required  \\\n",
       "0                      ACHYUTAS SOFT PRIVATE LIMITED             0-2 Yrs   \n",
       "1  CAIA-Center For Artificial Intelligence & Adva...             0-3 Yrs   \n",
       "2                       Wrackle Technologies Pvt Ltd            6-11 Yrs   \n",
       "3                  BLUE YONDER INDIA PRIVATE LIMITED             2-7 Yrs   \n",
       "4                          Altimetrik India Pvt. Ltd             3-8 Yrs   \n",
       "5                                 AVI Consulting LLP             4-9 Yrs   \n",
       "6                          Bristlecone India Limited             4-9 Yrs   \n",
       "7                                            Signify            6-10 Yrs   \n",
       "8                            TalentCo Search Pvt Ltd             1-5 Yrs   \n",
       "9                            Mailkit Private Limited             4-9 Yrs   \n",
       "\n",
       "                                            location  \n",
       "0                    Delhi NCR, Bengaluru, Hyderabad  \n",
       "1                Chennai, Pune, Bengaluru, Hyderabad  \n",
       "2                                          Bengaluru  \n",
       "3                                          Bengaluru  \n",
       "4                                          Bengaluru  \n",
       "5                               Bengaluru, Hyderabad  \n",
       "6                            Pune, Mumbai, Bengaluru  \n",
       "7                                          Bengaluru  \n",
       "8                                  Mumbai, Bengaluru  \n",
       "9  Chennai, Pune, Mumbai, Bengaluru, Hyderabad, K...  "
      ]
     },
     "execution_count": 126,
     "metadata": {},
     "output_type": "execute_result"
    }
   ],
   "source": [
    "jobs"
   ]
  },
  {
   "cell_type": "code",
   "execution_count": 1,
   "metadata": {},
   "outputs": [],
   "source": [
    "#question no 2\n",
    "import selenium\n",
    "import pandas as pd\n",
    "from selenium import webdriver"
   ]
  },
  {
   "cell_type": "code",
   "execution_count": 2,
   "metadata": {},
   "outputs": [],
   "source": [
    "driver = webdriver.Edge(executable_path = r\"C:\\Users\\Althaf\\Downloads\\msedgedriver.exe\")"
   ]
  },
  {
   "cell_type": "code",
   "execution_count": 3,
   "metadata": {},
   "outputs": [],
   "source": [
    "driver.get('https://www.naukri.com/')"
   ]
  },
  {
   "cell_type": "code",
   "execution_count": 4,
   "metadata": {},
   "outputs": [],
   "source": [
    "search_job =driver.find_element_by_id('qsb-keyword-sugg')\n",
    "search_job.send_keys(\"Data Scientist\")\n",
    "search_loc = driver.find_element_by_xpath(\"//input[@id='qsb-location-sugg']\")\n",
    "search_loc.send_keys(\"Bangalore\")"
   ]
  },
  {
   "cell_type": "code",
   "execution_count": 5,
   "metadata": {},
   "outputs": [],
   "source": [
    "search_btn = driver.find_element_by_xpath(\"//div[@class='search-btn']/button\")\n",
    "search_btn.click()"
   ]
  },
  {
   "cell_type": "code",
   "execution_count": 6,
   "metadata": {},
   "outputs": [],
   "source": [
    "job_titles=[]\n",
    "company_names=[]\n",
    "locations_list=[] \n",
    "job_desc=[]"
   ]
  },
  {
   "cell_type": "code",
   "execution_count": 8,
   "metadata": {},
   "outputs": [
    {
     "data": {
      "text/plain": [
       "[<selenium.webdriver.remote.webelement.WebElement (session=\"ea98c8c32b8ace2a9c6def78a535544b\", element=\"75e6e062-b98b-489a-9179-582d0e53c579\")>,\n",
       " <selenium.webdriver.remote.webelement.WebElement (session=\"ea98c8c32b8ace2a9c6def78a535544b\", element=\"66152ba3-e051-4ee1-a206-1a9bfc97c7e0\")>,\n",
       " <selenium.webdriver.remote.webelement.WebElement (session=\"ea98c8c32b8ace2a9c6def78a535544b\", element=\"f266d408-9f19-4a90-b8c1-fffdfb4ad0f6\")>,\n",
       " <selenium.webdriver.remote.webelement.WebElement (session=\"ea98c8c32b8ace2a9c6def78a535544b\", element=\"a424a273-ed47-4f3a-ab52-41f7542f41bb\")>,\n",
       " <selenium.webdriver.remote.webelement.WebElement (session=\"ea98c8c32b8ace2a9c6def78a535544b\", element=\"c7e84f0b-179a-4d91-a20d-9bccf6e13212\")>,\n",
       " <selenium.webdriver.remote.webelement.WebElement (session=\"ea98c8c32b8ace2a9c6def78a535544b\", element=\"a94cd460-6659-4851-b2d2-468875cbbb4d\")>,\n",
       " <selenium.webdriver.remote.webelement.WebElement (session=\"ea98c8c32b8ace2a9c6def78a535544b\", element=\"4845a874-e1b5-4c7b-8908-13d3277315a5\")>,\n",
       " <selenium.webdriver.remote.webelement.WebElement (session=\"ea98c8c32b8ace2a9c6def78a535544b\", element=\"af9201ce-3de0-4fa9-88ea-22c13e1ac208\")>,\n",
       " <selenium.webdriver.remote.webelement.WebElement (session=\"ea98c8c32b8ace2a9c6def78a535544b\", element=\"7b4024a8-bbb8-4370-b00d-9fd7dbfca54a\")>,\n",
       " <selenium.webdriver.remote.webelement.WebElement (session=\"ea98c8c32b8ace2a9c6def78a535544b\", element=\"66f1e82a-f233-4027-8dcc-d2c8947bfdd6\")>]"
      ]
     },
     "execution_count": 8,
     "metadata": {},
     "output_type": "execute_result"
    }
   ],
   "source": [
    "title_tags=driver.find_elements_by_xpath(\"//a[@class='title fw500 ellipsis']\")\n",
    "title_tags[0:10]"
   ]
  },
  {
   "cell_type": "code",
   "execution_count": 9,
   "metadata": {},
   "outputs": [
    {
     "data": {
      "text/plain": [
       "['Fresher Data Engineer / Data Scientist / Data Analyst Requirements',\n",
       " 'Data Scientist/Data Analyst',\n",
       " 'Data Scientist - Machine Learning/Data Mining',\n",
       " 'Data Scientist - Machine Learning',\n",
       " 'Senior Data Scientist - NLP/ Python/ R',\n",
       " 'Senior Data Scientist | CES IT LTD | CMMI Level 5',\n",
       " 'Senior Data Scientist | CES IT LTD | CMMI Level 5',\n",
       " 'Data Scientist - Python/MATLAB/Machine Learning Algorithms',\n",
       " 'Lead Data Scientist - Machine Learning/Data Mining',\n",
       " 'Artificial Intelligence Analyst/Data Scientist']"
      ]
     },
     "execution_count": 9,
     "metadata": {},
     "output_type": "execute_result"
    }
   ],
   "source": [
    "for i in title_tags:\n",
    "    \n",
    "    title=i.text\n",
    "    job_titles.append(title)\n",
    "job_titles[0:10]"
   ]
  },
  {
   "cell_type": "code",
   "execution_count": 10,
   "metadata": {},
   "outputs": [
    {
     "data": {
      "text/plain": [
       "[<selenium.webdriver.remote.webelement.WebElement (session=\"ea98c8c32b8ace2a9c6def78a535544b\", element=\"8eebf506-d4f3-4565-8b02-6dd3b25e92a9\")>,\n",
       " <selenium.webdriver.remote.webelement.WebElement (session=\"ea98c8c32b8ace2a9c6def78a535544b\", element=\"fd743586-a644-46f5-802d-3c161f8d5227\")>,\n",
       " <selenium.webdriver.remote.webelement.WebElement (session=\"ea98c8c32b8ace2a9c6def78a535544b\", element=\"dfacaa73-8058-45e8-9b3b-83d13c3588a3\")>,\n",
       " <selenium.webdriver.remote.webelement.WebElement (session=\"ea98c8c32b8ace2a9c6def78a535544b\", element=\"d99a4345-4f70-4c49-9d58-daa73ff0be2b\")>,\n",
       " <selenium.webdriver.remote.webelement.WebElement (session=\"ea98c8c32b8ace2a9c6def78a535544b\", element=\"7dc01ab9-f14d-400d-8876-44149fc19250\")>,\n",
       " <selenium.webdriver.remote.webelement.WebElement (session=\"ea98c8c32b8ace2a9c6def78a535544b\", element=\"2a258692-fb33-4f9b-b480-2c8290c1fcce\")>,\n",
       " <selenium.webdriver.remote.webelement.WebElement (session=\"ea98c8c32b8ace2a9c6def78a535544b\", element=\"1df2fffe-35e2-432f-9524-690bd25e9e4e\")>,\n",
       " <selenium.webdriver.remote.webelement.WebElement (session=\"ea98c8c32b8ace2a9c6def78a535544b\", element=\"ad9e754c-ac51-49ee-895c-8017478f6d92\")>,\n",
       " <selenium.webdriver.remote.webelement.WebElement (session=\"ea98c8c32b8ace2a9c6def78a535544b\", element=\"1721c897-3bcd-41d5-9c1b-44a8d1df1083\")>,\n",
       " <selenium.webdriver.remote.webelement.WebElement (session=\"ea98c8c32b8ace2a9c6def78a535544b\", element=\"2b566ba3-73d5-4c16-9e19-fa76f3dd44b4\")>]"
      ]
     },
     "execution_count": 10,
     "metadata": {},
     "output_type": "execute_result"
    }
   ],
   "source": [
    "companies_tags=driver.find_elements_by_xpath(\"//a[@class='subTitle ellipsis fleft']\")\n",
    "companies_tags[0:10]"
   ]
  },
  {
   "cell_type": "code",
   "execution_count": 11,
   "metadata": {},
   "outputs": [
    {
     "data": {
      "text/plain": [
       "['ACHYUTAS SOFT PRIVATE LIMITED',\n",
       " 'CAIA-Center For Artificial Intelligence & Advanced Analytics',\n",
       " 'Minions Ventures',\n",
       " 'BLUE YONDER INDIA PRIVATE LIMITED',\n",
       " 'AVI Consulting LLP',\n",
       " 'CES Ltd.',\n",
       " 'CES Ltd.',\n",
       " 'Wrackle Technologies Pvt Ltd',\n",
       " 'Wrackle Technologies Pvt Ltd',\n",
       " 'TalentCo Search Pvt Ltd']"
      ]
     },
     "execution_count": 11,
     "metadata": {},
     "output_type": "execute_result"
    }
   ],
   "source": [
    "for i in companies_tags:\n",
    "    company_name=i.text\n",
    "    company_names.append(company_name)\n",
    "company_names[0:10]"
   ]
  },
  {
   "cell_type": "code",
   "execution_count": 12,
   "metadata": {},
   "outputs": [
    {
     "data": {
      "text/plain": [
       "[<selenium.webdriver.remote.webelement.WebElement (session=\"ea98c8c32b8ace2a9c6def78a535544b\", element=\"a369328d-a863-4483-aa3f-2d10d296dc55\")>,\n",
       " <selenium.webdriver.remote.webelement.WebElement (session=\"ea98c8c32b8ace2a9c6def78a535544b\", element=\"823d066f-4c73-415f-a704-cdc95cb5dfd1\")>,\n",
       " <selenium.webdriver.remote.webelement.WebElement (session=\"ea98c8c32b8ace2a9c6def78a535544b\", element=\"8a0c5625-3315-4372-99a9-626c271c737e\")>,\n",
       " <selenium.webdriver.remote.webelement.WebElement (session=\"ea98c8c32b8ace2a9c6def78a535544b\", element=\"fb27a5ee-22d2-4d29-afd7-a421209a49f3\")>,\n",
       " <selenium.webdriver.remote.webelement.WebElement (session=\"ea98c8c32b8ace2a9c6def78a535544b\", element=\"094b507c-707d-4549-a8f7-04e492442d53\")>,\n",
       " <selenium.webdriver.remote.webelement.WebElement (session=\"ea98c8c32b8ace2a9c6def78a535544b\", element=\"6cbb1f7d-536b-4d5f-81c7-e6225808bc29\")>,\n",
       " <selenium.webdriver.remote.webelement.WebElement (session=\"ea98c8c32b8ace2a9c6def78a535544b\", element=\"a4492cb3-9e68-4b28-9dbd-b412a874878f\")>,\n",
       " <selenium.webdriver.remote.webelement.WebElement (session=\"ea98c8c32b8ace2a9c6def78a535544b\", element=\"1892764a-dc2b-40c2-b63c-3ff9e83f7b8d\")>,\n",
       " <selenium.webdriver.remote.webelement.WebElement (session=\"ea98c8c32b8ace2a9c6def78a535544b\", element=\"a3293ae7-7403-475e-8dba-0c2e621d9485\")>,\n",
       " <selenium.webdriver.remote.webelement.WebElement (session=\"ea98c8c32b8ace2a9c6def78a535544b\", element=\"5b8005cb-abc8-4dab-89de-d3fb13ce2007\")>]"
      ]
     },
     "execution_count": 12,
     "metadata": {},
     "output_type": "execute_result"
    }
   ],
   "source": [
    "locations_tags=driver.find_elements_by_xpath(\"//li[@class='fleft grey-text br2 placeHolderLi location']/span[1]\")\n",
    "locations_tags[0:10]"
   ]
  },
  {
   "cell_type": "code",
   "execution_count": 17,
   "metadata": {},
   "outputs": [
    {
     "data": {
      "text/plain": [
       "['Delhi NCR, Bengaluru, Hyderabad',\n",
       " 'Chennai, Pune, Bengaluru, Hyderabad',\n",
       " 'Bengaluru',\n",
       " 'Bengaluru',\n",
       " 'Bengaluru, Hyderabad',\n",
       " 'Chennai, Pune, Delhi NCR, Mumbai, Bengaluru, Hyderabad, Kolkata',\n",
       " 'Chennai, Pune, Delhi NCR, Mumbai, Bengaluru, Hyderabad, Kolkata',\n",
       " 'Bengaluru',\n",
       " 'Bengaluru',\n",
       " 'Mumbai, Bengaluru']"
      ]
     },
     "execution_count": 17,
     "metadata": {},
     "output_type": "execute_result"
    }
   ],
   "source": [
    "for i in locations_tags:\n",
    "    location=i.text\n",
    "    locations_list.append(location)\n",
    "locations_list[0:10]"
   ]
  },
  {
   "cell_type": "code",
   "execution_count": 22,
   "metadata": {},
   "outputs": [
    {
     "ename": "NoSuchElementException",
     "evalue": "Message: no such element: Unable to locate element: {\"method\":\"xpath\",\"selector\":\"//div[@class='dang-inner-html']\"}\n  (Session info: MicrosoftEdge=87.0.664.60)\n",
     "output_type": "error",
     "traceback": [
      "\u001b[1;31m---------------------------------------------------------------------------\u001b[0m",
      "\u001b[1;31mNoSuchElementException\u001b[0m                    Traceback (most recent call last)",
      "\u001b[1;32m<ipython-input-22-87cc31a6f494>\u001b[0m in \u001b[0;36m<module>\u001b[1;34m\u001b[0m\n\u001b[1;32m----> 1\u001b[1;33m \u001b[0mjob_desc\u001b[0m\u001b[1;33m=\u001b[0m\u001b[0mdriver\u001b[0m\u001b[1;33m.\u001b[0m\u001b[0mfind_element_by_xpath\u001b[0m\u001b[1;33m(\u001b[0m\u001b[1;34m\"//div[@class='dang-inner-html']\"\u001b[0m\u001b[1;33m)\u001b[0m\u001b[1;33m.\u001b[0m\u001b[0mtext\u001b[0m\u001b[1;33m\u001b[0m\u001b[1;33m\u001b[0m\u001b[0m\n\u001b[0m\u001b[0;32m      2\u001b[0m \u001b[0mjob_desc\u001b[0m\u001b[1;33m\u001b[0m\u001b[1;33m\u001b[0m\u001b[0m\n",
      "\u001b[1;32mC:\\ProgramData\\Anaconda3\\lib\\site-packages\\selenium\\webdriver\\remote\\webdriver.py\u001b[0m in \u001b[0;36mfind_element_by_xpath\u001b[1;34m(self, xpath)\u001b[0m\n\u001b[0;32m    392\u001b[0m             \u001b[0melement\u001b[0m \u001b[1;33m=\u001b[0m \u001b[0mdriver\u001b[0m\u001b[1;33m.\u001b[0m\u001b[0mfind_element_by_xpath\u001b[0m\u001b[1;33m(\u001b[0m\u001b[1;34m'//div/td[1]'\u001b[0m\u001b[1;33m)\u001b[0m\u001b[1;33m\u001b[0m\u001b[1;33m\u001b[0m\u001b[0m\n\u001b[0;32m    393\u001b[0m         \"\"\"\n\u001b[1;32m--> 394\u001b[1;33m         \u001b[1;32mreturn\u001b[0m \u001b[0mself\u001b[0m\u001b[1;33m.\u001b[0m\u001b[0mfind_element\u001b[0m\u001b[1;33m(\u001b[0m\u001b[0mby\u001b[0m\u001b[1;33m=\u001b[0m\u001b[0mBy\u001b[0m\u001b[1;33m.\u001b[0m\u001b[0mXPATH\u001b[0m\u001b[1;33m,\u001b[0m \u001b[0mvalue\u001b[0m\u001b[1;33m=\u001b[0m\u001b[0mxpath\u001b[0m\u001b[1;33m)\u001b[0m\u001b[1;33m\u001b[0m\u001b[1;33m\u001b[0m\u001b[0m\n\u001b[0m\u001b[0;32m    395\u001b[0m \u001b[1;33m\u001b[0m\u001b[0m\n\u001b[0;32m    396\u001b[0m     \u001b[1;32mdef\u001b[0m \u001b[0mfind_elements_by_xpath\u001b[0m\u001b[1;33m(\u001b[0m\u001b[0mself\u001b[0m\u001b[1;33m,\u001b[0m \u001b[0mxpath\u001b[0m\u001b[1;33m)\u001b[0m\u001b[1;33m:\u001b[0m\u001b[1;33m\u001b[0m\u001b[1;33m\u001b[0m\u001b[0m\n",
      "\u001b[1;32mC:\\ProgramData\\Anaconda3\\lib\\site-packages\\selenium\\webdriver\\remote\\webdriver.py\u001b[0m in \u001b[0;36mfind_element\u001b[1;34m(self, by, value)\u001b[0m\n\u001b[0;32m    976\u001b[0m         return self.execute(Command.FIND_ELEMENT, {\n\u001b[0;32m    977\u001b[0m             \u001b[1;34m'using'\u001b[0m\u001b[1;33m:\u001b[0m \u001b[0mby\u001b[0m\u001b[1;33m,\u001b[0m\u001b[1;33m\u001b[0m\u001b[1;33m\u001b[0m\u001b[0m\n\u001b[1;32m--> 978\u001b[1;33m             'value': value})['value']\n\u001b[0m\u001b[0;32m    979\u001b[0m \u001b[1;33m\u001b[0m\u001b[0m\n\u001b[0;32m    980\u001b[0m     \u001b[1;32mdef\u001b[0m \u001b[0mfind_elements\u001b[0m\u001b[1;33m(\u001b[0m\u001b[0mself\u001b[0m\u001b[1;33m,\u001b[0m \u001b[0mby\u001b[0m\u001b[1;33m=\u001b[0m\u001b[0mBy\u001b[0m\u001b[1;33m.\u001b[0m\u001b[0mID\u001b[0m\u001b[1;33m,\u001b[0m \u001b[0mvalue\u001b[0m\u001b[1;33m=\u001b[0m\u001b[1;32mNone\u001b[0m\u001b[1;33m)\u001b[0m\u001b[1;33m:\u001b[0m\u001b[1;33m\u001b[0m\u001b[1;33m\u001b[0m\u001b[0m\n",
      "\u001b[1;32mC:\\ProgramData\\Anaconda3\\lib\\site-packages\\selenium\\webdriver\\remote\\webdriver.py\u001b[0m in \u001b[0;36mexecute\u001b[1;34m(self, driver_command, params)\u001b[0m\n\u001b[0;32m    319\u001b[0m         \u001b[0mresponse\u001b[0m \u001b[1;33m=\u001b[0m \u001b[0mself\u001b[0m\u001b[1;33m.\u001b[0m\u001b[0mcommand_executor\u001b[0m\u001b[1;33m.\u001b[0m\u001b[0mexecute\u001b[0m\u001b[1;33m(\u001b[0m\u001b[0mdriver_command\u001b[0m\u001b[1;33m,\u001b[0m \u001b[0mparams\u001b[0m\u001b[1;33m)\u001b[0m\u001b[1;33m\u001b[0m\u001b[1;33m\u001b[0m\u001b[0m\n\u001b[0;32m    320\u001b[0m         \u001b[1;32mif\u001b[0m \u001b[0mresponse\u001b[0m\u001b[1;33m:\u001b[0m\u001b[1;33m\u001b[0m\u001b[1;33m\u001b[0m\u001b[0m\n\u001b[1;32m--> 321\u001b[1;33m             \u001b[0mself\u001b[0m\u001b[1;33m.\u001b[0m\u001b[0merror_handler\u001b[0m\u001b[1;33m.\u001b[0m\u001b[0mcheck_response\u001b[0m\u001b[1;33m(\u001b[0m\u001b[0mresponse\u001b[0m\u001b[1;33m)\u001b[0m\u001b[1;33m\u001b[0m\u001b[1;33m\u001b[0m\u001b[0m\n\u001b[0m\u001b[0;32m    322\u001b[0m             response['value'] = self._unwrap_value(\n\u001b[0;32m    323\u001b[0m                 response.get('value', None))\n",
      "\u001b[1;32mC:\\ProgramData\\Anaconda3\\lib\\site-packages\\selenium\\webdriver\\remote\\errorhandler.py\u001b[0m in \u001b[0;36mcheck_response\u001b[1;34m(self, response)\u001b[0m\n\u001b[0;32m    240\u001b[0m                 \u001b[0malert_text\u001b[0m \u001b[1;33m=\u001b[0m \u001b[0mvalue\u001b[0m\u001b[1;33m[\u001b[0m\u001b[1;34m'alert'\u001b[0m\u001b[1;33m]\u001b[0m\u001b[1;33m.\u001b[0m\u001b[0mget\u001b[0m\u001b[1;33m(\u001b[0m\u001b[1;34m'text'\u001b[0m\u001b[1;33m)\u001b[0m\u001b[1;33m\u001b[0m\u001b[1;33m\u001b[0m\u001b[0m\n\u001b[0;32m    241\u001b[0m             \u001b[1;32mraise\u001b[0m \u001b[0mexception_class\u001b[0m\u001b[1;33m(\u001b[0m\u001b[0mmessage\u001b[0m\u001b[1;33m,\u001b[0m \u001b[0mscreen\u001b[0m\u001b[1;33m,\u001b[0m \u001b[0mstacktrace\u001b[0m\u001b[1;33m,\u001b[0m \u001b[0malert_text\u001b[0m\u001b[1;33m)\u001b[0m\u001b[1;33m\u001b[0m\u001b[1;33m\u001b[0m\u001b[0m\n\u001b[1;32m--> 242\u001b[1;33m         \u001b[1;32mraise\u001b[0m \u001b[0mexception_class\u001b[0m\u001b[1;33m(\u001b[0m\u001b[0mmessage\u001b[0m\u001b[1;33m,\u001b[0m \u001b[0mscreen\u001b[0m\u001b[1;33m,\u001b[0m \u001b[0mstacktrace\u001b[0m\u001b[1;33m)\u001b[0m\u001b[1;33m\u001b[0m\u001b[1;33m\u001b[0m\u001b[0m\n\u001b[0m\u001b[0;32m    243\u001b[0m \u001b[1;33m\u001b[0m\u001b[0m\n\u001b[0;32m    244\u001b[0m     \u001b[1;32mdef\u001b[0m \u001b[0m_value_or_default\u001b[0m\u001b[1;33m(\u001b[0m\u001b[0mself\u001b[0m\u001b[1;33m,\u001b[0m \u001b[0mobj\u001b[0m\u001b[1;33m,\u001b[0m \u001b[0mkey\u001b[0m\u001b[1;33m,\u001b[0m \u001b[0mdefault\u001b[0m\u001b[1;33m)\u001b[0m\u001b[1;33m:\u001b[0m\u001b[1;33m\u001b[0m\u001b[1;33m\u001b[0m\u001b[0m\n",
      "\u001b[1;31mNoSuchElementException\u001b[0m: Message: no such element: Unable to locate element: {\"method\":\"xpath\",\"selector\":\"//div[@class='dang-inner-html']\"}\n  (Session info: MicrosoftEdge=87.0.664.60)\n"
     ]
    }
   ],
   "source": [
    "job_desc=driver.find_element_by_xpath(\"//div[@class='dang-inner-html']\").text\n",
    "job_desc"
   ]
  },
  {
   "cell_type": "code",
   "execution_count": 38,
   "metadata": {},
   "outputs": [],
   "source": [
    "#question no.3\n",
    "import selenium\n",
    "import pandas as pd\n",
    "from selenium import webdriver\n",
    "driver = webdriver.Edge(executable_path = r\"C:\\Users\\Althaf\\Downloads\\msedgedriver.exe\")\n",
    "driver.get('https://www.naukri.com/')"
   ]
  },
  {
   "cell_type": "code",
   "execution_count": 39,
   "metadata": {},
   "outputs": [],
   "source": [
    "search_job =driver.find_element_by_id('qsb-keyword-sugg')\n",
    "search_job.send_keys(\"Data Scientist\")"
   ]
  },
  {
   "cell_type": "code",
   "execution_count": 40,
   "metadata": {},
   "outputs": [],
   "source": [
    "search_btn = driver.find_element_by_xpath(\"//div[@class='search-btn']/button\")\n",
    "search_btn.click()"
   ]
  },
  {
   "cell_type": "code",
   "execution_count": 42,
   "metadata": {},
   "outputs": [
    {
     "ename": "AttributeError",
     "evalue": "'list' object has no attribute 'send_keys'",
     "output_type": "error",
     "traceback": [
      "\u001b[1;31m---------------------------------------------------------------------------\u001b[0m",
      "\u001b[1;31mAttributeError\u001b[0m                            Traceback (most recent call last)",
      "\u001b[1;32m<ipython-input-42-c897f244e213>\u001b[0m in \u001b[0;36m<module>\u001b[1;34m\u001b[0m\n\u001b[0;32m      1\u001b[0m \u001b[0msearch_location\u001b[0m \u001b[1;33m=\u001b[0m \u001b[0mdriver\u001b[0m\u001b[1;33m.\u001b[0m\u001b[0mfind_elements_by_xpath\u001b[0m\u001b[1;33m(\u001b[0m\u001b[1;34m\"//span[@class='ellipsis fleft']\"\u001b[0m\u001b[1;33m)\u001b[0m\u001b[1;33m\u001b[0m\u001b[1;33m\u001b[0m\u001b[0m\n\u001b[1;32m----> 2\u001b[1;33m \u001b[0msearch_location\u001b[0m\u001b[1;33m.\u001b[0m\u001b[0msend_keys\u001b[0m\u001b[1;33m(\u001b[0m\u001b[1;34m\"Delhi/NCR\"\u001b[0m\u001b[1;33m)\u001b[0m\u001b[1;33m\u001b[0m\u001b[1;33m\u001b[0m\u001b[0m\n\u001b[0m",
      "\u001b[1;31mAttributeError\u001b[0m: 'list' object has no attribute 'send_keys'"
     ]
    }
   ],
   "source": [
    "search_location = driver.find_elements_by_xpath(\"//span[@class='ellipsis fleft']\")\n",
    "search_location.send_keys(\"Delhi/NCR\")\n"
   ]
  },
  {
   "cell_type": "code",
   "execution_count": 37,
   "metadata": {},
   "outputs": [],
   "source": [
    "job_titles=[]\n",
    "company_names=[]\n",
    "locations_list=[] \n",
    "experience_list=[]"
   ]
  },
  {
   "cell_type": "code",
   "execution_count": null,
   "metadata": {},
   "outputs": [],
   "source": [
    "title_tags=driver.find_elements_by_xpath(\"//a[@class='title fw500 ellipsis']\")\n",
    "title_tags[0:10]"
   ]
  },
  {
   "cell_type": "code",
   "execution_count": 43,
   "metadata": {},
   "outputs": [],
   "source": [
    "#question no.4\n",
    "import selenium\n",
    "import pandas as pd\n",
    "from selenium import webdriver\n",
    "driver = webdriver.Edge(executable_path = r\"C:\\Users\\Althaf\\Downloads\\msedgedriver.exe\")\n",
    "driver.get('https://www.glassdoor.co.in/index.htm')"
   ]
  },
  {
   "cell_type": "code",
   "execution_count": 44,
   "metadata": {},
   "outputs": [],
   "source": [
    "#question no.6\n",
    "import selenium\n",
    "import pandas as pd\n",
    "from selenium import webdriver\n",
    "driver = webdriver.Edge(executable_path = r\"C:\\Users\\Althaf\\Downloads\\msedgedriver.exe\")"
   ]
  },
  {
   "cell_type": "code",
   "execution_count": 45,
   "metadata": {},
   "outputs": [],
   "source": [
    "driver.get('https://www.flipkart.com/')"
   ]
  },
  {
   "cell_type": "code",
   "execution_count": 46,
   "metadata": {},
   "outputs": [],
   "source": [
    "search =driver.find_element_by_xpath(\"//input[@class='_3704LK']\")\n",
    "search.send_keys(\"Sunglasses\")"
   ]
  },
  {
   "cell_type": "code",
   "execution_count": 47,
   "metadata": {},
   "outputs": [],
   "source": [
    "search_btn = driver.find_element_by_xpath(\"//button[@class='L0Z3Pu']\")\n",
    "search_btn.click()"
   ]
  },
  {
   "cell_type": "code",
   "execution_count": 48,
   "metadata": {},
   "outputs": [],
   "source": [
    "Brand_Name=[]\n",
    "product_Descr=[]\n",
    "price_value=[]\n",
    "Discount_percentage=[]"
   ]
  },
  {
   "cell_type": "code",
   "execution_count": 49,
   "metadata": {},
   "outputs": [
    {
     "data": {
      "text/plain": [
       "[<selenium.webdriver.remote.webelement.WebElement (session=\"a045ac1db56ce949d86d280e289b7c9f\", element=\"216a59b1-70ca-4667-a20f-f224592510b0\")>,\n",
       " <selenium.webdriver.remote.webelement.WebElement (session=\"a045ac1db56ce949d86d280e289b7c9f\", element=\"56101317-fb07-479e-b396-1575e9ebfc94\")>,\n",
       " <selenium.webdriver.remote.webelement.WebElement (session=\"a045ac1db56ce949d86d280e289b7c9f\", element=\"1a112463-f9d8-4fd6-b349-f4f1c946f8c5\")>,\n",
       " <selenium.webdriver.remote.webelement.WebElement (session=\"a045ac1db56ce949d86d280e289b7c9f\", element=\"7a9e2268-7153-4003-829b-fe1ad64e23cc\")>,\n",
       " <selenium.webdriver.remote.webelement.WebElement (session=\"a045ac1db56ce949d86d280e289b7c9f\", element=\"d5720f68-2d3d-4cca-89bd-4e7b22e509d4\")>,\n",
       " <selenium.webdriver.remote.webelement.WebElement (session=\"a045ac1db56ce949d86d280e289b7c9f\", element=\"70e36d3f-7ba8-4eb4-a717-83288bd6e16f\")>,\n",
       " <selenium.webdriver.remote.webelement.WebElement (session=\"a045ac1db56ce949d86d280e289b7c9f\", element=\"d00ebde0-4abd-44d7-b523-bae074b4aaf0\")>,\n",
       " <selenium.webdriver.remote.webelement.WebElement (session=\"a045ac1db56ce949d86d280e289b7c9f\", element=\"2ba84f93-4691-4cd2-86e7-b59312a04d53\")>,\n",
       " <selenium.webdriver.remote.webelement.WebElement (session=\"a045ac1db56ce949d86d280e289b7c9f\", element=\"32db0586-1f90-4602-b076-b17947fc5ca8\")>,\n",
       " <selenium.webdriver.remote.webelement.WebElement (session=\"a045ac1db56ce949d86d280e289b7c9f\", element=\"22f592f6-592d-4f23-9552-31eaace28261\")>,\n",
       " <selenium.webdriver.remote.webelement.WebElement (session=\"a045ac1db56ce949d86d280e289b7c9f\", element=\"9e931dd2-f2f2-40e7-8d3d-35ce6098f89e\")>,\n",
       " <selenium.webdriver.remote.webelement.WebElement (session=\"a045ac1db56ce949d86d280e289b7c9f\", element=\"1c92ed1a-87b5-4269-bf1d-0f4bfcc9f171\")>,\n",
       " <selenium.webdriver.remote.webelement.WebElement (session=\"a045ac1db56ce949d86d280e289b7c9f\", element=\"a2fd6487-3ae9-4cd4-96cf-a334e7a559e9\")>,\n",
       " <selenium.webdriver.remote.webelement.WebElement (session=\"a045ac1db56ce949d86d280e289b7c9f\", element=\"44e80df0-42c6-44e7-8829-564e88081688\")>,\n",
       " <selenium.webdriver.remote.webelement.WebElement (session=\"a045ac1db56ce949d86d280e289b7c9f\", element=\"90190a66-a5f0-472b-9397-88b7adad8cca\")>,\n",
       " <selenium.webdriver.remote.webelement.WebElement (session=\"a045ac1db56ce949d86d280e289b7c9f\", element=\"076e2e20-82fc-4fbc-a726-45c61554c49e\")>,\n",
       " <selenium.webdriver.remote.webelement.WebElement (session=\"a045ac1db56ce949d86d280e289b7c9f\", element=\"adab355f-ebab-4188-be77-fa8fdc6828f4\")>,\n",
       " <selenium.webdriver.remote.webelement.WebElement (session=\"a045ac1db56ce949d86d280e289b7c9f\", element=\"83b95925-39ae-4955-9033-216783d8e75d\")>,\n",
       " <selenium.webdriver.remote.webelement.WebElement (session=\"a045ac1db56ce949d86d280e289b7c9f\", element=\"d0216fb5-8791-4fde-9e7e-b8c3ec509539\")>,\n",
       " <selenium.webdriver.remote.webelement.WebElement (session=\"a045ac1db56ce949d86d280e289b7c9f\", element=\"53a4d172-6553-4636-a596-ddc8f3ff608f\")>,\n",
       " <selenium.webdriver.remote.webelement.WebElement (session=\"a045ac1db56ce949d86d280e289b7c9f\", element=\"28562195-1301-4dfd-840e-24a9ca2ff5a5\")>,\n",
       " <selenium.webdriver.remote.webelement.WebElement (session=\"a045ac1db56ce949d86d280e289b7c9f\", element=\"c03cd945-00ec-4e45-bda8-338372b39cca\")>,\n",
       " <selenium.webdriver.remote.webelement.WebElement (session=\"a045ac1db56ce949d86d280e289b7c9f\", element=\"000e832f-0e97-4f77-a474-247cdd83d0dd\")>,\n",
       " <selenium.webdriver.remote.webelement.WebElement (session=\"a045ac1db56ce949d86d280e289b7c9f\", element=\"1de55247-11ba-44c0-ac8f-38a94090d78c\")>,\n",
       " <selenium.webdriver.remote.webelement.WebElement (session=\"a045ac1db56ce949d86d280e289b7c9f\", element=\"0da181c9-4de7-4d0e-8cdd-aa9394ca8648\")>,\n",
       " <selenium.webdriver.remote.webelement.WebElement (session=\"a045ac1db56ce949d86d280e289b7c9f\", element=\"6216adc0-42c5-409b-aab1-530166179e42\")>,\n",
       " <selenium.webdriver.remote.webelement.WebElement (session=\"a045ac1db56ce949d86d280e289b7c9f\", element=\"47c0008e-bb59-491f-bd37-8b0a7e1f178e\")>,\n",
       " <selenium.webdriver.remote.webelement.WebElement (session=\"a045ac1db56ce949d86d280e289b7c9f\", element=\"d3311b11-b654-4dac-9127-2751fea47f77\")>,\n",
       " <selenium.webdriver.remote.webelement.WebElement (session=\"a045ac1db56ce949d86d280e289b7c9f\", element=\"576380ba-92c0-4321-a001-dc1073f360d5\")>,\n",
       " <selenium.webdriver.remote.webelement.WebElement (session=\"a045ac1db56ce949d86d280e289b7c9f\", element=\"e585ecf4-e0a6-4cf0-8b44-53aa0fe313f6\")>,\n",
       " <selenium.webdriver.remote.webelement.WebElement (session=\"a045ac1db56ce949d86d280e289b7c9f\", element=\"aa299777-3cc0-4263-b107-d5787066ef05\")>,\n",
       " <selenium.webdriver.remote.webelement.WebElement (session=\"a045ac1db56ce949d86d280e289b7c9f\", element=\"5371e14c-7471-4232-9c98-7eb1a8d6f7a5\")>,\n",
       " <selenium.webdriver.remote.webelement.WebElement (session=\"a045ac1db56ce949d86d280e289b7c9f\", element=\"874484a5-ddd3-4338-94f1-b57350a7ecd8\")>,\n",
       " <selenium.webdriver.remote.webelement.WebElement (session=\"a045ac1db56ce949d86d280e289b7c9f\", element=\"3234c135-e99c-4ce8-8b1c-cf7b6770b13f\")>,\n",
       " <selenium.webdriver.remote.webelement.WebElement (session=\"a045ac1db56ce949d86d280e289b7c9f\", element=\"70749935-458c-43ea-84b0-eed764e04212\")>,\n",
       " <selenium.webdriver.remote.webelement.WebElement (session=\"a045ac1db56ce949d86d280e289b7c9f\", element=\"c7f8785c-e223-4188-9d91-a72b0bf6d87a\")>,\n",
       " <selenium.webdriver.remote.webelement.WebElement (session=\"a045ac1db56ce949d86d280e289b7c9f\", element=\"c0ff7fda-94a2-4a50-8972-1bfb0916f621\")>,\n",
       " <selenium.webdriver.remote.webelement.WebElement (session=\"a045ac1db56ce949d86d280e289b7c9f\", element=\"aef1bdb5-7b80-435d-88d8-bf17cd3ba3d9\")>,\n",
       " <selenium.webdriver.remote.webelement.WebElement (session=\"a045ac1db56ce949d86d280e289b7c9f\", element=\"65ffdef2-ef6d-44c6-8478-5ce814cc93dc\")>,\n",
       " <selenium.webdriver.remote.webelement.WebElement (session=\"a045ac1db56ce949d86d280e289b7c9f\", element=\"7831696e-bbb5-4fef-af3c-bb562beb3742\")>]"
      ]
     },
     "execution_count": 49,
     "metadata": {},
     "output_type": "execute_result"
    }
   ],
   "source": [
    "Name=driver.find_elements_by_xpath(\"//div[@class='_2WkVRV']\")\n",
    "Name[0:100]"
   ]
  },
  {
   "cell_type": "code",
   "execution_count": 50,
   "metadata": {},
   "outputs": [
    {
     "data": {
      "text/plain": [
       "['PIRASO',\n",
       " 'PIRASO',\n",
       " 'FDA COLLECTION',\n",
       " 'FDA COLLECTION',\n",
       " 'Phenomenal',\n",
       " 'Rozzetta Craft',\n",
       " 'shah collections',\n",
       " 'PC STAR',\n",
       " 'Dannilo',\n",
       " 'FDA COLLECTION',\n",
       " 'JOHAENA',\n",
       " 'PIRASO',\n",
       " 'ROZZETTA CRAFT',\n",
       " 'Collet',\n",
       " 'Winsome',\n",
       " 'Royal Son',\n",
       " 'Phenomenal',\n",
       " 'Fastrack',\n",
       " 'shah collections',\n",
       " 'PC STAR',\n",
       " 'Fastrack',\n",
       " 'ROZZETTA CRAFT',\n",
       " 'funglasses',\n",
       " 'Royal Son',\n",
       " 'Riffko',\n",
       " 'Riffko',\n",
       " 'PIRASO',\n",
       " 'ROYAL SON',\n",
       " 'Phenomenal',\n",
       " 'shadz',\n",
       " 'Trendy Glasses',\n",
       " 'PIRASO',\n",
       " 'LOPO',\n",
       " 'like future',\n",
       " 'kingscape',\n",
       " 'Royal Son',\n",
       " 'funglasses',\n",
       " 'Singco India',\n",
       " 'Dannilo',\n",
       " 'PIRASO']"
      ]
     },
     "execution_count": 50,
     "metadata": {},
     "output_type": "execute_result"
    }
   ],
   "source": [
    "for i in Name:\n",
    "    \n",
    "    Name=i.text\n",
    "    Brand_Name.append(Name)\n",
    "Brand_Name[0:100]"
   ]
  },
  {
   "cell_type": "code",
   "execution_count": 51,
   "metadata": {},
   "outputs": [
    {
     "data": {
      "text/plain": [
       "[<selenium.webdriver.remote.webelement.WebElement (session=\"a045ac1db56ce949d86d280e289b7c9f\", element=\"81de5cb0-c000-4753-983f-827f8e277c9f\")>,\n",
       " <selenium.webdriver.remote.webelement.WebElement (session=\"a045ac1db56ce949d86d280e289b7c9f\", element=\"6d735724-1fda-46ce-97c8-ca9f7425d4cf\")>,\n",
       " <selenium.webdriver.remote.webelement.WebElement (session=\"a045ac1db56ce949d86d280e289b7c9f\", element=\"fe23388f-e007-436b-b488-22e493b97d47\")>,\n",
       " <selenium.webdriver.remote.webelement.WebElement (session=\"a045ac1db56ce949d86d280e289b7c9f\", element=\"1bca44d4-3990-455b-8362-4bec87b63a5b\")>,\n",
       " <selenium.webdriver.remote.webelement.WebElement (session=\"a045ac1db56ce949d86d280e289b7c9f\", element=\"a94c935e-19de-4d63-990a-5c6fca906f19\")>,\n",
       " <selenium.webdriver.remote.webelement.WebElement (session=\"a045ac1db56ce949d86d280e289b7c9f\", element=\"faea69f9-6ee5-4010-b0d2-848553dfdb96\")>,\n",
       " <selenium.webdriver.remote.webelement.WebElement (session=\"a045ac1db56ce949d86d280e289b7c9f\", element=\"cdaed698-42a1-4ae8-b413-2f405d630693\")>,\n",
       " <selenium.webdriver.remote.webelement.WebElement (session=\"a045ac1db56ce949d86d280e289b7c9f\", element=\"89f4da2d-3d7c-473d-a39c-2e9efa363b9c\")>,\n",
       " <selenium.webdriver.remote.webelement.WebElement (session=\"a045ac1db56ce949d86d280e289b7c9f\", element=\"e2be00ae-3d53-49fa-8af0-095500cadb6f\")>,\n",
       " <selenium.webdriver.remote.webelement.WebElement (session=\"a045ac1db56ce949d86d280e289b7c9f\", element=\"c66b3688-feef-40a4-bbd0-c1463bcf4373\")>,\n",
       " <selenium.webdriver.remote.webelement.WebElement (session=\"a045ac1db56ce949d86d280e289b7c9f\", element=\"e8ddfe46-a914-4739-b71f-9bceb4254c56\")>,\n",
       " <selenium.webdriver.remote.webelement.WebElement (session=\"a045ac1db56ce949d86d280e289b7c9f\", element=\"cbeb14ff-4faf-4a36-a6c1-e1b8f2a19b12\")>,\n",
       " <selenium.webdriver.remote.webelement.WebElement (session=\"a045ac1db56ce949d86d280e289b7c9f\", element=\"a1fa8a38-f888-476d-9af6-cae6c0b9f6b2\")>,\n",
       " <selenium.webdriver.remote.webelement.WebElement (session=\"a045ac1db56ce949d86d280e289b7c9f\", element=\"de035ec6-5165-4723-9309-5879741a4191\")>,\n",
       " <selenium.webdriver.remote.webelement.WebElement (session=\"a045ac1db56ce949d86d280e289b7c9f\", element=\"46bca2ac-f584-4e63-8dcd-320d178de970\")>,\n",
       " <selenium.webdriver.remote.webelement.WebElement (session=\"a045ac1db56ce949d86d280e289b7c9f\", element=\"31e59178-dff6-4f01-a295-680307263590\")>,\n",
       " <selenium.webdriver.remote.webelement.WebElement (session=\"a045ac1db56ce949d86d280e289b7c9f\", element=\"57970a14-377a-4260-a630-bcd5b5b13c42\")>,\n",
       " <selenium.webdriver.remote.webelement.WebElement (session=\"a045ac1db56ce949d86d280e289b7c9f\", element=\"eb2b9baf-82e5-4a19-99fe-20376d6e3cff\")>,\n",
       " <selenium.webdriver.remote.webelement.WebElement (session=\"a045ac1db56ce949d86d280e289b7c9f\", element=\"9913e173-3eb5-4fe3-b2b6-dec00419a67e\")>,\n",
       " <selenium.webdriver.remote.webelement.WebElement (session=\"a045ac1db56ce949d86d280e289b7c9f\", element=\"8f51226f-53bc-4f5c-af38-732e459d3a7e\")>,\n",
       " <selenium.webdriver.remote.webelement.WebElement (session=\"a045ac1db56ce949d86d280e289b7c9f\", element=\"80580099-d765-413b-9346-f0711ec5189e\")>,\n",
       " <selenium.webdriver.remote.webelement.WebElement (session=\"a045ac1db56ce949d86d280e289b7c9f\", element=\"34936621-1728-457f-97dc-641b934a8d96\")>,\n",
       " <selenium.webdriver.remote.webelement.WebElement (session=\"a045ac1db56ce949d86d280e289b7c9f\", element=\"53045494-f602-4c4a-903a-e6a2fa635e08\")>,\n",
       " <selenium.webdriver.remote.webelement.WebElement (session=\"a045ac1db56ce949d86d280e289b7c9f\", element=\"8711617a-cb91-4447-924a-64a082aabe62\")>,\n",
       " <selenium.webdriver.remote.webelement.WebElement (session=\"a045ac1db56ce949d86d280e289b7c9f\", element=\"8a57caf0-c431-4b38-8316-152d878eb1f3\")>,\n",
       " <selenium.webdriver.remote.webelement.WebElement (session=\"a045ac1db56ce949d86d280e289b7c9f\", element=\"5c591c50-4fa0-43e8-844e-d4519681b22a\")>,\n",
       " <selenium.webdriver.remote.webelement.WebElement (session=\"a045ac1db56ce949d86d280e289b7c9f\", element=\"2ef0d23e-908f-4502-a786-6864a72c7e86\")>,\n",
       " <selenium.webdriver.remote.webelement.WebElement (session=\"a045ac1db56ce949d86d280e289b7c9f\", element=\"77349619-ae24-485c-99d4-acd22d04f993\")>,\n",
       " <selenium.webdriver.remote.webelement.WebElement (session=\"a045ac1db56ce949d86d280e289b7c9f\", element=\"b5699368-5e41-4281-97fc-b64e4e8723ea\")>,\n",
       " <selenium.webdriver.remote.webelement.WebElement (session=\"a045ac1db56ce949d86d280e289b7c9f\", element=\"0e732478-a519-4bff-a9db-eb89186c61bc\")>,\n",
       " <selenium.webdriver.remote.webelement.WebElement (session=\"a045ac1db56ce949d86d280e289b7c9f\", element=\"26c8df94-2ab9-48ad-83a0-ac46a95b9944\")>,\n",
       " <selenium.webdriver.remote.webelement.WebElement (session=\"a045ac1db56ce949d86d280e289b7c9f\", element=\"af2ef6d7-9315-46ff-94a4-a27eb941e28b\")>,\n",
       " <selenium.webdriver.remote.webelement.WebElement (session=\"a045ac1db56ce949d86d280e289b7c9f\", element=\"9f8b6e16-bd84-4361-80cc-5e0fb53eb052\")>,\n",
       " <selenium.webdriver.remote.webelement.WebElement (session=\"a045ac1db56ce949d86d280e289b7c9f\", element=\"20cb70a2-f0a8-492d-a71f-0a69d992fd1d\")>,\n",
       " <selenium.webdriver.remote.webelement.WebElement (session=\"a045ac1db56ce949d86d280e289b7c9f\", element=\"9a412d02-48f6-4df9-a97e-3399a74bc51b\")>,\n",
       " <selenium.webdriver.remote.webelement.WebElement (session=\"a045ac1db56ce949d86d280e289b7c9f\", element=\"f598db61-a400-4d34-8852-e26bc61e6d9b\")>,\n",
       " <selenium.webdriver.remote.webelement.WebElement (session=\"a045ac1db56ce949d86d280e289b7c9f\", element=\"0ee544d0-6fdd-409d-a34e-d99294ba6486\")>,\n",
       " <selenium.webdriver.remote.webelement.WebElement (session=\"a045ac1db56ce949d86d280e289b7c9f\", element=\"4dd9c836-5aba-43a8-b8fa-3358d7cb926d\")>,\n",
       " <selenium.webdriver.remote.webelement.WebElement (session=\"a045ac1db56ce949d86d280e289b7c9f\", element=\"e30b0490-13a6-4a4f-a3a5-ab044c054411\")>,\n",
       " <selenium.webdriver.remote.webelement.WebElement (session=\"a045ac1db56ce949d86d280e289b7c9f\", element=\"737fb6e8-cee7-4bb4-8914-3eeb5f30c65e\")>,\n",
       " <selenium.webdriver.remote.webelement.WebElement (session=\"a045ac1db56ce949d86d280e289b7c9f\", element=\"2a0a44dd-64f5-4e2f-8a30-24d788951415\")>,\n",
       " <selenium.webdriver.remote.webelement.WebElement (session=\"a045ac1db56ce949d86d280e289b7c9f\", element=\"6f11d2b6-5635-4b00-9c74-5aaebc9eb635\")>,\n",
       " <selenium.webdriver.remote.webelement.WebElement (session=\"a045ac1db56ce949d86d280e289b7c9f\", element=\"cb84554b-835a-4619-9a48-57b2e713b1fe\")>,\n",
       " <selenium.webdriver.remote.webelement.WebElement (session=\"a045ac1db56ce949d86d280e289b7c9f\", element=\"46d25a67-4475-4682-9e4f-21443e100ef9\")>,\n",
       " <selenium.webdriver.remote.webelement.WebElement (session=\"a045ac1db56ce949d86d280e289b7c9f\", element=\"98c6a299-cd4b-4d77-b9da-7177da392f74\")>,\n",
       " <selenium.webdriver.remote.webelement.WebElement (session=\"a045ac1db56ce949d86d280e289b7c9f\", element=\"aca9634f-2c3c-4615-a021-7267aa0539aa\")>,\n",
       " <selenium.webdriver.remote.webelement.WebElement (session=\"a045ac1db56ce949d86d280e289b7c9f\", element=\"61bd8fd3-d91c-44c1-bb0c-61a8e3be100d\")>,\n",
       " <selenium.webdriver.remote.webelement.WebElement (session=\"a045ac1db56ce949d86d280e289b7c9f\", element=\"36026916-9f92-4f0a-b479-2f8c223e4085\")>,\n",
       " <selenium.webdriver.remote.webelement.WebElement (session=\"a045ac1db56ce949d86d280e289b7c9f\", element=\"3c746d6e-93d3-44a5-9272-cae162a96a75\")>,\n",
       " <selenium.webdriver.remote.webelement.WebElement (session=\"a045ac1db56ce949d86d280e289b7c9f\", element=\"e3a9c82c-efab-41ec-a010-cfc313f6e9c3\")>,\n",
       " <selenium.webdriver.remote.webelement.WebElement (session=\"a045ac1db56ce949d86d280e289b7c9f\", element=\"6312fb96-3e0a-457d-89cb-b6875e09556e\")>,\n",
       " <selenium.webdriver.remote.webelement.WebElement (session=\"a045ac1db56ce949d86d280e289b7c9f\", element=\"988acbf4-0959-44fe-9fd9-5e6adc3c1add\")>,\n",
       " <selenium.webdriver.remote.webelement.WebElement (session=\"a045ac1db56ce949d86d280e289b7c9f\", element=\"cd5177c0-9474-40a5-8f1e-9cf60bc35512\")>,\n",
       " <selenium.webdriver.remote.webelement.WebElement (session=\"a045ac1db56ce949d86d280e289b7c9f\", element=\"4bcd6271-88fa-42d3-967a-7b9083869dc5\")>,\n",
       " <selenium.webdriver.remote.webelement.WebElement (session=\"a045ac1db56ce949d86d280e289b7c9f\", element=\"6b851ec6-9e95-4f33-aec1-45fa0ef7006b\")>,\n",
       " <selenium.webdriver.remote.webelement.WebElement (session=\"a045ac1db56ce949d86d280e289b7c9f\", element=\"758597fa-de42-4c62-9268-dcb7a9087b70\")>,\n",
       " <selenium.webdriver.remote.webelement.WebElement (session=\"a045ac1db56ce949d86d280e289b7c9f\", element=\"9f919520-bb4f-4636-b0cc-2e7876927f48\")>,\n",
       " <selenium.webdriver.remote.webelement.WebElement (session=\"a045ac1db56ce949d86d280e289b7c9f\", element=\"b8c52a08-8c18-4417-ac4f-f49f51dad5fc\")>,\n",
       " <selenium.webdriver.remote.webelement.WebElement (session=\"a045ac1db56ce949d86d280e289b7c9f\", element=\"a8776e56-e64b-4fb0-afc0-b902a8f827b0\")>,\n",
       " <selenium.webdriver.remote.webelement.WebElement (session=\"a045ac1db56ce949d86d280e289b7c9f\", element=\"8de89777-d088-4a37-91f1-7e30fb01b61c\")>,\n",
       " <selenium.webdriver.remote.webelement.WebElement (session=\"a045ac1db56ce949d86d280e289b7c9f\", element=\"92924654-f553-4f7f-8ed8-8a54d3af7fac\")>,\n",
       " <selenium.webdriver.remote.webelement.WebElement (session=\"a045ac1db56ce949d86d280e289b7c9f\", element=\"49873cfb-f681-4726-a50f-eb2a5b6922b0\")>,\n",
       " <selenium.webdriver.remote.webelement.WebElement (session=\"a045ac1db56ce949d86d280e289b7c9f\", element=\"a51e77ce-4c89-4738-ab45-71f52368ff25\")>,\n",
       " <selenium.webdriver.remote.webelement.WebElement (session=\"a045ac1db56ce949d86d280e289b7c9f\", element=\"0dde4000-866e-4f62-aa0f-93f84630df63\")>,\n",
       " <selenium.webdriver.remote.webelement.WebElement (session=\"a045ac1db56ce949d86d280e289b7c9f\", element=\"891c00cf-d706-45c8-b26f-229737ed0fe9\")>,\n",
       " <selenium.webdriver.remote.webelement.WebElement (session=\"a045ac1db56ce949d86d280e289b7c9f\", element=\"902ab273-8a11-43f8-bdbd-198c235f56f4\")>,\n",
       " <selenium.webdriver.remote.webelement.WebElement (session=\"a045ac1db56ce949d86d280e289b7c9f\", element=\"dbcc3c77-f90c-45f9-b251-f1ef98393736\")>,\n",
       " <selenium.webdriver.remote.webelement.WebElement (session=\"a045ac1db56ce949d86d280e289b7c9f\", element=\"ade15d98-4608-4581-be0a-f8b1e63999c7\")>,\n",
       " <selenium.webdriver.remote.webelement.WebElement (session=\"a045ac1db56ce949d86d280e289b7c9f\", element=\"3f61437f-3751-45b3-aed3-cbd5b27aac16\")>,\n",
       " <selenium.webdriver.remote.webelement.WebElement (session=\"a045ac1db56ce949d86d280e289b7c9f\", element=\"5d7c8bfc-1751-4d8a-a9b6-fc71246c5924\")>,\n",
       " <selenium.webdriver.remote.webelement.WebElement (session=\"a045ac1db56ce949d86d280e289b7c9f\", element=\"727256c4-0e02-4484-b5b1-00055df1f882\")>,\n",
       " <selenium.webdriver.remote.webelement.WebElement (session=\"a045ac1db56ce949d86d280e289b7c9f\", element=\"725a5716-9b8b-4f13-b79d-23c3429cead9\")>,\n",
       " <selenium.webdriver.remote.webelement.WebElement (session=\"a045ac1db56ce949d86d280e289b7c9f\", element=\"32888f39-66f7-4980-8a98-1d0d047ee851\")>,\n",
       " <selenium.webdriver.remote.webelement.WebElement (session=\"a045ac1db56ce949d86d280e289b7c9f\", element=\"1a3f0890-cfd3-4bfb-afb2-8cb8655e8f1c\")>,\n",
       " <selenium.webdriver.remote.webelement.WebElement (session=\"a045ac1db56ce949d86d280e289b7c9f\", element=\"f5f3fde8-6786-48d8-aa6f-33e8785042ed\")>,\n",
       " <selenium.webdriver.remote.webelement.WebElement (session=\"a045ac1db56ce949d86d280e289b7c9f\", element=\"2afd6609-3251-41da-97f4-75eefe6576ca\")>,\n",
       " <selenium.webdriver.remote.webelement.WebElement (session=\"a045ac1db56ce949d86d280e289b7c9f\", element=\"18fe3699-532d-48e5-9417-bb866b7aa79f\")>,\n",
       " <selenium.webdriver.remote.webelement.WebElement (session=\"a045ac1db56ce949d86d280e289b7c9f\", element=\"665be3f3-c158-4772-b988-5c28c098cddb\")>,\n",
       " <selenium.webdriver.remote.webelement.WebElement (session=\"a045ac1db56ce949d86d280e289b7c9f\", element=\"107166ac-8bec-4c32-9ac1-4b1ab1b35d06\")>,\n",
       " <selenium.webdriver.remote.webelement.WebElement (session=\"a045ac1db56ce949d86d280e289b7c9f\", element=\"15125da1-c7bc-4b1a-9ad2-bb5a95753153\")>,\n",
       " <selenium.webdriver.remote.webelement.WebElement (session=\"a045ac1db56ce949d86d280e289b7c9f\", element=\"f1cf65f5-4277-40f5-85e4-63ee5a3a7b63\")>,\n",
       " <selenium.webdriver.remote.webelement.WebElement (session=\"a045ac1db56ce949d86d280e289b7c9f\", element=\"fe9a0f26-03ff-4fa2-9e4e-aabadd9b9f4d\")>,\n",
       " <selenium.webdriver.remote.webelement.WebElement (session=\"a045ac1db56ce949d86d280e289b7c9f\", element=\"07f28e8b-be8b-4dc9-88f7-1811d7efe7fe\")>,\n",
       " <selenium.webdriver.remote.webelement.WebElement (session=\"a045ac1db56ce949d86d280e289b7c9f\", element=\"8680011f-7f69-4768-9577-20ef7936e058\")>,\n",
       " <selenium.webdriver.remote.webelement.WebElement (session=\"a045ac1db56ce949d86d280e289b7c9f\", element=\"5e230181-8e51-401f-9d3f-00853da9e335\")>,\n",
       " <selenium.webdriver.remote.webelement.WebElement (session=\"a045ac1db56ce949d86d280e289b7c9f\", element=\"023c8db7-4174-4a0c-8708-c5fb8d1a697a\")>,\n",
       " <selenium.webdriver.remote.webelement.WebElement (session=\"a045ac1db56ce949d86d280e289b7c9f\", element=\"bc3237fd-20c2-4698-bdaa-e67ca59a506e\")>,\n",
       " <selenium.webdriver.remote.webelement.WebElement (session=\"a045ac1db56ce949d86d280e289b7c9f\", element=\"08d8d15f-c292-44ee-9e43-1b01ae973f65\")>,\n",
       " <selenium.webdriver.remote.webelement.WebElement (session=\"a045ac1db56ce949d86d280e289b7c9f\", element=\"9a05784f-2449-4bdc-8c58-af3ba43aa835\")>,\n",
       " <selenium.webdriver.remote.webelement.WebElement (session=\"a045ac1db56ce949d86d280e289b7c9f\", element=\"2dcf7d3a-3ac7-41ea-bb64-96cda89641cc\")>,\n",
       " <selenium.webdriver.remote.webelement.WebElement (session=\"a045ac1db56ce949d86d280e289b7c9f\", element=\"36cde95c-7e4a-48ba-94ff-68d7a56db81e\")>,\n",
       " <selenium.webdriver.remote.webelement.WebElement (session=\"a045ac1db56ce949d86d280e289b7c9f\", element=\"e8679422-9e59-4ad1-8717-bb9a1b21d7bc\")>,\n",
       " <selenium.webdriver.remote.webelement.WebElement (session=\"a045ac1db56ce949d86d280e289b7c9f\", element=\"e168a41e-2a9a-478b-804d-c245ceb2c048\")>,\n",
       " <selenium.webdriver.remote.webelement.WebElement (session=\"a045ac1db56ce949d86d280e289b7c9f\", element=\"c960ee9e-5360-4280-93ac-883a05e03473\")>,\n",
       " <selenium.webdriver.remote.webelement.WebElement (session=\"a045ac1db56ce949d86d280e289b7c9f\", element=\"bf2033d5-4a2b-43e8-a6fe-598fcdaae393\")>,\n",
       " <selenium.webdriver.remote.webelement.WebElement (session=\"a045ac1db56ce949d86d280e289b7c9f\", element=\"6be91ef0-b7da-4af5-aee3-47942cae62e4\")>,\n",
       " <selenium.webdriver.remote.webelement.WebElement (session=\"a045ac1db56ce949d86d280e289b7c9f\", element=\"d118dcc6-b17c-46d7-9973-81058d1fc5dc\")>,\n",
       " <selenium.webdriver.remote.webelement.WebElement (session=\"a045ac1db56ce949d86d280e289b7c9f\", element=\"38482944-8f17-48f8-800c-f0190bba005c\")>,\n",
       " <selenium.webdriver.remote.webelement.WebElement (session=\"a045ac1db56ce949d86d280e289b7c9f\", element=\"14945480-6815-4a00-98f4-14e30b708a2b\")>,\n",
       " <selenium.webdriver.remote.webelement.WebElement (session=\"a045ac1db56ce949d86d280e289b7c9f\", element=\"7951b3bb-709a-4c0a-82f9-658f3c91f69e\")>,\n",
       " <selenium.webdriver.remote.webelement.WebElement (session=\"a045ac1db56ce949d86d280e289b7c9f\", element=\"71e85c06-1600-4283-a8c9-004f65b01b17\")>,\n",
       " <selenium.webdriver.remote.webelement.WebElement (session=\"a045ac1db56ce949d86d280e289b7c9f\", element=\"d05ab585-f882-4a7c-a88a-b22b4c97f9c7\")>,\n",
       " <selenium.webdriver.remote.webelement.WebElement (session=\"a045ac1db56ce949d86d280e289b7c9f\", element=\"fd91b168-b2e5-4a68-b5e2-cb554d72edbc\")>,\n",
       " <selenium.webdriver.remote.webelement.WebElement (session=\"a045ac1db56ce949d86d280e289b7c9f\", element=\"f9ae4071-f156-4e2b-a69c-0672db0f5303\")>,\n",
       " <selenium.webdriver.remote.webelement.WebElement (session=\"a045ac1db56ce949d86d280e289b7c9f\", element=\"40ee2325-f7a4-42db-9a66-bf1888ffb85f\")>,\n",
       " <selenium.webdriver.remote.webelement.WebElement (session=\"a045ac1db56ce949d86d280e289b7c9f\", element=\"c56c9a14-0421-4be0-9dba-8cb3ff19fe5f\")>,\n",
       " <selenium.webdriver.remote.webelement.WebElement (session=\"a045ac1db56ce949d86d280e289b7c9f\", element=\"8ea21c9e-6e44-4219-8bbe-2608831c98d4\")>,\n",
       " <selenium.webdriver.remote.webelement.WebElement (session=\"a045ac1db56ce949d86d280e289b7c9f\", element=\"8b0bfcde-3f4b-48ad-ba68-40089d75341f\")>,\n",
       " <selenium.webdriver.remote.webelement.WebElement (session=\"a045ac1db56ce949d86d280e289b7c9f\", element=\"c0315925-7793-40df-a73d-9ab97562382f\")>,\n",
       " <selenium.webdriver.remote.webelement.WebElement (session=\"a045ac1db56ce949d86d280e289b7c9f\", element=\"0df45053-b046-4e75-afcd-164e98be2f47\")>,\n",
       " <selenium.webdriver.remote.webelement.WebElement (session=\"a045ac1db56ce949d86d280e289b7c9f\", element=\"ff10e34a-ca92-45ba-88b7-6bf8317a2fe7\")>,\n",
       " <selenium.webdriver.remote.webelement.WebElement (session=\"a045ac1db56ce949d86d280e289b7c9f\", element=\"d3a94630-33a8-4983-b440-dc8643b48ef6\")>,\n",
       " <selenium.webdriver.remote.webelement.WebElement (session=\"a045ac1db56ce949d86d280e289b7c9f\", element=\"8f58f9ca-5e7b-4dc0-abd5-911f931af855\")>,\n",
       " <selenium.webdriver.remote.webelement.WebElement (session=\"a045ac1db56ce949d86d280e289b7c9f\", element=\"a6af8bdc-e9dd-41e0-9277-ba795c48cd58\")>,\n",
       " <selenium.webdriver.remote.webelement.WebElement (session=\"a045ac1db56ce949d86d280e289b7c9f\", element=\"3ef7fc97-0714-4268-85ab-2d27bc665ead\")>,\n",
       " <selenium.webdriver.remote.webelement.WebElement (session=\"a045ac1db56ce949d86d280e289b7c9f\", element=\"349180ab-6d10-4e1c-b029-7547f533186f\")>,\n",
       " <selenium.webdriver.remote.webelement.WebElement (session=\"a045ac1db56ce949d86d280e289b7c9f\", element=\"2f46a070-a720-42fd-a26d-af04996a22bd\")>,\n",
       " <selenium.webdriver.remote.webelement.WebElement (session=\"a045ac1db56ce949d86d280e289b7c9f\", element=\"3cd4ba7d-a22f-4cd5-89e1-fb8696ee20a7\")>,\n",
       " <selenium.webdriver.remote.webelement.WebElement (session=\"a045ac1db56ce949d86d280e289b7c9f\", element=\"9651e908-24e0-4cd1-92fd-ff68a0bba15e\")>,\n",
       " <selenium.webdriver.remote.webelement.WebElement (session=\"a045ac1db56ce949d86d280e289b7c9f\", element=\"c37e8b3b-0183-4548-be26-3acccf655c5c\")>,\n",
       " <selenium.webdriver.remote.webelement.WebElement (session=\"a045ac1db56ce949d86d280e289b7c9f\", element=\"b32d3e24-211d-4183-a613-01016dcb16df\")>,\n",
       " <selenium.webdriver.remote.webelement.WebElement (session=\"a045ac1db56ce949d86d280e289b7c9f\", element=\"78999021-fbe2-4213-b5a2-6ce86fdbae97\")>,\n",
       " <selenium.webdriver.remote.webelement.WebElement (session=\"a045ac1db56ce949d86d280e289b7c9f\", element=\"fb533c83-011f-4f69-a75e-04ceab786f4c\")>,\n",
       " <selenium.webdriver.remote.webelement.WebElement (session=\"a045ac1db56ce949d86d280e289b7c9f\", element=\"8ae5db41-f1d7-4980-be2d-d3879fcfaef1\")>,\n",
       " <selenium.webdriver.remote.webelement.WebElement (session=\"a045ac1db56ce949d86d280e289b7c9f\", element=\"5916e050-901e-4162-a466-9e7f3e004eb9\")>]"
      ]
     },
     "execution_count": 51,
     "metadata": {},
     "output_type": "execute_result"
    }
   ],
   "source": [
    "Descr=driver.find_elements_by_xpath(\"//a[@rel='noopener noreferrer']\")\n",
    "Descr[0:100]"
   ]
  },
  {
   "cell_type": "code",
   "execution_count": 52,
   "metadata": {},
   "outputs": [
    {
     "data": {
      "text/plain": [
       "['',\n",
       " 'UV Protection Aviator Sunglasses (Free Size)',\n",
       " '₹349₹1,59978% off',\n",
       " '',\n",
       " 'UV Protection Round Sunglasses (Free Size)',\n",
       " '₹381₹2,59985% off',\n",
       " '',\n",
       " 'Gradient, Mirrored, UV Protection Round, Round, Round S...',\n",
       " '₹210₹1,30083% off',\n",
       " '',\n",
       " 'Gradient, Mirrored, UV Protection Round, Round, Round S...',\n",
       " '₹210₹1,49985% off',\n",
       " '',\n",
       " 'UV Protection, Mirrored Retro Square Sunglasses (53)',\n",
       " '₹399₹1,99980% off',\n",
       " '',\n",
       " 'UV Protection Rectangular Sunglasses (Free Size)',\n",
       " '₹398₹1,49973% off',\n",
       " '',\n",
       " 'UV Protection Round Sunglasses (Free Size)',\n",
       " '₹331₹1,69980% off',\n",
       " '',\n",
       " 'UV Protection Round Sunglasses (Free Size)',\n",
       " '₹202₹99979% off',\n",
       " '',\n",
       " 'Gradient, UV Protection, Others Aviator Sunglasses (Fre...',\n",
       " '₹233₹1,20080% off',\n",
       " '',\n",
       " 'Gradient, Mirrored, UV Protection, Polarized Round, Rou...',\n",
       " '₹175₹99982% off',\n",
       " '',\n",
       " 'Riding Glasses, UV Protection Oval Sunglasses (52)',\n",
       " '₹174₹1,29986% off',\n",
       " '',\n",
       " 'UV Protection Rectangular, Over-sized Sunglasses (Free ...',\n",
       " '₹499₹2,99983% off',\n",
       " '',\n",
       " 'UV Protection Retro Square Sunglasses (Free Size)',\n",
       " '₹449₹2,22579% off',\n",
       " '',\n",
       " 'Gradient, Mirrored, UV Protection Aviator Sunglasses (F...',\n",
       " '₹199₹1,49986% off',\n",
       " '',\n",
       " 'UV Protection Round Sunglasses (54)',\n",
       " '₹172₹99982% off',\n",
       " '',\n",
       " 'UV Protection Wayfarer Sunglasses (55)',\n",
       " '₹255₹1,29980% off',\n",
       " '',\n",
       " 'UV Protection Retro Square Sunglasses (Free Size)',\n",
       " '₹399₹1,99980% off',\n",
       " '',\n",
       " 'UV Protection Wayfarer Sunglasses (Free Size)',\n",
       " '₹759₹89915% off',\n",
       " '',\n",
       " 'UV Protection Round Sunglasses (Free Size)',\n",
       " '₹312₹1,29975% off',\n",
       " '',\n",
       " 'UV Protection, Riding Glasses, Mirrored Rectangular Sun...',\n",
       " '₹238₹99976% off',\n",
       " '',\n",
       " 'Gradient, UV Protection Wayfarer Sunglasses (Free Size)',\n",
       " '₹645₹79919% off',\n",
       " '',\n",
       " 'UV Protection, Gradient Rectangular Sunglasses (Free Si...',\n",
       " '₹449₹1,99977% off',\n",
       " '',\n",
       " 'UV Protection, Night Vision, Riding Glasses Round Sungl...',\n",
       " '₹170₹99982% off',\n",
       " '',\n",
       " 'UV Protection Retro Square Sunglasses (49)',\n",
       " '₹699₹1,99965% off',\n",
       " '',\n",
       " 'UV Protection Wayfarer Sunglasses (55)',\n",
       " '₹189₹1,19984% off',\n",
       " '',\n",
       " 'UV Protection Round Sunglasses (55)',\n",
       " '₹175₹99982% off',\n",
       " '',\n",
       " 'UV Protection Aviator Sunglasses (58)',\n",
       " '₹349₹2,59986% off',\n",
       " '',\n",
       " 'UV Protection Retro Square Sunglasses (88)',\n",
       " '₹599₹1,99970% off',\n",
       " '',\n",
       " 'Polarized, UV Protection, Gradient Rectangular Sunglass...',\n",
       " '₹299₹1,99985% off',\n",
       " '',\n",
       " 'UV Protection, Polarized Retro Square Sunglasses (59)',\n",
       " '₹299₹1,29976% off',\n",
       " '',\n",
       " 'UV Protection, Night Vision Retro Square Sunglasses (Fr...',\n",
       " '₹249₹1,79986% off',\n",
       " '',\n",
       " 'UV Protection Aviator Sunglasses (54)',\n",
       " '₹228₹1,59985% off',\n",
       " '',\n",
       " 'Polarized, Mirrored, UV Protection Retro Square, Over-s...',\n",
       " '₹109₹69984% off',\n",
       " '']"
      ]
     },
     "execution_count": 52,
     "metadata": {},
     "output_type": "execute_result"
    }
   ],
   "source": [
    "for i in Descr:\n",
    "    Descr=i.text\n",
    "    product_Descr.append(Descr)\n",
    "product_Descr[0:100]"
   ]
  },
  {
   "cell_type": "code",
   "execution_count": 53,
   "metadata": {},
   "outputs": [
    {
     "data": {
      "text/plain": [
       "[<selenium.webdriver.remote.webelement.WebElement (session=\"a045ac1db56ce949d86d280e289b7c9f\", element=\"10a06728-574f-4042-bbe7-15a9fdade8d3\")>,\n",
       " <selenium.webdriver.remote.webelement.WebElement (session=\"a045ac1db56ce949d86d280e289b7c9f\", element=\"e338e978-0a1d-4a5f-bb03-11042a0aa130\")>,\n",
       " <selenium.webdriver.remote.webelement.WebElement (session=\"a045ac1db56ce949d86d280e289b7c9f\", element=\"ca75ac6f-79b9-4d85-baa8-5a3208799007\")>,\n",
       " <selenium.webdriver.remote.webelement.WebElement (session=\"a045ac1db56ce949d86d280e289b7c9f\", element=\"51c25aa2-ee12-4ef1-9a72-da040af4156e\")>,\n",
       " <selenium.webdriver.remote.webelement.WebElement (session=\"a045ac1db56ce949d86d280e289b7c9f\", element=\"5dc2c0f0-c19d-4a63-853c-43c396c4a9d5\")>,\n",
       " <selenium.webdriver.remote.webelement.WebElement (session=\"a045ac1db56ce949d86d280e289b7c9f\", element=\"791376ca-3773-4900-a593-88ce49021810\")>,\n",
       " <selenium.webdriver.remote.webelement.WebElement (session=\"a045ac1db56ce949d86d280e289b7c9f\", element=\"7eae34fa-c5a7-4379-9430-16cbb2024148\")>,\n",
       " <selenium.webdriver.remote.webelement.WebElement (session=\"a045ac1db56ce949d86d280e289b7c9f\", element=\"2b491dde-3610-4256-a7b3-19114f3bf3ad\")>,\n",
       " <selenium.webdriver.remote.webelement.WebElement (session=\"a045ac1db56ce949d86d280e289b7c9f\", element=\"b3a84bef-c796-4a35-8c53-696d4af739a8\")>,\n",
       " <selenium.webdriver.remote.webelement.WebElement (session=\"a045ac1db56ce949d86d280e289b7c9f\", element=\"687267aa-871a-47f7-b12c-8485715ad5ee\")>,\n",
       " <selenium.webdriver.remote.webelement.WebElement (session=\"a045ac1db56ce949d86d280e289b7c9f\", element=\"db5d5074-68cb-4072-a988-27585c3ed31e\")>,\n",
       " <selenium.webdriver.remote.webelement.WebElement (session=\"a045ac1db56ce949d86d280e289b7c9f\", element=\"ca034136-7d9f-429b-9124-806823e4bd6d\")>,\n",
       " <selenium.webdriver.remote.webelement.WebElement (session=\"a045ac1db56ce949d86d280e289b7c9f\", element=\"e961494a-a85b-42fc-9524-54b8c0a73bdb\")>,\n",
       " <selenium.webdriver.remote.webelement.WebElement (session=\"a045ac1db56ce949d86d280e289b7c9f\", element=\"07b58670-1505-49b6-bb12-2929747658a9\")>,\n",
       " <selenium.webdriver.remote.webelement.WebElement (session=\"a045ac1db56ce949d86d280e289b7c9f\", element=\"c5c12e01-1313-49eb-b113-4cd605d081ad\")>,\n",
       " <selenium.webdriver.remote.webelement.WebElement (session=\"a045ac1db56ce949d86d280e289b7c9f\", element=\"7b7ea351-14f2-42e0-b079-323485d844f9\")>,\n",
       " <selenium.webdriver.remote.webelement.WebElement (session=\"a045ac1db56ce949d86d280e289b7c9f\", element=\"ab1ab559-5365-41cf-996f-1d443c556473\")>,\n",
       " <selenium.webdriver.remote.webelement.WebElement (session=\"a045ac1db56ce949d86d280e289b7c9f\", element=\"f13045ab-0c82-43b8-819d-e917f9773f84\")>,\n",
       " <selenium.webdriver.remote.webelement.WebElement (session=\"a045ac1db56ce949d86d280e289b7c9f\", element=\"97d96781-5264-417f-8828-17096fe02a08\")>,\n",
       " <selenium.webdriver.remote.webelement.WebElement (session=\"a045ac1db56ce949d86d280e289b7c9f\", element=\"dffaa57c-999d-4437-9d27-53db94527cfe\")>,\n",
       " <selenium.webdriver.remote.webelement.WebElement (session=\"a045ac1db56ce949d86d280e289b7c9f\", element=\"0c472506-1ec2-4683-a677-975617028aca\")>,\n",
       " <selenium.webdriver.remote.webelement.WebElement (session=\"a045ac1db56ce949d86d280e289b7c9f\", element=\"e7221052-bd8b-4c73-9a46-ac343189c5e0\")>,\n",
       " <selenium.webdriver.remote.webelement.WebElement (session=\"a045ac1db56ce949d86d280e289b7c9f\", element=\"b8356395-addf-4e7e-8780-ca4dff70fae2\")>,\n",
       " <selenium.webdriver.remote.webelement.WebElement (session=\"a045ac1db56ce949d86d280e289b7c9f\", element=\"d83e536e-6f11-48f2-b23d-0c7dd71efede\")>,\n",
       " <selenium.webdriver.remote.webelement.WebElement (session=\"a045ac1db56ce949d86d280e289b7c9f\", element=\"f1b2329b-2f85-4b40-9f95-49613ad265c1\")>,\n",
       " <selenium.webdriver.remote.webelement.WebElement (session=\"a045ac1db56ce949d86d280e289b7c9f\", element=\"53998faa-f866-4b9a-8fa0-b987e981f795\")>,\n",
       " <selenium.webdriver.remote.webelement.WebElement (session=\"a045ac1db56ce949d86d280e289b7c9f\", element=\"1ee382b2-1dd2-4a55-b430-6a16360e9cbe\")>,\n",
       " <selenium.webdriver.remote.webelement.WebElement (session=\"a045ac1db56ce949d86d280e289b7c9f\", element=\"0c9fa4fa-e152-4165-bbf7-16c7db83af7c\")>,\n",
       " <selenium.webdriver.remote.webelement.WebElement (session=\"a045ac1db56ce949d86d280e289b7c9f\", element=\"d882dcef-1d7f-439d-8f84-671c4f02d293\")>,\n",
       " <selenium.webdriver.remote.webelement.WebElement (session=\"a045ac1db56ce949d86d280e289b7c9f\", element=\"e6c29b8b-392c-4888-879f-7554d59f3c5a\")>,\n",
       " <selenium.webdriver.remote.webelement.WebElement (session=\"a045ac1db56ce949d86d280e289b7c9f\", element=\"3b1bf786-cb54-4e27-a8ad-abd1302717e6\")>,\n",
       " <selenium.webdriver.remote.webelement.WebElement (session=\"a045ac1db56ce949d86d280e289b7c9f\", element=\"b83197e2-fec2-4aa5-ab30-aad6ef305c59\")>,\n",
       " <selenium.webdriver.remote.webelement.WebElement (session=\"a045ac1db56ce949d86d280e289b7c9f\", element=\"8c886c1a-164f-4fe4-bdf1-00c938bb12f5\")>,\n",
       " <selenium.webdriver.remote.webelement.WebElement (session=\"a045ac1db56ce949d86d280e289b7c9f\", element=\"96ee34fe-4dda-4eaf-b982-c859ee10c766\")>,\n",
       " <selenium.webdriver.remote.webelement.WebElement (session=\"a045ac1db56ce949d86d280e289b7c9f\", element=\"efb2fe74-18a2-436c-9160-b732a0c0785f\")>,\n",
       " <selenium.webdriver.remote.webelement.WebElement (session=\"a045ac1db56ce949d86d280e289b7c9f\", element=\"10be1a18-69e2-4e21-8adf-f049bcad4f8e\")>,\n",
       " <selenium.webdriver.remote.webelement.WebElement (session=\"a045ac1db56ce949d86d280e289b7c9f\", element=\"94049a1b-5cdd-41ae-b836-92cb96c86124\")>,\n",
       " <selenium.webdriver.remote.webelement.WebElement (session=\"a045ac1db56ce949d86d280e289b7c9f\", element=\"3ab1a3a8-d2be-45c8-ac66-18a6e4af0f18\")>,\n",
       " <selenium.webdriver.remote.webelement.WebElement (session=\"a045ac1db56ce949d86d280e289b7c9f\", element=\"473255e1-27fd-4512-a87b-5be02fc9c4d2\")>,\n",
       " <selenium.webdriver.remote.webelement.WebElement (session=\"a045ac1db56ce949d86d280e289b7c9f\", element=\"4da2b709-fc25-4a55-a3df-0edbdb0f9990\")>]"
      ]
     },
     "execution_count": 53,
     "metadata": {},
     "output_type": "execute_result"
    }
   ],
   "source": [
    "value=driver.find_elements_by_xpath(\"//div[@class='_30jeq3']\")\n",
    "value[0:100]"
   ]
  },
  {
   "cell_type": "code",
   "execution_count": 54,
   "metadata": {},
   "outputs": [
    {
     "data": {
      "text/plain": [
       "['₹349',\n",
       " '₹381',\n",
       " '₹210',\n",
       " '₹210',\n",
       " '₹399',\n",
       " '₹398',\n",
       " '₹331',\n",
       " '₹202',\n",
       " '₹233',\n",
       " '₹175',\n",
       " '₹174',\n",
       " '₹499',\n",
       " '₹449',\n",
       " '₹199',\n",
       " '₹172',\n",
       " '₹255',\n",
       " '₹399',\n",
       " '₹759',\n",
       " '₹312',\n",
       " '₹238',\n",
       " '₹645',\n",
       " '₹449',\n",
       " '₹170',\n",
       " '₹699',\n",
       " '₹189',\n",
       " '₹175',\n",
       " '₹349',\n",
       " '₹599',\n",
       " '₹299',\n",
       " '₹299',\n",
       " '₹249',\n",
       " '₹228',\n",
       " '₹109',\n",
       " '₹181',\n",
       " '₹309',\n",
       " '₹199',\n",
       " '₹169',\n",
       " '₹175',\n",
       " '₹236',\n",
       " '₹228']"
      ]
     },
     "execution_count": 54,
     "metadata": {},
     "output_type": "execute_result"
    }
   ],
   "source": [
    "for i in value:\n",
    "    value=i.text\n",
    "    price_value.append(value)\n",
    "price_value[0:100]"
   ]
  },
  {
   "cell_type": "code",
   "execution_count": 55,
   "metadata": {},
   "outputs": [
    {
     "data": {
      "text/plain": [
       "[<selenium.webdriver.remote.webelement.WebElement (session=\"a045ac1db56ce949d86d280e289b7c9f\", element=\"57945033-e691-4c48-89c6-423191025ab9\")>,\n",
       " <selenium.webdriver.remote.webelement.WebElement (session=\"a045ac1db56ce949d86d280e289b7c9f\", element=\"9e341f8b-409e-4638-9e92-9f002a0c0887\")>,\n",
       " <selenium.webdriver.remote.webelement.WebElement (session=\"a045ac1db56ce949d86d280e289b7c9f\", element=\"478728e9-2238-4d88-be01-9db45216a9c4\")>,\n",
       " <selenium.webdriver.remote.webelement.WebElement (session=\"a045ac1db56ce949d86d280e289b7c9f\", element=\"09c5e307-9d28-4f75-b44b-06843103be28\")>,\n",
       " <selenium.webdriver.remote.webelement.WebElement (session=\"a045ac1db56ce949d86d280e289b7c9f\", element=\"48277170-d6e4-4763-baf5-948dfd9cac62\")>,\n",
       " <selenium.webdriver.remote.webelement.WebElement (session=\"a045ac1db56ce949d86d280e289b7c9f\", element=\"63ca0bb8-5fd6-4d82-a328-91069782a441\")>,\n",
       " <selenium.webdriver.remote.webelement.WebElement (session=\"a045ac1db56ce949d86d280e289b7c9f\", element=\"1b9dcac4-af7a-4bb5-9780-ff20bb39444b\")>,\n",
       " <selenium.webdriver.remote.webelement.WebElement (session=\"a045ac1db56ce949d86d280e289b7c9f\", element=\"ef464250-a332-480a-b6cf-b3c1a4829079\")>,\n",
       " <selenium.webdriver.remote.webelement.WebElement (session=\"a045ac1db56ce949d86d280e289b7c9f\", element=\"0e1bf620-aef5-4980-9a56-45684cfefb53\")>,\n",
       " <selenium.webdriver.remote.webelement.WebElement (session=\"a045ac1db56ce949d86d280e289b7c9f\", element=\"bff8e144-cf05-40f3-a1c6-ea633c770abd\")>,\n",
       " <selenium.webdriver.remote.webelement.WebElement (session=\"a045ac1db56ce949d86d280e289b7c9f\", element=\"cfaed82e-ea75-43a2-a0d5-023ad34b54e5\")>,\n",
       " <selenium.webdriver.remote.webelement.WebElement (session=\"a045ac1db56ce949d86d280e289b7c9f\", element=\"b668f557-93aa-4559-8e32-9645886ac48f\")>,\n",
       " <selenium.webdriver.remote.webelement.WebElement (session=\"a045ac1db56ce949d86d280e289b7c9f\", element=\"a2aebe6a-39d0-4d8a-a91e-8dc229bb7dfc\")>,\n",
       " <selenium.webdriver.remote.webelement.WebElement (session=\"a045ac1db56ce949d86d280e289b7c9f\", element=\"279c20eb-8217-4cdb-bdb9-464c41e81ec0\")>,\n",
       " <selenium.webdriver.remote.webelement.WebElement (session=\"a045ac1db56ce949d86d280e289b7c9f\", element=\"8a61c004-b671-4240-9ae4-940459aff379\")>,\n",
       " <selenium.webdriver.remote.webelement.WebElement (session=\"a045ac1db56ce949d86d280e289b7c9f\", element=\"a872d838-9684-4b88-a7bd-ac7c66587c15\")>,\n",
       " <selenium.webdriver.remote.webelement.WebElement (session=\"a045ac1db56ce949d86d280e289b7c9f\", element=\"737e6116-0e9d-4d4d-a1e2-7e2543a52d64\")>,\n",
       " <selenium.webdriver.remote.webelement.WebElement (session=\"a045ac1db56ce949d86d280e289b7c9f\", element=\"8d1a7710-43c9-45e7-aa1d-addaf4a1cb10\")>,\n",
       " <selenium.webdriver.remote.webelement.WebElement (session=\"a045ac1db56ce949d86d280e289b7c9f\", element=\"4716f1e2-8476-4230-af6a-cbe67d21a666\")>,\n",
       " <selenium.webdriver.remote.webelement.WebElement (session=\"a045ac1db56ce949d86d280e289b7c9f\", element=\"4d34fc14-55ac-4b0e-86df-27da37ba83f3\")>,\n",
       " <selenium.webdriver.remote.webelement.WebElement (session=\"a045ac1db56ce949d86d280e289b7c9f\", element=\"7e8614bf-033e-463f-bb9b-0be0f7113eea\")>,\n",
       " <selenium.webdriver.remote.webelement.WebElement (session=\"a045ac1db56ce949d86d280e289b7c9f\", element=\"e166871d-a59c-44ef-91a8-b328b31089d0\")>,\n",
       " <selenium.webdriver.remote.webelement.WebElement (session=\"a045ac1db56ce949d86d280e289b7c9f\", element=\"e1a16b95-9021-4a78-b7d7-2170ab4cba21\")>,\n",
       " <selenium.webdriver.remote.webelement.WebElement (session=\"a045ac1db56ce949d86d280e289b7c9f\", element=\"2aca5bcf-81f3-462d-ba4a-4c0b40af6aaa\")>,\n",
       " <selenium.webdriver.remote.webelement.WebElement (session=\"a045ac1db56ce949d86d280e289b7c9f\", element=\"e9a1e5a7-e5bd-41f8-b210-10f62aa0ba9e\")>,\n",
       " <selenium.webdriver.remote.webelement.WebElement (session=\"a045ac1db56ce949d86d280e289b7c9f\", element=\"0f68be46-e4eb-4c0b-9ab2-c04f0de08e4a\")>,\n",
       " <selenium.webdriver.remote.webelement.WebElement (session=\"a045ac1db56ce949d86d280e289b7c9f\", element=\"7681dfb1-a1bf-455e-b3b6-bd18349c0e15\")>,\n",
       " <selenium.webdriver.remote.webelement.WebElement (session=\"a045ac1db56ce949d86d280e289b7c9f\", element=\"cf8a7202-59fc-4e4e-9b01-c5b86be2b04c\")>,\n",
       " <selenium.webdriver.remote.webelement.WebElement (session=\"a045ac1db56ce949d86d280e289b7c9f\", element=\"f16ed37e-89a2-41a7-aabd-306211c16b0e\")>,\n",
       " <selenium.webdriver.remote.webelement.WebElement (session=\"a045ac1db56ce949d86d280e289b7c9f\", element=\"397c9eea-9114-47a0-8d4a-5cc3e854891c\")>,\n",
       " <selenium.webdriver.remote.webelement.WebElement (session=\"a045ac1db56ce949d86d280e289b7c9f\", element=\"8f205e13-b904-433a-8d05-7ad03e60879d\")>,\n",
       " <selenium.webdriver.remote.webelement.WebElement (session=\"a045ac1db56ce949d86d280e289b7c9f\", element=\"0db5d44b-b1cd-468a-a83f-679bedc3157a\")>,\n",
       " <selenium.webdriver.remote.webelement.WebElement (session=\"a045ac1db56ce949d86d280e289b7c9f\", element=\"fb05896a-69c5-4c79-b5a0-7f5aed61e812\")>,\n",
       " <selenium.webdriver.remote.webelement.WebElement (session=\"a045ac1db56ce949d86d280e289b7c9f\", element=\"00ae52fe-edbc-45fa-944b-8a45abb4dad9\")>,\n",
       " <selenium.webdriver.remote.webelement.WebElement (session=\"a045ac1db56ce949d86d280e289b7c9f\", element=\"6506668d-44a6-4d6c-8349-105ad6669762\")>,\n",
       " <selenium.webdriver.remote.webelement.WebElement (session=\"a045ac1db56ce949d86d280e289b7c9f\", element=\"2c34b310-8bf1-45b2-9504-e2311bebd4e2\")>,\n",
       " <selenium.webdriver.remote.webelement.WebElement (session=\"a045ac1db56ce949d86d280e289b7c9f\", element=\"e97a1e3c-1403-41b1-87f7-18a34d355335\")>,\n",
       " <selenium.webdriver.remote.webelement.WebElement (session=\"a045ac1db56ce949d86d280e289b7c9f\", element=\"0f312786-fc48-40da-8cb8-6ed83943cb66\")>,\n",
       " <selenium.webdriver.remote.webelement.WebElement (session=\"a045ac1db56ce949d86d280e289b7c9f\", element=\"907cc5bd-ce0a-45a2-b8dc-ea2ad555762d\")>,\n",
       " <selenium.webdriver.remote.webelement.WebElement (session=\"a045ac1db56ce949d86d280e289b7c9f\", element=\"66e9442c-2b9d-4561-8e2d-b6718288f232\")>]"
      ]
     },
     "execution_count": 55,
     "metadata": {},
     "output_type": "execute_result"
    }
   ],
   "source": [
    "percentage=driver.find_elements_by_xpath(\"//div[@class='_3Ay6Sb']\")\n",
    "percentage[0:100]"
   ]
  },
  {
   "cell_type": "code",
   "execution_count": 56,
   "metadata": {},
   "outputs": [
    {
     "data": {
      "text/plain": [
       "['78% off',\n",
       " '85% off',\n",
       " '83% off',\n",
       " '85% off',\n",
       " '80% off',\n",
       " '73% off',\n",
       " '80% off',\n",
       " '79% off',\n",
       " '80% off',\n",
       " '82% off',\n",
       " '86% off',\n",
       " '83% off',\n",
       " '79% off',\n",
       " '86% off',\n",
       " '82% off',\n",
       " '80% off',\n",
       " '80% off',\n",
       " '15% off',\n",
       " '75% off',\n",
       " '76% off',\n",
       " '19% off',\n",
       " '77% off',\n",
       " '82% off',\n",
       " '65% off',\n",
       " '84% off',\n",
       " '82% off',\n",
       " '86% off',\n",
       " '70% off',\n",
       " '85% off',\n",
       " '76% off',\n",
       " '86% off',\n",
       " '85% off',\n",
       " '84% off',\n",
       " '83% off',\n",
       " '80% off',\n",
       " '80% off',\n",
       " '83% off',\n",
       " '82% off',\n",
       " '76% off',\n",
       " '85% off']"
      ]
     },
     "execution_count": 56,
     "metadata": {},
     "output_type": "execute_result"
    }
   ],
   "source": [
    "for i in percentage:\n",
    "    percentage=i.text\n",
    "    Discount_percentage.append(percentage)\n",
    "Discount_percentage[0:100]"
   ]
  },
  {
   "cell_type": "code",
   "execution_count": 57,
   "metadata": {},
   "outputs": [
    {
     "name": "stdout",
     "output_type": "stream",
     "text": [
      "40 125 40 40\n"
     ]
    }
   ],
   "source": [
    "print(len(Brand_Name),len(product_Descr),len(price_value),len(Discount_percentage))"
   ]
  },
  {
   "cell_type": "code",
   "execution_count": 58,
   "metadata": {},
   "outputs": [
    {
     "ename": "ValueError",
     "evalue": "Length of values does not match length of index",
     "output_type": "error",
     "traceback": [
      "\u001b[1;31m---------------------------------------------------------------------------\u001b[0m",
      "\u001b[1;31mValueError\u001b[0m                                Traceback (most recent call last)",
      "\u001b[1;32m<ipython-input-58-a6fa55b4b2ef>\u001b[0m in \u001b[0;36m<module>\u001b[1;34m\u001b[0m\n\u001b[0;32m      1\u001b[0m \u001b[0msunglasses\u001b[0m\u001b[1;33m=\u001b[0m\u001b[0mpd\u001b[0m\u001b[1;33m.\u001b[0m\u001b[0mDataFrame\u001b[0m\u001b[1;33m(\u001b[0m\u001b[1;33m{\u001b[0m\u001b[1;33m}\u001b[0m\u001b[1;33m)\u001b[0m\u001b[1;33m\u001b[0m\u001b[1;33m\u001b[0m\u001b[0m\n\u001b[0;32m      2\u001b[0m \u001b[0msunglasses\u001b[0m\u001b[1;33m[\u001b[0m\u001b[1;34m'Name'\u001b[0m\u001b[1;33m]\u001b[0m\u001b[1;33m=\u001b[0m\u001b[0mBrand_Name\u001b[0m\u001b[1;33m\u001b[0m\u001b[1;33m\u001b[0m\u001b[0m\n\u001b[1;32m----> 3\u001b[1;33m \u001b[0msunglasses\u001b[0m\u001b[1;33m[\u001b[0m\u001b[1;34m'Descr'\u001b[0m\u001b[1;33m]\u001b[0m\u001b[1;33m=\u001b[0m\u001b[0mproduct_Descr\u001b[0m\u001b[1;33m\u001b[0m\u001b[1;33m\u001b[0m\u001b[0m\n\u001b[0m\u001b[0;32m      4\u001b[0m \u001b[0msunglasses\u001b[0m\u001b[1;33m[\u001b[0m\u001b[1;34m'value'\u001b[0m\u001b[1;33m]\u001b[0m\u001b[1;33m=\u001b[0m\u001b[0mprice_value\u001b[0m\u001b[1;33m\u001b[0m\u001b[1;33m\u001b[0m\u001b[0m\n\u001b[0;32m      5\u001b[0m \u001b[0msunglasses\u001b[0m\u001b[1;33m[\u001b[0m\u001b[1;34m'percentage'\u001b[0m\u001b[1;33m]\u001b[0m\u001b[1;33m=\u001b[0m\u001b[0mDiscount_percentage\u001b[0m\u001b[1;33m\u001b[0m\u001b[1;33m\u001b[0m\u001b[0m\n",
      "\u001b[1;32mC:\\ProgramData\\Anaconda3\\lib\\site-packages\\pandas\\core\\frame.py\u001b[0m in \u001b[0;36m__setitem__\u001b[1;34m(self, key, value)\u001b[0m\n\u001b[0;32m   2936\u001b[0m         \u001b[1;32melse\u001b[0m\u001b[1;33m:\u001b[0m\u001b[1;33m\u001b[0m\u001b[1;33m\u001b[0m\u001b[0m\n\u001b[0;32m   2937\u001b[0m             \u001b[1;31m# set column\u001b[0m\u001b[1;33m\u001b[0m\u001b[1;33m\u001b[0m\u001b[1;33m\u001b[0m\u001b[0m\n\u001b[1;32m-> 2938\u001b[1;33m             \u001b[0mself\u001b[0m\u001b[1;33m.\u001b[0m\u001b[0m_set_item\u001b[0m\u001b[1;33m(\u001b[0m\u001b[0mkey\u001b[0m\u001b[1;33m,\u001b[0m \u001b[0mvalue\u001b[0m\u001b[1;33m)\u001b[0m\u001b[1;33m\u001b[0m\u001b[1;33m\u001b[0m\u001b[0m\n\u001b[0m\u001b[0;32m   2939\u001b[0m \u001b[1;33m\u001b[0m\u001b[0m\n\u001b[0;32m   2940\u001b[0m     \u001b[1;32mdef\u001b[0m \u001b[0m_setitem_slice\u001b[0m\u001b[1;33m(\u001b[0m\u001b[0mself\u001b[0m\u001b[1;33m,\u001b[0m \u001b[0mkey\u001b[0m\u001b[1;33m,\u001b[0m \u001b[0mvalue\u001b[0m\u001b[1;33m)\u001b[0m\u001b[1;33m:\u001b[0m\u001b[1;33m\u001b[0m\u001b[1;33m\u001b[0m\u001b[0m\n",
      "\u001b[1;32mC:\\ProgramData\\Anaconda3\\lib\\site-packages\\pandas\\core\\frame.py\u001b[0m in \u001b[0;36m_set_item\u001b[1;34m(self, key, value)\u001b[0m\n\u001b[0;32m   2998\u001b[0m \u001b[1;33m\u001b[0m\u001b[0m\n\u001b[0;32m   2999\u001b[0m         \u001b[0mself\u001b[0m\u001b[1;33m.\u001b[0m\u001b[0m_ensure_valid_index\u001b[0m\u001b[1;33m(\u001b[0m\u001b[0mvalue\u001b[0m\u001b[1;33m)\u001b[0m\u001b[1;33m\u001b[0m\u001b[1;33m\u001b[0m\u001b[0m\n\u001b[1;32m-> 3000\u001b[1;33m         \u001b[0mvalue\u001b[0m \u001b[1;33m=\u001b[0m \u001b[0mself\u001b[0m\u001b[1;33m.\u001b[0m\u001b[0m_sanitize_column\u001b[0m\u001b[1;33m(\u001b[0m\u001b[0mkey\u001b[0m\u001b[1;33m,\u001b[0m \u001b[0mvalue\u001b[0m\u001b[1;33m)\u001b[0m\u001b[1;33m\u001b[0m\u001b[1;33m\u001b[0m\u001b[0m\n\u001b[0m\u001b[0;32m   3001\u001b[0m         \u001b[0mNDFrame\u001b[0m\u001b[1;33m.\u001b[0m\u001b[0m_set_item\u001b[0m\u001b[1;33m(\u001b[0m\u001b[0mself\u001b[0m\u001b[1;33m,\u001b[0m \u001b[0mkey\u001b[0m\u001b[1;33m,\u001b[0m \u001b[0mvalue\u001b[0m\u001b[1;33m)\u001b[0m\u001b[1;33m\u001b[0m\u001b[1;33m\u001b[0m\u001b[0m\n\u001b[0;32m   3002\u001b[0m \u001b[1;33m\u001b[0m\u001b[0m\n",
      "\u001b[1;32mC:\\ProgramData\\Anaconda3\\lib\\site-packages\\pandas\\core\\frame.py\u001b[0m in \u001b[0;36m_sanitize_column\u001b[1;34m(self, key, value, broadcast)\u001b[0m\n\u001b[0;32m   3634\u001b[0m \u001b[1;33m\u001b[0m\u001b[0m\n\u001b[0;32m   3635\u001b[0m             \u001b[1;31m# turn me into an ndarray\u001b[0m\u001b[1;33m\u001b[0m\u001b[1;33m\u001b[0m\u001b[1;33m\u001b[0m\u001b[0m\n\u001b[1;32m-> 3636\u001b[1;33m             \u001b[0mvalue\u001b[0m \u001b[1;33m=\u001b[0m \u001b[0msanitize_index\u001b[0m\u001b[1;33m(\u001b[0m\u001b[0mvalue\u001b[0m\u001b[1;33m,\u001b[0m \u001b[0mself\u001b[0m\u001b[1;33m.\u001b[0m\u001b[0mindex\u001b[0m\u001b[1;33m,\u001b[0m \u001b[0mcopy\u001b[0m\u001b[1;33m=\u001b[0m\u001b[1;32mFalse\u001b[0m\u001b[1;33m)\u001b[0m\u001b[1;33m\u001b[0m\u001b[1;33m\u001b[0m\u001b[0m\n\u001b[0m\u001b[0;32m   3637\u001b[0m             \u001b[1;32mif\u001b[0m \u001b[1;32mnot\u001b[0m \u001b[0misinstance\u001b[0m\u001b[1;33m(\u001b[0m\u001b[0mvalue\u001b[0m\u001b[1;33m,\u001b[0m \u001b[1;33m(\u001b[0m\u001b[0mnp\u001b[0m\u001b[1;33m.\u001b[0m\u001b[0mndarray\u001b[0m\u001b[1;33m,\u001b[0m \u001b[0mIndex\u001b[0m\u001b[1;33m)\u001b[0m\u001b[1;33m)\u001b[0m\u001b[1;33m:\u001b[0m\u001b[1;33m\u001b[0m\u001b[1;33m\u001b[0m\u001b[0m\n\u001b[0;32m   3638\u001b[0m                 \u001b[1;32mif\u001b[0m \u001b[0misinstance\u001b[0m\u001b[1;33m(\u001b[0m\u001b[0mvalue\u001b[0m\u001b[1;33m,\u001b[0m \u001b[0mlist\u001b[0m\u001b[1;33m)\u001b[0m \u001b[1;32mand\u001b[0m \u001b[0mlen\u001b[0m\u001b[1;33m(\u001b[0m\u001b[0mvalue\u001b[0m\u001b[1;33m)\u001b[0m \u001b[1;33m>\u001b[0m \u001b[1;36m0\u001b[0m\u001b[1;33m:\u001b[0m\u001b[1;33m\u001b[0m\u001b[1;33m\u001b[0m\u001b[0m\n",
      "\u001b[1;32mC:\\ProgramData\\Anaconda3\\lib\\site-packages\\pandas\\core\\internals\\construction.py\u001b[0m in \u001b[0;36msanitize_index\u001b[1;34m(data, index, copy)\u001b[0m\n\u001b[0;32m    609\u001b[0m \u001b[1;33m\u001b[0m\u001b[0m\n\u001b[0;32m    610\u001b[0m     \u001b[1;32mif\u001b[0m \u001b[0mlen\u001b[0m\u001b[1;33m(\u001b[0m\u001b[0mdata\u001b[0m\u001b[1;33m)\u001b[0m \u001b[1;33m!=\u001b[0m \u001b[0mlen\u001b[0m\u001b[1;33m(\u001b[0m\u001b[0mindex\u001b[0m\u001b[1;33m)\u001b[0m\u001b[1;33m:\u001b[0m\u001b[1;33m\u001b[0m\u001b[1;33m\u001b[0m\u001b[0m\n\u001b[1;32m--> 611\u001b[1;33m         \u001b[1;32mraise\u001b[0m \u001b[0mValueError\u001b[0m\u001b[1;33m(\u001b[0m\u001b[1;34m\"Length of values does not match length of index\"\u001b[0m\u001b[1;33m)\u001b[0m\u001b[1;33m\u001b[0m\u001b[1;33m\u001b[0m\u001b[0m\n\u001b[0m\u001b[0;32m    612\u001b[0m \u001b[1;33m\u001b[0m\u001b[0m\n\u001b[0;32m    613\u001b[0m     \u001b[1;32mif\u001b[0m \u001b[0misinstance\u001b[0m\u001b[1;33m(\u001b[0m\u001b[0mdata\u001b[0m\u001b[1;33m,\u001b[0m \u001b[0mABCIndexClass\u001b[0m\u001b[1;33m)\u001b[0m \u001b[1;32mand\u001b[0m \u001b[1;32mnot\u001b[0m \u001b[0mcopy\u001b[0m\u001b[1;33m:\u001b[0m\u001b[1;33m\u001b[0m\u001b[1;33m\u001b[0m\u001b[0m\n",
      "\u001b[1;31mValueError\u001b[0m: Length of values does not match length of index"
     ]
    }
   ],
   "source": [
    "sunglasses=pd.DataFrame({})\n",
    "sunglasses['Name']=Brand_Name\n",
    "sunglasses['Descr']=product_Descr\n",
    "sunglasses['value']=price_value\n",
    "sunglasses['percentage']=Discount_percentage"
   ]
  },
  {
   "cell_type": "code",
   "execution_count": null,
   "metadata": {},
   "outputs": [],
   "source": [
    "sunglasses"
   ]
  },
  {
   "cell_type": "code",
   "execution_count": null,
   "metadata": {},
   "outputs": [],
   "source": [
    "search_btn = driver.find_element_by_xpath(\"//a[@class='_1LKTO3']\")\n",
    "search_btn.click()"
   ]
  },
  {
   "cell_type": "code",
   "execution_count": 150,
   "metadata": {},
   "outputs": [
    {
     "data": {
      "text/plain": [
       "[]"
      ]
     },
     "execution_count": 150,
     "metadata": {},
     "output_type": "execute_result"
    }
   ],
   "source": [
    "Name=driver.find_elements_by_xpath(\"//div[@class='_2WkVRV']\")\n",
    "Name[0:100]"
   ]
  },
  {
   "cell_type": "code",
   "execution_count": 132,
   "metadata": {},
   "outputs": [
    {
     "ename": "AttributeError",
     "evalue": "'str' object has no attribute 'text'",
     "output_type": "error",
     "traceback": [
      "\u001b[1;31m---------------------------------------------------------------------------\u001b[0m",
      "\u001b[1;31mAttributeError\u001b[0m                            Traceback (most recent call last)",
      "\u001b[1;32m<ipython-input-132-e2bd1776a244>\u001b[0m in \u001b[0;36m<module>\u001b[1;34m\u001b[0m\n\u001b[0;32m      1\u001b[0m \u001b[1;32mfor\u001b[0m \u001b[0mi\u001b[0m \u001b[1;32min\u001b[0m \u001b[0mName\u001b[0m\u001b[1;33m:\u001b[0m\u001b[1;33m\u001b[0m\u001b[1;33m\u001b[0m\u001b[0m\n\u001b[0;32m      2\u001b[0m \u001b[1;33m\u001b[0m\u001b[0m\n\u001b[1;32m----> 3\u001b[1;33m     \u001b[0mName\u001b[0m\u001b[1;33m=\u001b[0m\u001b[0mi\u001b[0m\u001b[1;33m.\u001b[0m\u001b[0mtext\u001b[0m\u001b[1;33m\u001b[0m\u001b[1;33m\u001b[0m\u001b[0m\n\u001b[0m\u001b[0;32m      4\u001b[0m     \u001b[0mBrand_Name\u001b[0m\u001b[1;33m.\u001b[0m\u001b[0mappend\u001b[0m\u001b[1;33m(\u001b[0m\u001b[0mName\u001b[0m\u001b[1;33m)\u001b[0m\u001b[1;33m\u001b[0m\u001b[1;33m\u001b[0m\u001b[0m\n\u001b[0;32m      5\u001b[0m \u001b[0mBrand_Name\u001b[0m\u001b[1;33m[\u001b[0m\u001b[1;36m0\u001b[0m\u001b[1;33m:\u001b[0m\u001b[1;36m100\u001b[0m\u001b[1;33m]\u001b[0m\u001b[1;33m\u001b[0m\u001b[1;33m\u001b[0m\u001b[0m\n",
      "\u001b[1;31mAttributeError\u001b[0m: 'str' object has no attribute 'text'"
     ]
    }
   ],
   "source": [
    "for i in Name:\n",
    "    \n",
    "    Name=i.text\n",
    "    Brand_Name.append(Name)\n",
    "Brand_Name[0:100]"
   ]
  },
  {
   "cell_type": "code",
   "execution_count": 63,
   "metadata": {},
   "outputs": [],
   "source": [
    "#question no.7\n",
    "import selenium\n",
    "import pandas as pd\n",
    "from selenium import webdriver\n",
    "driver = webdriver.Edge(executable_path = r\"C:\\Users\\Althaf\\Downloads\\msedgedriver.exe\")\n",
    "driver.get('https://www.flipkart.com/apple-iphone-11-black-64-gb-includes-earpods-power-adapter/p/itm0f37c2240b217?pid=MOBFKCTSVZAXUHGR&lid=LSTMOBFKCTSVZAXUHGREPBFGI&marketplace.')\n"
   ]
  },
  {
   "cell_type": "code",
   "execution_count": 64,
   "metadata": {},
   "outputs": [],
   "source": [
    "Rating_stars=[]\n",
    "Review_summary=[]\n",
    "FullReview_summary=[]"
   ]
  },
  {
   "cell_type": "code",
   "execution_count": 69,
   "metadata": {},
   "outputs": [
    {
     "data": {
      "text/plain": [
       "[<selenium.webdriver.remote.webelement.WebElement (session=\"937ea2aeecce8bb1e8e59f150256d07b\", element=\"c42ebce1-7c52-45c1-8cfb-e5d386eea6e3\")>]"
      ]
     },
     "execution_count": 69,
     "metadata": {},
     "output_type": "execute_result"
    }
   ],
   "source": [
    "stars=driver.find_elements_by_xpath(\"//div[@class='_3LWZlK']\")\n",
    "stars[0:100]"
   ]
  },
  {
   "cell_type": "code",
   "execution_count": 70,
   "metadata": {},
   "outputs": [
    {
     "data": {
      "text/plain": [
       "['Looking For Data scientist - Bangalore', '4.7']"
      ]
     },
     "execution_count": 70,
     "metadata": {},
     "output_type": "execute_result"
    }
   ],
   "source": [
    "for i in stars:\n",
    "    \n",
    "    stars=i.text\n",
    "    Rating.append(stars)\n",
    "Rating[0:100]"
   ]
  },
  {
   "cell_type": "code",
   "execution_count": 71,
   "metadata": {},
   "outputs": [],
   "source": [
    "#question no.8\n",
    "import selenium\n",
    "import pandas as pd\n",
    "from selenium import webdriver\n",
    "driver = webdriver.Edge(executable_path = r\"C:\\Users\\Althaf\\Downloads\\msedgedriver.exe\")\n",
    "driver.get('https://www.flipkart.com/')"
   ]
  },
  {
   "cell_type": "code",
   "execution_count": 73,
   "metadata": {},
   "outputs": [],
   "source": [
    "search =driver.find_element_by_xpath(\"//input[@class='_3704LK']\")\n",
    "search.send_keys(\"Sneakers\")\n"
   ]
  },
  {
   "cell_type": "code",
   "execution_count": 74,
   "metadata": {},
   "outputs": [],
   "source": [
    "search_btn = driver.find_element_by_xpath(\"//button[@class='L0Z3Pu']\")\n",
    "search_btn.click()"
   ]
  },
  {
   "cell_type": "code",
   "execution_count": 75,
   "metadata": {},
   "outputs": [],
   "source": [
    "Brand_Name=[]\n",
    "product_Descr=[]\n",
    "price_value=[]\n",
    "Discount_percentage=[]"
   ]
  },
  {
   "cell_type": "code",
   "execution_count": 76,
   "metadata": {},
   "outputs": [
    {
     "data": {
      "text/plain": [
       "[<selenium.webdriver.remote.webelement.WebElement (session=\"99d03997807052414b7d45b3b8848bbe\", element=\"9b37b9f9-ba99-437a-b77e-f327ef1c7ac8\")>,\n",
       " <selenium.webdriver.remote.webelement.WebElement (session=\"99d03997807052414b7d45b3b8848bbe\", element=\"d9e29b1c-c92a-416b-a6e0-eab85ba0bf25\")>,\n",
       " <selenium.webdriver.remote.webelement.WebElement (session=\"99d03997807052414b7d45b3b8848bbe\", element=\"c790e8a5-b431-4677-8fa2-6544e0c4e21f\")>,\n",
       " <selenium.webdriver.remote.webelement.WebElement (session=\"99d03997807052414b7d45b3b8848bbe\", element=\"73193cdd-3441-4cd5-b327-0a8b70995021\")>,\n",
       " <selenium.webdriver.remote.webelement.WebElement (session=\"99d03997807052414b7d45b3b8848bbe\", element=\"bebccb9f-acb5-4251-b685-0bb0e8a3f5bc\")>,\n",
       " <selenium.webdriver.remote.webelement.WebElement (session=\"99d03997807052414b7d45b3b8848bbe\", element=\"fdff2cb6-f301-4a83-aa8e-9e9fd7ae891d\")>,\n",
       " <selenium.webdriver.remote.webelement.WebElement (session=\"99d03997807052414b7d45b3b8848bbe\", element=\"492e45f2-cd18-44fc-80ea-6d6cbf69490c\")>,\n",
       " <selenium.webdriver.remote.webelement.WebElement (session=\"99d03997807052414b7d45b3b8848bbe\", element=\"3bd32f77-eab0-434f-baad-21288ae89061\")>,\n",
       " <selenium.webdriver.remote.webelement.WebElement (session=\"99d03997807052414b7d45b3b8848bbe\", element=\"4aca1060-6b2e-453e-8201-2b30c168b8a5\")>,\n",
       " <selenium.webdriver.remote.webelement.WebElement (session=\"99d03997807052414b7d45b3b8848bbe\", element=\"11a56af5-e557-4319-a37b-b2ad7374422b\")>,\n",
       " <selenium.webdriver.remote.webelement.WebElement (session=\"99d03997807052414b7d45b3b8848bbe\", element=\"3f344b29-2058-40b2-8062-b4c808aa93e0\")>,\n",
       " <selenium.webdriver.remote.webelement.WebElement (session=\"99d03997807052414b7d45b3b8848bbe\", element=\"4baef881-79f9-4fe9-9719-d02bbc54bd06\")>,\n",
       " <selenium.webdriver.remote.webelement.WebElement (session=\"99d03997807052414b7d45b3b8848bbe\", element=\"b5a1a90d-3b9f-4838-886a-0a4b8efac569\")>,\n",
       " <selenium.webdriver.remote.webelement.WebElement (session=\"99d03997807052414b7d45b3b8848bbe\", element=\"daca9dd1-2ee9-488c-90f0-bc258bba1bb9\")>,\n",
       " <selenium.webdriver.remote.webelement.WebElement (session=\"99d03997807052414b7d45b3b8848bbe\", element=\"8495faf3-48ca-4d38-a718-02d3a997180c\")>,\n",
       " <selenium.webdriver.remote.webelement.WebElement (session=\"99d03997807052414b7d45b3b8848bbe\", element=\"5d30a6f7-aeed-4cfd-b465-956d963f204d\")>,\n",
       " <selenium.webdriver.remote.webelement.WebElement (session=\"99d03997807052414b7d45b3b8848bbe\", element=\"414ffbdf-01ea-4b45-acd9-f25bca3f3c7b\")>,\n",
       " <selenium.webdriver.remote.webelement.WebElement (session=\"99d03997807052414b7d45b3b8848bbe\", element=\"fbd5db59-89f7-4a9e-95b2-17bc442a5f6d\")>,\n",
       " <selenium.webdriver.remote.webelement.WebElement (session=\"99d03997807052414b7d45b3b8848bbe\", element=\"5c2cf278-37f9-41e3-9407-6f5da0553633\")>,\n",
       " <selenium.webdriver.remote.webelement.WebElement (session=\"99d03997807052414b7d45b3b8848bbe\", element=\"c75fdad7-7637-4c2a-8233-c3b61aa8c6c2\")>,\n",
       " <selenium.webdriver.remote.webelement.WebElement (session=\"99d03997807052414b7d45b3b8848bbe\", element=\"b4e8079a-c6ce-4b72-b86b-a0c59c4e2694\")>,\n",
       " <selenium.webdriver.remote.webelement.WebElement (session=\"99d03997807052414b7d45b3b8848bbe\", element=\"4426cc28-95c8-47cc-ae5c-e019415b6c8c\")>,\n",
       " <selenium.webdriver.remote.webelement.WebElement (session=\"99d03997807052414b7d45b3b8848bbe\", element=\"70d37265-9f24-47f8-bc13-d3d5b66ac138\")>,\n",
       " <selenium.webdriver.remote.webelement.WebElement (session=\"99d03997807052414b7d45b3b8848bbe\", element=\"87ee97c2-3e99-4eab-842d-d6af9d046261\")>,\n",
       " <selenium.webdriver.remote.webelement.WebElement (session=\"99d03997807052414b7d45b3b8848bbe\", element=\"93b948b3-7288-48bf-844d-049aee7d4209\")>,\n",
       " <selenium.webdriver.remote.webelement.WebElement (session=\"99d03997807052414b7d45b3b8848bbe\", element=\"c552ef06-7727-43b7-b92c-aa43c949f7c2\")>,\n",
       " <selenium.webdriver.remote.webelement.WebElement (session=\"99d03997807052414b7d45b3b8848bbe\", element=\"3ed1b356-1158-4f4f-8373-43c9392e929d\")>,\n",
       " <selenium.webdriver.remote.webelement.WebElement (session=\"99d03997807052414b7d45b3b8848bbe\", element=\"b68e7541-1a14-4ffd-9c9f-1ded16f6a3f4\")>,\n",
       " <selenium.webdriver.remote.webelement.WebElement (session=\"99d03997807052414b7d45b3b8848bbe\", element=\"154d08ed-0b67-463e-8a4c-c9890f1b20b9\")>,\n",
       " <selenium.webdriver.remote.webelement.WebElement (session=\"99d03997807052414b7d45b3b8848bbe\", element=\"b6594cdb-20e6-456d-a62e-54c08cf18b12\")>,\n",
       " <selenium.webdriver.remote.webelement.WebElement (session=\"99d03997807052414b7d45b3b8848bbe\", element=\"cf02b356-0f64-4234-be0e-bc3968b6700e\")>,\n",
       " <selenium.webdriver.remote.webelement.WebElement (session=\"99d03997807052414b7d45b3b8848bbe\", element=\"a3a49c19-8c97-47f5-ad16-ceb445860117\")>,\n",
       " <selenium.webdriver.remote.webelement.WebElement (session=\"99d03997807052414b7d45b3b8848bbe\", element=\"4f617dd7-131e-4304-a6c4-c40e44b6c6f2\")>,\n",
       " <selenium.webdriver.remote.webelement.WebElement (session=\"99d03997807052414b7d45b3b8848bbe\", element=\"8d7855a5-4111-49a6-88c2-ecd00efd6e7c\")>,\n",
       " <selenium.webdriver.remote.webelement.WebElement (session=\"99d03997807052414b7d45b3b8848bbe\", element=\"090311ea-5e82-4387-a1f6-65c3c8c3d6b7\")>,\n",
       " <selenium.webdriver.remote.webelement.WebElement (session=\"99d03997807052414b7d45b3b8848bbe\", element=\"aaea85ed-e11e-4a1c-9cbc-a78e1dc50873\")>,\n",
       " <selenium.webdriver.remote.webelement.WebElement (session=\"99d03997807052414b7d45b3b8848bbe\", element=\"0cc483d2-bf1f-43f7-ab13-06fb6b0a0e5e\")>,\n",
       " <selenium.webdriver.remote.webelement.WebElement (session=\"99d03997807052414b7d45b3b8848bbe\", element=\"093ac26b-50eb-47e4-b0dd-da378692ad42\")>,\n",
       " <selenium.webdriver.remote.webelement.WebElement (session=\"99d03997807052414b7d45b3b8848bbe\", element=\"3e090f8e-2d82-4c99-8a48-ae71697ae7de\")>,\n",
       " <selenium.webdriver.remote.webelement.WebElement (session=\"99d03997807052414b7d45b3b8848bbe\", element=\"3047533e-a7af-4a4d-b56d-e941abbf1108\")>]"
      ]
     },
     "execution_count": 76,
     "metadata": {},
     "output_type": "execute_result"
    }
   ],
   "source": [
    "Name=driver.find_elements_by_xpath(\"//div[@class='_2WkVRV']\")\n",
    "Name[0:100]"
   ]
  },
  {
   "cell_type": "code",
   "execution_count": 77,
   "metadata": {},
   "outputs": [
    {
     "data": {
      "text/plain": [
       "['Chevit',\n",
       " 'Chevit',\n",
       " 'Deny Brown',\n",
       " 'Wildcraft',\n",
       " 'World Wear Footwear',\n",
       " 'Shoes Bank',\n",
       " 'Robbie jones',\n",
       " 'Ducati',\n",
       " 'Chevit',\n",
       " 'Chevit',\n",
       " 'D-SNEAKERZ',\n",
       " 'Ducati',\n",
       " 'Red Rose',\n",
       " 'Chevit',\n",
       " 'GANPATI TRADERS',\n",
       " 'Ducati',\n",
       " 'Oricum',\n",
       " 'Hotstyle',\n",
       " 'Oricum',\n",
       " 'French Connection',\n",
       " 'Stinson',\n",
       " 'Robbie jones',\n",
       " 'Essence',\n",
       " 'French Connection',\n",
       " 'T-Rock',\n",
       " 'Chevit',\n",
       " 'Rockfield',\n",
       " 'Marc Ecko',\n",
       " 'Essence',\n",
       " 'BRUTON',\n",
       " 'Magnolia',\n",
       " 'French Connection',\n",
       " 'Puma',\n",
       " 'Aura',\n",
       " 'Camfoot',\n",
       " 'Ducati',\n",
       " 'Chevit',\n",
       " 'Oricum',\n",
       " 'ZOVIM',\n",
       " 'Ducati']"
      ]
     },
     "execution_count": 77,
     "metadata": {},
     "output_type": "execute_result"
    }
   ],
   "source": [
    "for i in Name:\n",
    "    \n",
    "    Name=i.text\n",
    "    Brand_Name.append(Name)\n",
    "Brand_Name[0:100]"
   ]
  },
  {
   "cell_type": "code",
   "execution_count": 78,
   "metadata": {},
   "outputs": [
    {
     "data": {
      "text/plain": [
       "[<selenium.webdriver.remote.webelement.WebElement (session=\"99d03997807052414b7d45b3b8848bbe\", element=\"9ccbdf72-3d28-4445-8bad-6f73b10492aa\")>,\n",
       " <selenium.webdriver.remote.webelement.WebElement (session=\"99d03997807052414b7d45b3b8848bbe\", element=\"32fe1d24-5e96-4e11-8efd-14758d43f0a0\")>,\n",
       " <selenium.webdriver.remote.webelement.WebElement (session=\"99d03997807052414b7d45b3b8848bbe\", element=\"eb731187-e7e8-4bc9-a29d-74389e7d0008\")>,\n",
       " <selenium.webdriver.remote.webelement.WebElement (session=\"99d03997807052414b7d45b3b8848bbe\", element=\"f3303341-6ed2-45ad-ba83-a98630a0b918\")>,\n",
       " <selenium.webdriver.remote.webelement.WebElement (session=\"99d03997807052414b7d45b3b8848bbe\", element=\"021224ff-a832-4e2f-a334-b5d641aa3ccc\")>,\n",
       " <selenium.webdriver.remote.webelement.WebElement (session=\"99d03997807052414b7d45b3b8848bbe\", element=\"856afd95-9cc9-4ce5-8358-e4781d571bd1\")>,\n",
       " <selenium.webdriver.remote.webelement.WebElement (session=\"99d03997807052414b7d45b3b8848bbe\", element=\"4f90434c-7436-4ecb-8e5f-1631a08c2cf0\")>,\n",
       " <selenium.webdriver.remote.webelement.WebElement (session=\"99d03997807052414b7d45b3b8848bbe\", element=\"09bcab4a-dc63-4548-8221-91a4b5f80394\")>,\n",
       " <selenium.webdriver.remote.webelement.WebElement (session=\"99d03997807052414b7d45b3b8848bbe\", element=\"b0845700-e8e1-4c66-a9e9-e35d7c85fbe8\")>,\n",
       " <selenium.webdriver.remote.webelement.WebElement (session=\"99d03997807052414b7d45b3b8848bbe\", element=\"2aae0cdb-f1b2-4056-8554-808d81fa620c\")>,\n",
       " <selenium.webdriver.remote.webelement.WebElement (session=\"99d03997807052414b7d45b3b8848bbe\", element=\"90d8571c-277e-46c4-a841-a8f086193b48\")>,\n",
       " <selenium.webdriver.remote.webelement.WebElement (session=\"99d03997807052414b7d45b3b8848bbe\", element=\"72fbda7a-3148-487f-a077-597b7f6e39e6\")>,\n",
       " <selenium.webdriver.remote.webelement.WebElement (session=\"99d03997807052414b7d45b3b8848bbe\", element=\"4a1e60be-aa98-4ebf-b12a-7c52ca4689aa\")>,\n",
       " <selenium.webdriver.remote.webelement.WebElement (session=\"99d03997807052414b7d45b3b8848bbe\", element=\"03fa0b8a-a0c0-48e1-a05b-e01bcb6eeddc\")>,\n",
       " <selenium.webdriver.remote.webelement.WebElement (session=\"99d03997807052414b7d45b3b8848bbe\", element=\"17298ad3-602d-47b9-adc6-52c501afb3f8\")>,\n",
       " <selenium.webdriver.remote.webelement.WebElement (session=\"99d03997807052414b7d45b3b8848bbe\", element=\"6a055d2f-e984-4db6-9309-29f078b958f6\")>,\n",
       " <selenium.webdriver.remote.webelement.WebElement (session=\"99d03997807052414b7d45b3b8848bbe\", element=\"009666b4-183e-4012-a4dc-a11bbcacd33d\")>,\n",
       " <selenium.webdriver.remote.webelement.WebElement (session=\"99d03997807052414b7d45b3b8848bbe\", element=\"7d202d83-13ae-4ec8-940e-f13438a1e2ef\")>,\n",
       " <selenium.webdriver.remote.webelement.WebElement (session=\"99d03997807052414b7d45b3b8848bbe\", element=\"b09d1153-638e-42ae-887b-566e8fec5561\")>,\n",
       " <selenium.webdriver.remote.webelement.WebElement (session=\"99d03997807052414b7d45b3b8848bbe\", element=\"90665d39-00b4-4252-b5b2-7a034d71019a\")>,\n",
       " <selenium.webdriver.remote.webelement.WebElement (session=\"99d03997807052414b7d45b3b8848bbe\", element=\"f000898f-a668-4a47-b04a-bf126a1a8691\")>,\n",
       " <selenium.webdriver.remote.webelement.WebElement (session=\"99d03997807052414b7d45b3b8848bbe\", element=\"47a84e7a-c416-423a-95e9-ed31f2f6cc24\")>,\n",
       " <selenium.webdriver.remote.webelement.WebElement (session=\"99d03997807052414b7d45b3b8848bbe\", element=\"0cae14eb-296e-4c3c-8c6c-0ebc105f93a6\")>,\n",
       " <selenium.webdriver.remote.webelement.WebElement (session=\"99d03997807052414b7d45b3b8848bbe\", element=\"3ddce65a-aa75-40a5-b071-80e82baf3f6f\")>,\n",
       " <selenium.webdriver.remote.webelement.WebElement (session=\"99d03997807052414b7d45b3b8848bbe\", element=\"c0626ccd-8815-4bca-879f-eae83388e4ca\")>,\n",
       " <selenium.webdriver.remote.webelement.WebElement (session=\"99d03997807052414b7d45b3b8848bbe\", element=\"08a902ba-f494-48f5-a577-f7ab377ef83d\")>,\n",
       " <selenium.webdriver.remote.webelement.WebElement (session=\"99d03997807052414b7d45b3b8848bbe\", element=\"2933efdb-15a9-4e07-8847-f8de26744316\")>,\n",
       " <selenium.webdriver.remote.webelement.WebElement (session=\"99d03997807052414b7d45b3b8848bbe\", element=\"c4b87f11-e3bb-4c07-91b4-6dcf1d3818c3\")>,\n",
       " <selenium.webdriver.remote.webelement.WebElement (session=\"99d03997807052414b7d45b3b8848bbe\", element=\"60fbbe2b-9bcf-4dcf-93af-439af28ff188\")>,\n",
       " <selenium.webdriver.remote.webelement.WebElement (session=\"99d03997807052414b7d45b3b8848bbe\", element=\"9cd36626-89dc-4de4-a0a2-8ff2c5939be7\")>,\n",
       " <selenium.webdriver.remote.webelement.WebElement (session=\"99d03997807052414b7d45b3b8848bbe\", element=\"0b2faaf2-66e1-41b6-a6b9-875903d21062\")>,\n",
       " <selenium.webdriver.remote.webelement.WebElement (session=\"99d03997807052414b7d45b3b8848bbe\", element=\"2b107307-309e-4747-ad57-eccadf1781f7\")>,\n",
       " <selenium.webdriver.remote.webelement.WebElement (session=\"99d03997807052414b7d45b3b8848bbe\", element=\"12e1de8d-cae3-4fb7-93cf-f91bd7124b78\")>,\n",
       " <selenium.webdriver.remote.webelement.WebElement (session=\"99d03997807052414b7d45b3b8848bbe\", element=\"9bd92f7e-879f-47f8-b20c-c2c407903c0a\")>,\n",
       " <selenium.webdriver.remote.webelement.WebElement (session=\"99d03997807052414b7d45b3b8848bbe\", element=\"383f432c-f38e-4e77-8595-807b91de2f1d\")>,\n",
       " <selenium.webdriver.remote.webelement.WebElement (session=\"99d03997807052414b7d45b3b8848bbe\", element=\"ee0d0011-6f83-4f79-a5d5-c5963a8faf21\")>,\n",
       " <selenium.webdriver.remote.webelement.WebElement (session=\"99d03997807052414b7d45b3b8848bbe\", element=\"d71ef73f-4531-4eed-9b44-fa42cd9c417a\")>,\n",
       " <selenium.webdriver.remote.webelement.WebElement (session=\"99d03997807052414b7d45b3b8848bbe\", element=\"a3fd10c7-ee8a-4536-96b2-bced7a0aac91\")>,\n",
       " <selenium.webdriver.remote.webelement.WebElement (session=\"99d03997807052414b7d45b3b8848bbe\", element=\"3df5f9d4-4466-46cb-92cb-b93d9dfad8dc\")>,\n",
       " <selenium.webdriver.remote.webelement.WebElement (session=\"99d03997807052414b7d45b3b8848bbe\", element=\"1bf1e3cc-cc28-4fc8-ad37-69756995c5f0\")>,\n",
       " <selenium.webdriver.remote.webelement.WebElement (session=\"99d03997807052414b7d45b3b8848bbe\", element=\"f0fbfedf-d79c-42ed-8469-c2ef2f59e422\")>,\n",
       " <selenium.webdriver.remote.webelement.WebElement (session=\"99d03997807052414b7d45b3b8848bbe\", element=\"5fb6762e-799a-409d-bfcd-8a0adef2302e\")>,\n",
       " <selenium.webdriver.remote.webelement.WebElement (session=\"99d03997807052414b7d45b3b8848bbe\", element=\"bfee5d35-8cba-410c-b927-e471cf47d854\")>,\n",
       " <selenium.webdriver.remote.webelement.WebElement (session=\"99d03997807052414b7d45b3b8848bbe\", element=\"ca261bf9-11bc-41fc-b7b8-c5426682612c\")>,\n",
       " <selenium.webdriver.remote.webelement.WebElement (session=\"99d03997807052414b7d45b3b8848bbe\", element=\"1294d8d1-da27-4bae-8bd0-60e999dd92c2\")>,\n",
       " <selenium.webdriver.remote.webelement.WebElement (session=\"99d03997807052414b7d45b3b8848bbe\", element=\"9e983622-b270-4a56-9aa1-65bda59244ea\")>,\n",
       " <selenium.webdriver.remote.webelement.WebElement (session=\"99d03997807052414b7d45b3b8848bbe\", element=\"7800c4ba-2739-42ce-bd53-8a1622786919\")>,\n",
       " <selenium.webdriver.remote.webelement.WebElement (session=\"99d03997807052414b7d45b3b8848bbe\", element=\"61fdfcd1-e6f8-470f-ae7a-41ab85dda235\")>,\n",
       " <selenium.webdriver.remote.webelement.WebElement (session=\"99d03997807052414b7d45b3b8848bbe\", element=\"5999707a-e7c7-477f-9c06-d212e8199a2a\")>,\n",
       " <selenium.webdriver.remote.webelement.WebElement (session=\"99d03997807052414b7d45b3b8848bbe\", element=\"9171f271-5f36-47a5-aee6-57911aaa7e2e\")>,\n",
       " <selenium.webdriver.remote.webelement.WebElement (session=\"99d03997807052414b7d45b3b8848bbe\", element=\"ee1c5deb-f379-4797-a890-c08699331b5d\")>,\n",
       " <selenium.webdriver.remote.webelement.WebElement (session=\"99d03997807052414b7d45b3b8848bbe\", element=\"790e2dfe-3911-463a-b1a4-a45273aa13aa\")>,\n",
       " <selenium.webdriver.remote.webelement.WebElement (session=\"99d03997807052414b7d45b3b8848bbe\", element=\"10084775-d94a-4dfd-8864-2648d6fd9300\")>,\n",
       " <selenium.webdriver.remote.webelement.WebElement (session=\"99d03997807052414b7d45b3b8848bbe\", element=\"79ffefd6-1ecf-47a3-aedf-328dcb884925\")>,\n",
       " <selenium.webdriver.remote.webelement.WebElement (session=\"99d03997807052414b7d45b3b8848bbe\", element=\"e4dd352b-1e7b-4ad4-9973-133d91eff433\")>,\n",
       " <selenium.webdriver.remote.webelement.WebElement (session=\"99d03997807052414b7d45b3b8848bbe\", element=\"39d822b1-7f1a-4be0-831a-a0f7a14f7ffa\")>,\n",
       " <selenium.webdriver.remote.webelement.WebElement (session=\"99d03997807052414b7d45b3b8848bbe\", element=\"175fa28a-78a0-49e9-b61f-88dd594a87b3\")>,\n",
       " <selenium.webdriver.remote.webelement.WebElement (session=\"99d03997807052414b7d45b3b8848bbe\", element=\"f39b221a-ac7d-4d26-a628-9d46acfb6d19\")>,\n",
       " <selenium.webdriver.remote.webelement.WebElement (session=\"99d03997807052414b7d45b3b8848bbe\", element=\"99791eab-a6d1-42cf-bd6c-5e61e96d7906\")>,\n",
       " <selenium.webdriver.remote.webelement.WebElement (session=\"99d03997807052414b7d45b3b8848bbe\", element=\"ffb54fc6-b132-401d-954a-56a509212595\")>,\n",
       " <selenium.webdriver.remote.webelement.WebElement (session=\"99d03997807052414b7d45b3b8848bbe\", element=\"77538d5f-3447-45ae-b086-a7514a8244ea\")>,\n",
       " <selenium.webdriver.remote.webelement.WebElement (session=\"99d03997807052414b7d45b3b8848bbe\", element=\"62e213e0-43f4-423c-bd3b-83f35f8e852a\")>,\n",
       " <selenium.webdriver.remote.webelement.WebElement (session=\"99d03997807052414b7d45b3b8848bbe\", element=\"bc730bb5-8f6c-417c-91f7-0a33ef4acef3\")>,\n",
       " <selenium.webdriver.remote.webelement.WebElement (session=\"99d03997807052414b7d45b3b8848bbe\", element=\"bd4b8cbb-260e-4abc-9367-d39994e6b3a1\")>,\n",
       " <selenium.webdriver.remote.webelement.WebElement (session=\"99d03997807052414b7d45b3b8848bbe\", element=\"768665d8-2011-49b9-983f-0e91249e4d3b\")>,\n",
       " <selenium.webdriver.remote.webelement.WebElement (session=\"99d03997807052414b7d45b3b8848bbe\", element=\"b5d16983-71e0-4d00-aa68-05367ec61f97\")>,\n",
       " <selenium.webdriver.remote.webelement.WebElement (session=\"99d03997807052414b7d45b3b8848bbe\", element=\"18f5b1ba-9100-446b-81c9-39e17f2959c7\")>,\n",
       " <selenium.webdriver.remote.webelement.WebElement (session=\"99d03997807052414b7d45b3b8848bbe\", element=\"209f1e81-6b6e-46e6-a466-266bb819fe56\")>,\n",
       " <selenium.webdriver.remote.webelement.WebElement (session=\"99d03997807052414b7d45b3b8848bbe\", element=\"832be573-1cc3-4b55-bf45-ce034c6141b8\")>,\n",
       " <selenium.webdriver.remote.webelement.WebElement (session=\"99d03997807052414b7d45b3b8848bbe\", element=\"d27fe93a-22d4-4860-b3af-5df17f70d432\")>,\n",
       " <selenium.webdriver.remote.webelement.WebElement (session=\"99d03997807052414b7d45b3b8848bbe\", element=\"92790175-f5b4-482f-999d-bf881722e298\")>,\n",
       " <selenium.webdriver.remote.webelement.WebElement (session=\"99d03997807052414b7d45b3b8848bbe\", element=\"f28bdcb8-830a-4ef0-98a4-9e57a8f60b49\")>,\n",
       " <selenium.webdriver.remote.webelement.WebElement (session=\"99d03997807052414b7d45b3b8848bbe\", element=\"feeebb93-5b5c-44a0-b484-958fac957419\")>,\n",
       " <selenium.webdriver.remote.webelement.WebElement (session=\"99d03997807052414b7d45b3b8848bbe\", element=\"71bd64af-65c4-4829-b9e9-7001f9151903\")>,\n",
       " <selenium.webdriver.remote.webelement.WebElement (session=\"99d03997807052414b7d45b3b8848bbe\", element=\"18066d66-6e1d-4a86-a8a7-45077eaf6f7f\")>,\n",
       " <selenium.webdriver.remote.webelement.WebElement (session=\"99d03997807052414b7d45b3b8848bbe\", element=\"9be7788f-49ac-477d-8dc8-55dd23afad43\")>,\n",
       " <selenium.webdriver.remote.webelement.WebElement (session=\"99d03997807052414b7d45b3b8848bbe\", element=\"731f17d0-56f9-44c8-8852-f085dcf898fd\")>,\n",
       " <selenium.webdriver.remote.webelement.WebElement (session=\"99d03997807052414b7d45b3b8848bbe\", element=\"c423aca4-46a6-4aa6-8d6e-c1684469abdb\")>,\n",
       " <selenium.webdriver.remote.webelement.WebElement (session=\"99d03997807052414b7d45b3b8848bbe\", element=\"de7d77f4-88ee-4c72-9416-21454ef7ed6f\")>,\n",
       " <selenium.webdriver.remote.webelement.WebElement (session=\"99d03997807052414b7d45b3b8848bbe\", element=\"3af6fac9-cab3-40e1-b48a-b45977a137ab\")>,\n",
       " <selenium.webdriver.remote.webelement.WebElement (session=\"99d03997807052414b7d45b3b8848bbe\", element=\"56076f10-3e95-4309-9e4c-960392d2470a\")>,\n",
       " <selenium.webdriver.remote.webelement.WebElement (session=\"99d03997807052414b7d45b3b8848bbe\", element=\"2a7b83d9-4725-4f43-af2f-e17de4da91b2\")>,\n",
       " <selenium.webdriver.remote.webelement.WebElement (session=\"99d03997807052414b7d45b3b8848bbe\", element=\"516f68cb-dc86-46fc-8b15-ca65a6352b7e\")>,\n",
       " <selenium.webdriver.remote.webelement.WebElement (session=\"99d03997807052414b7d45b3b8848bbe\", element=\"7b981963-1197-44a0-8890-67cd822f27f4\")>,\n",
       " <selenium.webdriver.remote.webelement.WebElement (session=\"99d03997807052414b7d45b3b8848bbe\", element=\"2d589ab5-53a6-4fee-a385-c663f3a06745\")>,\n",
       " <selenium.webdriver.remote.webelement.WebElement (session=\"99d03997807052414b7d45b3b8848bbe\", element=\"c51dd6a7-5b72-4aca-a4e1-d5b22b116733\")>,\n",
       " <selenium.webdriver.remote.webelement.WebElement (session=\"99d03997807052414b7d45b3b8848bbe\", element=\"025d14ec-58bc-4306-b9f0-331af3837743\")>,\n",
       " <selenium.webdriver.remote.webelement.WebElement (session=\"99d03997807052414b7d45b3b8848bbe\", element=\"bdbbed64-133d-463c-baa9-94ccd542a81c\")>,\n",
       " <selenium.webdriver.remote.webelement.WebElement (session=\"99d03997807052414b7d45b3b8848bbe\", element=\"4fbf7292-8045-425a-9155-2b86a6d1493a\")>,\n",
       " <selenium.webdriver.remote.webelement.WebElement (session=\"99d03997807052414b7d45b3b8848bbe\", element=\"c328bb70-5247-4374-851b-dbe25ab54d4e\")>,\n",
       " <selenium.webdriver.remote.webelement.WebElement (session=\"99d03997807052414b7d45b3b8848bbe\", element=\"da3f2fb9-fba2-4d46-9e86-3dc4c5d19edf\")>,\n",
       " <selenium.webdriver.remote.webelement.WebElement (session=\"99d03997807052414b7d45b3b8848bbe\", element=\"33caa007-604f-44b5-9d5a-58b1d16c386a\")>,\n",
       " <selenium.webdriver.remote.webelement.WebElement (session=\"99d03997807052414b7d45b3b8848bbe\", element=\"b5c65d6d-8bad-4c40-868e-2f65aa672779\")>,\n",
       " <selenium.webdriver.remote.webelement.WebElement (session=\"99d03997807052414b7d45b3b8848bbe\", element=\"4bdcee15-9edb-408e-a1ff-a61faa636715\")>,\n",
       " <selenium.webdriver.remote.webelement.WebElement (session=\"99d03997807052414b7d45b3b8848bbe\", element=\"6e3a8c5f-de93-41e0-83b6-c26f8c329c3a\")>,\n",
       " <selenium.webdriver.remote.webelement.WebElement (session=\"99d03997807052414b7d45b3b8848bbe\", element=\"b490e881-3236-45d2-9d33-b43799123981\")>,\n",
       " <selenium.webdriver.remote.webelement.WebElement (session=\"99d03997807052414b7d45b3b8848bbe\", element=\"3b7f2962-1ef2-4674-9e5c-36e8c47907b2\")>,\n",
       " <selenium.webdriver.remote.webelement.WebElement (session=\"99d03997807052414b7d45b3b8848bbe\", element=\"277692d2-1c45-483e-b04e-35b8fafc3ea1\")>,\n",
       " <selenium.webdriver.remote.webelement.WebElement (session=\"99d03997807052414b7d45b3b8848bbe\", element=\"5b8f4f92-129b-40d5-bbb0-3813ba1ab07d\")>,\n",
       " <selenium.webdriver.remote.webelement.WebElement (session=\"99d03997807052414b7d45b3b8848bbe\", element=\"0dc54f42-1538-4a21-8fca-476ca6df8aee\")>]"
      ]
     },
     "execution_count": 78,
     "metadata": {},
     "output_type": "execute_result"
    }
   ],
   "source": [
    "Descr=driver.find_elements_by_xpath(\"//a[@rel='noopener noreferrer']\")\n",
    "Descr[0:100]"
   ]
  },
  {
   "cell_type": "code",
   "execution_count": 79,
   "metadata": {},
   "outputs": [
    {
     "data": {
      "text/plain": [
       "['',\n",
       " 'Combo Pack of 4 Casual Sneakers With Sneakers For Men',\n",
       " '₹579₹1,99670% off',\n",
       " '',\n",
       " '171 Smart Tan Lace-Ups Casuals for Men Sneakers For Men',\n",
       " '₹273₹49945% off',\n",
       " '',\n",
       " '445 Sports Shoes Sneakers For Men',\n",
       " '₹375₹49924% off',\n",
       " '',\n",
       " 'Nova Sneakers For Men',\n",
       " '₹2,082₹3,49540% off',\n",
       " '',\n",
       " '5011-Latest Collection Stylish Casual Loafer Sneakers S...',\n",
       " '₹240₹49951% off',\n",
       " '',\n",
       " \"White Sneaker For Men's/Boy's Sneakers For Men\",\n",
       " '₹349₹99965% off',\n",
       " '',\n",
       " 'Casual Sneakers Shoes For Men Sneakers For Men',\n",
       " '₹399₹99960% off',\n",
       " '',\n",
       " 'Sneakers For Men',\n",
       " '₹1,259₹3,69965% off',\n",
       " '',\n",
       " '170 Smart Grey Lace-Ups Casuals for Men Sneakers For Me...',\n",
       " '₹249₹49950% off',\n",
       " '',\n",
       " '168 Smart Red Lace-Ups Casuals for Men Sneakers For Men',\n",
       " '₹249₹49950% off',\n",
       " '',\n",
       " \"Casual , Partywear Sneakers Shoes For Men's And Boys Wh...\",\n",
       " '₹370₹65943% off',\n",
       " '',\n",
       " 'DTSS18FT-001 Sneakers For Men',\n",
       " '₹691₹2,19968% off',\n",
       " '',\n",
       " 'Sneakers For Men',\n",
       " '₹399₹99960% off',\n",
       " '',\n",
       " 'Smart Casuals Canvas Shoes Combo pack of 2 Sneakers For...',\n",
       " '₹379₹99862% off',\n",
       " '',\n",
       " 'Sneakers For Men',\n",
       " '₹199₹49960% off',\n",
       " '',\n",
       " 'Sneakers For Men',\n",
       " '₹1,153₹3,69968% off',\n",
       " '',\n",
       " 'Combo pack of 2 casual sneaker shoes for men Sneakers F...',\n",
       " '₹419₹99858% off',\n",
       " '',\n",
       " 'Sneakers For Men',\n",
       " '₹205₹49958% off',\n",
       " '',\n",
       " 'ORIFWSH(OR)-1077 Sneakers For Men',\n",
       " '₹214₹49957% off',\n",
       " '',\n",
       " 'Sneakers For Men',\n",
       " '₹1,399₹3,69962% off',\n",
       " '',\n",
       " 'Combo of 5 Multicolor Casual Sneakers Shoes For Men Sne...',\n",
       " '₹599₹2,49575% off',\n",
       " '',\n",
       " 'Sneakers For Men',\n",
       " '₹451₹99954% off',\n",
       " '',\n",
       " 'Sneakers For Men',\n",
       " '₹499₹99950% off',\n",
       " '',\n",
       " 'Sneakers For Men',\n",
       " '₹760₹1,99961% off',\n",
       " '',\n",
       " 'Synthetic Leather Casual Partywear Wedding Sneakers Sho...',\n",
       " '₹449₹99955% off',\n",
       " '',\n",
       " 'Chevit Latest Fashion Combo Pack of 2 Pairs Casual Outd...',\n",
       " '₹570₹1,49861% off',\n",
       " '',\n",
       " 'Sneakers For Men',\n",
       " '₹399₹99960% off',\n",
       " '',\n",
       " 'Sneakers For Men',\n",
       " '₹966₹2,19956% off',\n",
       " '',\n",
       " 'Sneakers For Men',\n",
       " '₹499₹99950% off',\n",
       " '',\n",
       " 'Combo Pack Of 3 Loafer Shoes Sneakers For Men',\n",
       " '₹499₹2,90082% off',\n",
       " '',\n",
       " 'White Sneakers Sneakers For Men',\n",
       " '₹367₹99963% off',\n",
       " '',\n",
       " 'Sneakers For Men',\n",
       " '₹999₹2,79964% off',\n",
       " '',\n",
       " 'Puma Smash v2 SL one8 Sneakers For Men',\n",
       " '₹2,199₹3,99945% off',\n",
       " '']"
      ]
     },
     "execution_count": 79,
     "metadata": {},
     "output_type": "execute_result"
    }
   ],
   "source": [
    "for i in Descr:\n",
    "    Descr=i.text\n",
    "    product_Descr.append(Descr)\n",
    "product_Descr[0:100]"
   ]
  },
  {
   "cell_type": "code",
   "execution_count": 80,
   "metadata": {},
   "outputs": [
    {
     "data": {
      "text/plain": [
       "[<selenium.webdriver.remote.webelement.WebElement (session=\"99d03997807052414b7d45b3b8848bbe\", element=\"6d578599-48d1-48f4-9538-e8b90bc49b24\")>,\n",
       " <selenium.webdriver.remote.webelement.WebElement (session=\"99d03997807052414b7d45b3b8848bbe\", element=\"31116bd5-97fa-4094-9c61-555c80faeefd\")>,\n",
       " <selenium.webdriver.remote.webelement.WebElement (session=\"99d03997807052414b7d45b3b8848bbe\", element=\"1576272d-ba3d-4f23-a988-9d4cf22413dd\")>,\n",
       " <selenium.webdriver.remote.webelement.WebElement (session=\"99d03997807052414b7d45b3b8848bbe\", element=\"0866092b-991f-4319-92ce-9136114ef190\")>,\n",
       " <selenium.webdriver.remote.webelement.WebElement (session=\"99d03997807052414b7d45b3b8848bbe\", element=\"cf7aeac7-7d33-4aed-afe8-3d1f2d8a2b25\")>,\n",
       " <selenium.webdriver.remote.webelement.WebElement (session=\"99d03997807052414b7d45b3b8848bbe\", element=\"7a54c4f4-778c-431f-bc15-77055e4b4815\")>,\n",
       " <selenium.webdriver.remote.webelement.WebElement (session=\"99d03997807052414b7d45b3b8848bbe\", element=\"10d71dbf-fd86-4c23-aace-e330e49b1fe9\")>,\n",
       " <selenium.webdriver.remote.webelement.WebElement (session=\"99d03997807052414b7d45b3b8848bbe\", element=\"c8e99c93-a4fe-4214-8d6a-c057061a230f\")>,\n",
       " <selenium.webdriver.remote.webelement.WebElement (session=\"99d03997807052414b7d45b3b8848bbe\", element=\"d09372ff-5609-44ef-8f4d-e9995c0d0146\")>,\n",
       " <selenium.webdriver.remote.webelement.WebElement (session=\"99d03997807052414b7d45b3b8848bbe\", element=\"b2e3fc04-3166-4a01-982b-799bfc3fc87a\")>,\n",
       " <selenium.webdriver.remote.webelement.WebElement (session=\"99d03997807052414b7d45b3b8848bbe\", element=\"87509bd8-12a8-4764-9abd-c1ae7d3a0dc8\")>,\n",
       " <selenium.webdriver.remote.webelement.WebElement (session=\"99d03997807052414b7d45b3b8848bbe\", element=\"96532621-9524-4dde-95dd-3d0e48b522ad\")>,\n",
       " <selenium.webdriver.remote.webelement.WebElement (session=\"99d03997807052414b7d45b3b8848bbe\", element=\"64e53d01-5d98-4413-8408-9acc15aad48f\")>,\n",
       " <selenium.webdriver.remote.webelement.WebElement (session=\"99d03997807052414b7d45b3b8848bbe\", element=\"d6cbf3c5-d759-41d1-a27a-73a745bb026e\")>,\n",
       " <selenium.webdriver.remote.webelement.WebElement (session=\"99d03997807052414b7d45b3b8848bbe\", element=\"09fe6d50-2e46-44d8-bf35-10b2c6ed67dc\")>,\n",
       " <selenium.webdriver.remote.webelement.WebElement (session=\"99d03997807052414b7d45b3b8848bbe\", element=\"478d8db0-18de-44b9-af15-b499e6c584b0\")>,\n",
       " <selenium.webdriver.remote.webelement.WebElement (session=\"99d03997807052414b7d45b3b8848bbe\", element=\"dca01777-7684-44f1-9b70-579f048dc1d7\")>,\n",
       " <selenium.webdriver.remote.webelement.WebElement (session=\"99d03997807052414b7d45b3b8848bbe\", element=\"dcf27466-2277-46b4-b4d4-9d12eedb553a\")>,\n",
       " <selenium.webdriver.remote.webelement.WebElement (session=\"99d03997807052414b7d45b3b8848bbe\", element=\"687fece1-e910-4d75-8955-5280886c231f\")>,\n",
       " <selenium.webdriver.remote.webelement.WebElement (session=\"99d03997807052414b7d45b3b8848bbe\", element=\"b440eda3-6d9f-4f50-a718-b4929c2adb81\")>,\n",
       " <selenium.webdriver.remote.webelement.WebElement (session=\"99d03997807052414b7d45b3b8848bbe\", element=\"72ce1878-0e96-402c-909e-7f0efc6f28e3\")>,\n",
       " <selenium.webdriver.remote.webelement.WebElement (session=\"99d03997807052414b7d45b3b8848bbe\", element=\"dbf564cf-033a-4feb-a6b0-6b67dc64abeb\")>,\n",
       " <selenium.webdriver.remote.webelement.WebElement (session=\"99d03997807052414b7d45b3b8848bbe\", element=\"39db6afb-b70c-413e-b352-d75f0ed55690\")>,\n",
       " <selenium.webdriver.remote.webelement.WebElement (session=\"99d03997807052414b7d45b3b8848bbe\", element=\"1410f358-9902-4003-973b-65bcc36e473b\")>,\n",
       " <selenium.webdriver.remote.webelement.WebElement (session=\"99d03997807052414b7d45b3b8848bbe\", element=\"83742caf-fd81-4b68-ace5-0f1574917429\")>,\n",
       " <selenium.webdriver.remote.webelement.WebElement (session=\"99d03997807052414b7d45b3b8848bbe\", element=\"808f2260-f421-4e24-872d-31a2cb6ce4d9\")>,\n",
       " <selenium.webdriver.remote.webelement.WebElement (session=\"99d03997807052414b7d45b3b8848bbe\", element=\"25cde567-f9eb-409a-a75a-c68ec3cb4d95\")>,\n",
       " <selenium.webdriver.remote.webelement.WebElement (session=\"99d03997807052414b7d45b3b8848bbe\", element=\"83abb065-8e4f-48e9-8476-49f6245e3edf\")>,\n",
       " <selenium.webdriver.remote.webelement.WebElement (session=\"99d03997807052414b7d45b3b8848bbe\", element=\"fad15e58-5add-40f6-a78a-33e165f06034\")>,\n",
       " <selenium.webdriver.remote.webelement.WebElement (session=\"99d03997807052414b7d45b3b8848bbe\", element=\"e17b21f0-fb94-4ec4-b895-8d178f675d46\")>,\n",
       " <selenium.webdriver.remote.webelement.WebElement (session=\"99d03997807052414b7d45b3b8848bbe\", element=\"6b3a7276-647e-467b-ae36-49ade8be489e\")>,\n",
       " <selenium.webdriver.remote.webelement.WebElement (session=\"99d03997807052414b7d45b3b8848bbe\", element=\"2f77a0f4-d38d-4d9e-8e65-6b24cc51decf\")>,\n",
       " <selenium.webdriver.remote.webelement.WebElement (session=\"99d03997807052414b7d45b3b8848bbe\", element=\"164e38f5-15c4-4446-8ff1-c104ef969cae\")>,\n",
       " <selenium.webdriver.remote.webelement.WebElement (session=\"99d03997807052414b7d45b3b8848bbe\", element=\"a3a16cf3-b822-4b9b-9a00-8ef75934e310\")>,\n",
       " <selenium.webdriver.remote.webelement.WebElement (session=\"99d03997807052414b7d45b3b8848bbe\", element=\"7e79e398-9d68-47b0-b9b7-4bf03c9ebd61\")>,\n",
       " <selenium.webdriver.remote.webelement.WebElement (session=\"99d03997807052414b7d45b3b8848bbe\", element=\"5b2adee4-ffaa-4279-88ab-f6e0c71274e7\")>,\n",
       " <selenium.webdriver.remote.webelement.WebElement (session=\"99d03997807052414b7d45b3b8848bbe\", element=\"7b4d3b4c-be87-462a-bc3c-7abf14524fff\")>,\n",
       " <selenium.webdriver.remote.webelement.WebElement (session=\"99d03997807052414b7d45b3b8848bbe\", element=\"e7bad47a-2596-4474-8495-c37637e3650e\")>,\n",
       " <selenium.webdriver.remote.webelement.WebElement (session=\"99d03997807052414b7d45b3b8848bbe\", element=\"07849536-2087-44a6-bdce-34877a799365\")>,\n",
       " <selenium.webdriver.remote.webelement.WebElement (session=\"99d03997807052414b7d45b3b8848bbe\", element=\"ee943231-4a47-4f99-84c8-64bae7d819be\")>]"
      ]
     },
     "execution_count": 80,
     "metadata": {},
     "output_type": "execute_result"
    }
   ],
   "source": [
    "value=driver.find_elements_by_xpath(\"//div[@class='_30jeq3']\")\n",
    "value[0:100]"
   ]
  },
  {
   "cell_type": "code",
   "execution_count": 81,
   "metadata": {},
   "outputs": [
    {
     "data": {
      "text/plain": [
       "['₹579',\n",
       " '₹273',\n",
       " '₹375',\n",
       " '₹2,082',\n",
       " '₹240',\n",
       " '₹349',\n",
       " '₹399',\n",
       " '₹1,259',\n",
       " '₹249',\n",
       " '₹249',\n",
       " '₹370',\n",
       " '₹691',\n",
       " '₹399',\n",
       " '₹379',\n",
       " '₹199',\n",
       " '₹1,153',\n",
       " '₹419',\n",
       " '₹205',\n",
       " '₹214',\n",
       " '₹1,399',\n",
       " '₹599',\n",
       " '₹451',\n",
       " '₹499',\n",
       " '₹760',\n",
       " '₹449',\n",
       " '₹570',\n",
       " '₹399',\n",
       " '₹966',\n",
       " '₹499',\n",
       " '₹499',\n",
       " '₹367',\n",
       " '₹999',\n",
       " '₹2,199',\n",
       " '₹367',\n",
       " '₹328',\n",
       " '₹1,659',\n",
       " '₹498',\n",
       " '₹299',\n",
       " '₹425',\n",
       " '₹674']"
      ]
     },
     "execution_count": 81,
     "metadata": {},
     "output_type": "execute_result"
    }
   ],
   "source": [
    "for i in value:\n",
    "    value=i.text\n",
    "    price_value.append(value)\n",
    "price_value[0:100]"
   ]
  },
  {
   "cell_type": "code",
   "execution_count": 82,
   "metadata": {},
   "outputs": [
    {
     "data": {
      "text/plain": [
       "[<selenium.webdriver.remote.webelement.WebElement (session=\"99d03997807052414b7d45b3b8848bbe\", element=\"64b22ec4-f1fb-4c16-a7e3-09119750948f\")>,\n",
       " <selenium.webdriver.remote.webelement.WebElement (session=\"99d03997807052414b7d45b3b8848bbe\", element=\"5aae7045-45c9-492f-b8d7-e5e85864e4d1\")>,\n",
       " <selenium.webdriver.remote.webelement.WebElement (session=\"99d03997807052414b7d45b3b8848bbe\", element=\"a62b7b07-34d0-41a3-8c15-760f7066b828\")>,\n",
       " <selenium.webdriver.remote.webelement.WebElement (session=\"99d03997807052414b7d45b3b8848bbe\", element=\"cbc29a33-3179-43ec-8bab-5f84f3b57294\")>,\n",
       " <selenium.webdriver.remote.webelement.WebElement (session=\"99d03997807052414b7d45b3b8848bbe\", element=\"5d4d9e6e-4a52-43ac-b7c2-87a881619636\")>,\n",
       " <selenium.webdriver.remote.webelement.WebElement (session=\"99d03997807052414b7d45b3b8848bbe\", element=\"c503a41d-dc64-45e6-baa6-9fddca5704fe\")>,\n",
       " <selenium.webdriver.remote.webelement.WebElement (session=\"99d03997807052414b7d45b3b8848bbe\", element=\"dbc37c87-ad38-440b-88f2-d51c1c45a50a\")>,\n",
       " <selenium.webdriver.remote.webelement.WebElement (session=\"99d03997807052414b7d45b3b8848bbe\", element=\"549c2044-389e-421f-8c6b-f0757e988aef\")>,\n",
       " <selenium.webdriver.remote.webelement.WebElement (session=\"99d03997807052414b7d45b3b8848bbe\", element=\"e53f9462-7c4f-45ef-b5ed-4f66bb5430a6\")>,\n",
       " <selenium.webdriver.remote.webelement.WebElement (session=\"99d03997807052414b7d45b3b8848bbe\", element=\"5088def3-e086-48c5-8ca6-3e01cdf2f756\")>,\n",
       " <selenium.webdriver.remote.webelement.WebElement (session=\"99d03997807052414b7d45b3b8848bbe\", element=\"26088954-9362-449e-a77c-7e512df83e56\")>,\n",
       " <selenium.webdriver.remote.webelement.WebElement (session=\"99d03997807052414b7d45b3b8848bbe\", element=\"975d1289-b902-4b88-b255-cd03603efa9e\")>,\n",
       " <selenium.webdriver.remote.webelement.WebElement (session=\"99d03997807052414b7d45b3b8848bbe\", element=\"f1d4aabf-4d17-44c2-b998-019f5573341d\")>,\n",
       " <selenium.webdriver.remote.webelement.WebElement (session=\"99d03997807052414b7d45b3b8848bbe\", element=\"6807a15c-fb65-4ddd-95e7-c1fb77081c1a\")>,\n",
       " <selenium.webdriver.remote.webelement.WebElement (session=\"99d03997807052414b7d45b3b8848bbe\", element=\"58b309d6-736c-4a7c-9f84-3d64f5342364\")>,\n",
       " <selenium.webdriver.remote.webelement.WebElement (session=\"99d03997807052414b7d45b3b8848bbe\", element=\"d1ba5692-06fe-452f-b4bd-e01386120046\")>,\n",
       " <selenium.webdriver.remote.webelement.WebElement (session=\"99d03997807052414b7d45b3b8848bbe\", element=\"e20dd31c-86c8-4af4-a5fd-78143c7a4c37\")>,\n",
       " <selenium.webdriver.remote.webelement.WebElement (session=\"99d03997807052414b7d45b3b8848bbe\", element=\"0e8d2d77-e0ff-4a16-93ff-a28b429bef92\")>,\n",
       " <selenium.webdriver.remote.webelement.WebElement (session=\"99d03997807052414b7d45b3b8848bbe\", element=\"f7a35fa3-78b2-4b1b-b496-dd9e5e05eee2\")>,\n",
       " <selenium.webdriver.remote.webelement.WebElement (session=\"99d03997807052414b7d45b3b8848bbe\", element=\"a5c825bf-6a9b-4cf9-9977-d5951a6d6c28\")>,\n",
       " <selenium.webdriver.remote.webelement.WebElement (session=\"99d03997807052414b7d45b3b8848bbe\", element=\"83ec2cd7-07a5-4a1f-8ce2-4d6c851de1ac\")>,\n",
       " <selenium.webdriver.remote.webelement.WebElement (session=\"99d03997807052414b7d45b3b8848bbe\", element=\"d1a86526-c49a-4834-8bad-5c826f73f65f\")>,\n",
       " <selenium.webdriver.remote.webelement.WebElement (session=\"99d03997807052414b7d45b3b8848bbe\", element=\"7f3dd1d4-e03e-41d1-9d97-9418d512b92c\")>,\n",
       " <selenium.webdriver.remote.webelement.WebElement (session=\"99d03997807052414b7d45b3b8848bbe\", element=\"550e0ebc-cc6f-49d6-805a-0e3a06e070d9\")>,\n",
       " <selenium.webdriver.remote.webelement.WebElement (session=\"99d03997807052414b7d45b3b8848bbe\", element=\"e70fc415-2130-4310-8dc0-6b46771fd237\")>,\n",
       " <selenium.webdriver.remote.webelement.WebElement (session=\"99d03997807052414b7d45b3b8848bbe\", element=\"afa53b0d-8b4a-4976-b035-f199d37f5406\")>,\n",
       " <selenium.webdriver.remote.webelement.WebElement (session=\"99d03997807052414b7d45b3b8848bbe\", element=\"5a3577c4-7365-475b-a3e9-a0a80a00962e\")>,\n",
       " <selenium.webdriver.remote.webelement.WebElement (session=\"99d03997807052414b7d45b3b8848bbe\", element=\"55f732b3-9ec6-4261-b5eb-22061bba8fad\")>,\n",
       " <selenium.webdriver.remote.webelement.WebElement (session=\"99d03997807052414b7d45b3b8848bbe\", element=\"fa1cfed9-f96e-4d4c-99b9-4ee08d2a8da2\")>,\n",
       " <selenium.webdriver.remote.webelement.WebElement (session=\"99d03997807052414b7d45b3b8848bbe\", element=\"546dcfed-36ee-43a0-8544-554671c787bb\")>,\n",
       " <selenium.webdriver.remote.webelement.WebElement (session=\"99d03997807052414b7d45b3b8848bbe\", element=\"c6123008-e5b8-4b6a-98b9-376c7b6acf54\")>,\n",
       " <selenium.webdriver.remote.webelement.WebElement (session=\"99d03997807052414b7d45b3b8848bbe\", element=\"43041407-6738-4685-aed7-93099610d561\")>,\n",
       " <selenium.webdriver.remote.webelement.WebElement (session=\"99d03997807052414b7d45b3b8848bbe\", element=\"09df570b-aae7-445a-9d9e-33d7b1c7907b\")>,\n",
       " <selenium.webdriver.remote.webelement.WebElement (session=\"99d03997807052414b7d45b3b8848bbe\", element=\"f3b629fb-72e9-4059-b83b-f97ccb74692d\")>,\n",
       " <selenium.webdriver.remote.webelement.WebElement (session=\"99d03997807052414b7d45b3b8848bbe\", element=\"e9b091a8-923c-4d28-8349-6162600930ad\")>,\n",
       " <selenium.webdriver.remote.webelement.WebElement (session=\"99d03997807052414b7d45b3b8848bbe\", element=\"c69fcf2e-627a-409c-bb8e-c027a621c15c\")>,\n",
       " <selenium.webdriver.remote.webelement.WebElement (session=\"99d03997807052414b7d45b3b8848bbe\", element=\"5e9d3662-a088-4895-a3fd-801367ee2f4a\")>,\n",
       " <selenium.webdriver.remote.webelement.WebElement (session=\"99d03997807052414b7d45b3b8848bbe\", element=\"3a3df11d-4d86-4e4b-99fe-a4e93036ece4\")>,\n",
       " <selenium.webdriver.remote.webelement.WebElement (session=\"99d03997807052414b7d45b3b8848bbe\", element=\"2e6fffa5-8a5f-4273-8bd8-2396612588ba\")>,\n",
       " <selenium.webdriver.remote.webelement.WebElement (session=\"99d03997807052414b7d45b3b8848bbe\", element=\"edee7575-9bde-4f04-89eb-b6aedd50bc96\")>]"
      ]
     },
     "execution_count": 82,
     "metadata": {},
     "output_type": "execute_result"
    }
   ],
   "source": [
    "percentage=driver.find_elements_by_xpath(\"//div[@class='_3Ay6Sb']\")\n",
    "percentage[0:100]"
   ]
  },
  {
   "cell_type": "code",
   "execution_count": 83,
   "metadata": {},
   "outputs": [
    {
     "data": {
      "text/plain": [
       "['70% off',\n",
       " '45% off',\n",
       " '24% off',\n",
       " '40% off',\n",
       " '51% off',\n",
       " '65% off',\n",
       " '60% off',\n",
       " '65% off',\n",
       " '50% off',\n",
       " '50% off',\n",
       " '43% off',\n",
       " '68% off',\n",
       " '60% off',\n",
       " '62% off',\n",
       " '60% off',\n",
       " '68% off',\n",
       " '58% off',\n",
       " '58% off',\n",
       " '57% off',\n",
       " '62% off',\n",
       " '75% off',\n",
       " '54% off',\n",
       " '50% off',\n",
       " '61% off',\n",
       " '55% off',\n",
       " '61% off',\n",
       " '60% off',\n",
       " '56% off',\n",
       " '50% off',\n",
       " '82% off',\n",
       " '63% off',\n",
       " '64% off',\n",
       " '45% off',\n",
       " '26% off',\n",
       " '67% off',\n",
       " '55% off',\n",
       " '50% off',\n",
       " '40% off',\n",
       " '57% off',\n",
       " '69% off']"
      ]
     },
     "execution_count": 83,
     "metadata": {},
     "output_type": "execute_result"
    }
   ],
   "source": [
    "for i in percentage:\n",
    "    percentage=i.text\n",
    "    Discount_percentage.append(percentage)\n",
    "Discount_percentage[0:100]"
   ]
  },
  {
   "cell_type": "code",
   "execution_count": 84,
   "metadata": {},
   "outputs": [
    {
     "name": "stdout",
     "output_type": "stream",
     "text": [
      "40 125 40 40\n"
     ]
    }
   ],
   "source": [
    "print(len(Brand_Name),len(product_Descr),len(price_value),len(Discount_percentage))"
   ]
  },
  {
   "cell_type": "code",
   "execution_count": 85,
   "metadata": {},
   "outputs": [
    {
     "ename": "ValueError",
     "evalue": "Length of values does not match length of index",
     "output_type": "error",
     "traceback": [
      "\u001b[1;31m---------------------------------------------------------------------------\u001b[0m",
      "\u001b[1;31mValueError\u001b[0m                                Traceback (most recent call last)",
      "\u001b[1;32m<ipython-input-85-29e023781425>\u001b[0m in \u001b[0;36m<module>\u001b[1;34m\u001b[0m\n\u001b[0;32m      1\u001b[0m \u001b[0msneakers\u001b[0m\u001b[1;33m=\u001b[0m\u001b[0mpd\u001b[0m\u001b[1;33m.\u001b[0m\u001b[0mDataFrame\u001b[0m\u001b[1;33m(\u001b[0m\u001b[1;33m{\u001b[0m\u001b[1;33m}\u001b[0m\u001b[1;33m)\u001b[0m\u001b[1;33m\u001b[0m\u001b[1;33m\u001b[0m\u001b[0m\n\u001b[0;32m      2\u001b[0m \u001b[0msneakers\u001b[0m\u001b[1;33m[\u001b[0m\u001b[1;34m'Name'\u001b[0m\u001b[1;33m]\u001b[0m\u001b[1;33m=\u001b[0m\u001b[0mBrand_Name\u001b[0m\u001b[1;33m\u001b[0m\u001b[1;33m\u001b[0m\u001b[0m\n\u001b[1;32m----> 3\u001b[1;33m \u001b[0msneakers\u001b[0m\u001b[1;33m[\u001b[0m\u001b[1;34m'Descr'\u001b[0m\u001b[1;33m]\u001b[0m\u001b[1;33m=\u001b[0m\u001b[0mproduct_Descr\u001b[0m\u001b[1;33m\u001b[0m\u001b[1;33m\u001b[0m\u001b[0m\n\u001b[0m\u001b[0;32m      4\u001b[0m \u001b[0msneakers\u001b[0m\u001b[1;33m[\u001b[0m\u001b[1;34m'value'\u001b[0m\u001b[1;33m]\u001b[0m\u001b[1;33m=\u001b[0m\u001b[0mprice_value\u001b[0m\u001b[1;33m\u001b[0m\u001b[1;33m\u001b[0m\u001b[0m\n\u001b[0;32m      5\u001b[0m \u001b[0msneakers\u001b[0m\u001b[1;33m[\u001b[0m\u001b[1;34m'percentage'\u001b[0m\u001b[1;33m]\u001b[0m\u001b[1;33m=\u001b[0m\u001b[0mDiscount_percentage\u001b[0m\u001b[1;33m\u001b[0m\u001b[1;33m\u001b[0m\u001b[0m\n",
      "\u001b[1;32mC:\\ProgramData\\Anaconda3\\lib\\site-packages\\pandas\\core\\frame.py\u001b[0m in \u001b[0;36m__setitem__\u001b[1;34m(self, key, value)\u001b[0m\n\u001b[0;32m   2936\u001b[0m         \u001b[1;32melse\u001b[0m\u001b[1;33m:\u001b[0m\u001b[1;33m\u001b[0m\u001b[1;33m\u001b[0m\u001b[0m\n\u001b[0;32m   2937\u001b[0m             \u001b[1;31m# set column\u001b[0m\u001b[1;33m\u001b[0m\u001b[1;33m\u001b[0m\u001b[1;33m\u001b[0m\u001b[0m\n\u001b[1;32m-> 2938\u001b[1;33m             \u001b[0mself\u001b[0m\u001b[1;33m.\u001b[0m\u001b[0m_set_item\u001b[0m\u001b[1;33m(\u001b[0m\u001b[0mkey\u001b[0m\u001b[1;33m,\u001b[0m \u001b[0mvalue\u001b[0m\u001b[1;33m)\u001b[0m\u001b[1;33m\u001b[0m\u001b[1;33m\u001b[0m\u001b[0m\n\u001b[0m\u001b[0;32m   2939\u001b[0m \u001b[1;33m\u001b[0m\u001b[0m\n\u001b[0;32m   2940\u001b[0m     \u001b[1;32mdef\u001b[0m \u001b[0m_setitem_slice\u001b[0m\u001b[1;33m(\u001b[0m\u001b[0mself\u001b[0m\u001b[1;33m,\u001b[0m \u001b[0mkey\u001b[0m\u001b[1;33m,\u001b[0m \u001b[0mvalue\u001b[0m\u001b[1;33m)\u001b[0m\u001b[1;33m:\u001b[0m\u001b[1;33m\u001b[0m\u001b[1;33m\u001b[0m\u001b[0m\n",
      "\u001b[1;32mC:\\ProgramData\\Anaconda3\\lib\\site-packages\\pandas\\core\\frame.py\u001b[0m in \u001b[0;36m_set_item\u001b[1;34m(self, key, value)\u001b[0m\n\u001b[0;32m   2998\u001b[0m \u001b[1;33m\u001b[0m\u001b[0m\n\u001b[0;32m   2999\u001b[0m         \u001b[0mself\u001b[0m\u001b[1;33m.\u001b[0m\u001b[0m_ensure_valid_index\u001b[0m\u001b[1;33m(\u001b[0m\u001b[0mvalue\u001b[0m\u001b[1;33m)\u001b[0m\u001b[1;33m\u001b[0m\u001b[1;33m\u001b[0m\u001b[0m\n\u001b[1;32m-> 3000\u001b[1;33m         \u001b[0mvalue\u001b[0m \u001b[1;33m=\u001b[0m \u001b[0mself\u001b[0m\u001b[1;33m.\u001b[0m\u001b[0m_sanitize_column\u001b[0m\u001b[1;33m(\u001b[0m\u001b[0mkey\u001b[0m\u001b[1;33m,\u001b[0m \u001b[0mvalue\u001b[0m\u001b[1;33m)\u001b[0m\u001b[1;33m\u001b[0m\u001b[1;33m\u001b[0m\u001b[0m\n\u001b[0m\u001b[0;32m   3001\u001b[0m         \u001b[0mNDFrame\u001b[0m\u001b[1;33m.\u001b[0m\u001b[0m_set_item\u001b[0m\u001b[1;33m(\u001b[0m\u001b[0mself\u001b[0m\u001b[1;33m,\u001b[0m \u001b[0mkey\u001b[0m\u001b[1;33m,\u001b[0m \u001b[0mvalue\u001b[0m\u001b[1;33m)\u001b[0m\u001b[1;33m\u001b[0m\u001b[1;33m\u001b[0m\u001b[0m\n\u001b[0;32m   3002\u001b[0m \u001b[1;33m\u001b[0m\u001b[0m\n",
      "\u001b[1;32mC:\\ProgramData\\Anaconda3\\lib\\site-packages\\pandas\\core\\frame.py\u001b[0m in \u001b[0;36m_sanitize_column\u001b[1;34m(self, key, value, broadcast)\u001b[0m\n\u001b[0;32m   3634\u001b[0m \u001b[1;33m\u001b[0m\u001b[0m\n\u001b[0;32m   3635\u001b[0m             \u001b[1;31m# turn me into an ndarray\u001b[0m\u001b[1;33m\u001b[0m\u001b[1;33m\u001b[0m\u001b[1;33m\u001b[0m\u001b[0m\n\u001b[1;32m-> 3636\u001b[1;33m             \u001b[0mvalue\u001b[0m \u001b[1;33m=\u001b[0m \u001b[0msanitize_index\u001b[0m\u001b[1;33m(\u001b[0m\u001b[0mvalue\u001b[0m\u001b[1;33m,\u001b[0m \u001b[0mself\u001b[0m\u001b[1;33m.\u001b[0m\u001b[0mindex\u001b[0m\u001b[1;33m,\u001b[0m \u001b[0mcopy\u001b[0m\u001b[1;33m=\u001b[0m\u001b[1;32mFalse\u001b[0m\u001b[1;33m)\u001b[0m\u001b[1;33m\u001b[0m\u001b[1;33m\u001b[0m\u001b[0m\n\u001b[0m\u001b[0;32m   3637\u001b[0m             \u001b[1;32mif\u001b[0m \u001b[1;32mnot\u001b[0m \u001b[0misinstance\u001b[0m\u001b[1;33m(\u001b[0m\u001b[0mvalue\u001b[0m\u001b[1;33m,\u001b[0m \u001b[1;33m(\u001b[0m\u001b[0mnp\u001b[0m\u001b[1;33m.\u001b[0m\u001b[0mndarray\u001b[0m\u001b[1;33m,\u001b[0m \u001b[0mIndex\u001b[0m\u001b[1;33m)\u001b[0m\u001b[1;33m)\u001b[0m\u001b[1;33m:\u001b[0m\u001b[1;33m\u001b[0m\u001b[1;33m\u001b[0m\u001b[0m\n\u001b[0;32m   3638\u001b[0m                 \u001b[1;32mif\u001b[0m \u001b[0misinstance\u001b[0m\u001b[1;33m(\u001b[0m\u001b[0mvalue\u001b[0m\u001b[1;33m,\u001b[0m \u001b[0mlist\u001b[0m\u001b[1;33m)\u001b[0m \u001b[1;32mand\u001b[0m \u001b[0mlen\u001b[0m\u001b[1;33m(\u001b[0m\u001b[0mvalue\u001b[0m\u001b[1;33m)\u001b[0m \u001b[1;33m>\u001b[0m \u001b[1;36m0\u001b[0m\u001b[1;33m:\u001b[0m\u001b[1;33m\u001b[0m\u001b[1;33m\u001b[0m\u001b[0m\n",
      "\u001b[1;32mC:\\ProgramData\\Anaconda3\\lib\\site-packages\\pandas\\core\\internals\\construction.py\u001b[0m in \u001b[0;36msanitize_index\u001b[1;34m(data, index, copy)\u001b[0m\n\u001b[0;32m    609\u001b[0m \u001b[1;33m\u001b[0m\u001b[0m\n\u001b[0;32m    610\u001b[0m     \u001b[1;32mif\u001b[0m \u001b[0mlen\u001b[0m\u001b[1;33m(\u001b[0m\u001b[0mdata\u001b[0m\u001b[1;33m)\u001b[0m \u001b[1;33m!=\u001b[0m \u001b[0mlen\u001b[0m\u001b[1;33m(\u001b[0m\u001b[0mindex\u001b[0m\u001b[1;33m)\u001b[0m\u001b[1;33m:\u001b[0m\u001b[1;33m\u001b[0m\u001b[1;33m\u001b[0m\u001b[0m\n\u001b[1;32m--> 611\u001b[1;33m         \u001b[1;32mraise\u001b[0m \u001b[0mValueError\u001b[0m\u001b[1;33m(\u001b[0m\u001b[1;34m\"Length of values does not match length of index\"\u001b[0m\u001b[1;33m)\u001b[0m\u001b[1;33m\u001b[0m\u001b[1;33m\u001b[0m\u001b[0m\n\u001b[0m\u001b[0;32m    612\u001b[0m \u001b[1;33m\u001b[0m\u001b[0m\n\u001b[0;32m    613\u001b[0m     \u001b[1;32mif\u001b[0m \u001b[0misinstance\u001b[0m\u001b[1;33m(\u001b[0m\u001b[0mdata\u001b[0m\u001b[1;33m,\u001b[0m \u001b[0mABCIndexClass\u001b[0m\u001b[1;33m)\u001b[0m \u001b[1;32mand\u001b[0m \u001b[1;32mnot\u001b[0m \u001b[0mcopy\u001b[0m\u001b[1;33m:\u001b[0m\u001b[1;33m\u001b[0m\u001b[1;33m\u001b[0m\u001b[0m\n",
      "\u001b[1;31mValueError\u001b[0m: Length of values does not match length of index"
     ]
    }
   ],
   "source": [
    "sneakers=pd.DataFrame({})\n",
    "sneakers['Name']=Brand_Name\n",
    "sneakers['Descr']=product_Descr\n",
    "sneakers['value']=price_value\n",
    "sneakers['percentage']=Discount_percentage"
   ]
  },
  {
   "cell_type": "code",
   "execution_count": 86,
   "metadata": {},
   "outputs": [
    {
     "data": {
      "text/html": [
       "<div>\n",
       "<style scoped>\n",
       "    .dataframe tbody tr th:only-of-type {\n",
       "        vertical-align: middle;\n",
       "    }\n",
       "\n",
       "    .dataframe tbody tr th {\n",
       "        vertical-align: top;\n",
       "    }\n",
       "\n",
       "    .dataframe thead th {\n",
       "        text-align: right;\n",
       "    }\n",
       "</style>\n",
       "<table border=\"1\" class=\"dataframe\">\n",
       "  <thead>\n",
       "    <tr style=\"text-align: right;\">\n",
       "      <th></th>\n",
       "      <th>Name</th>\n",
       "    </tr>\n",
       "  </thead>\n",
       "  <tbody>\n",
       "    <tr>\n",
       "      <th>0</th>\n",
       "      <td>Chevit</td>\n",
       "    </tr>\n",
       "    <tr>\n",
       "      <th>1</th>\n",
       "      <td>Chevit</td>\n",
       "    </tr>\n",
       "    <tr>\n",
       "      <th>2</th>\n",
       "      <td>Deny Brown</td>\n",
       "    </tr>\n",
       "    <tr>\n",
       "      <th>3</th>\n",
       "      <td>Wildcraft</td>\n",
       "    </tr>\n",
       "    <tr>\n",
       "      <th>4</th>\n",
       "      <td>World Wear Footwear</td>\n",
       "    </tr>\n",
       "    <tr>\n",
       "      <th>5</th>\n",
       "      <td>Shoes Bank</td>\n",
       "    </tr>\n",
       "    <tr>\n",
       "      <th>6</th>\n",
       "      <td>Robbie jones</td>\n",
       "    </tr>\n",
       "    <tr>\n",
       "      <th>7</th>\n",
       "      <td>Ducati</td>\n",
       "    </tr>\n",
       "    <tr>\n",
       "      <th>8</th>\n",
       "      <td>Chevit</td>\n",
       "    </tr>\n",
       "    <tr>\n",
       "      <th>9</th>\n",
       "      <td>Chevit</td>\n",
       "    </tr>\n",
       "    <tr>\n",
       "      <th>10</th>\n",
       "      <td>D-SNEAKERZ</td>\n",
       "    </tr>\n",
       "    <tr>\n",
       "      <th>11</th>\n",
       "      <td>Ducati</td>\n",
       "    </tr>\n",
       "    <tr>\n",
       "      <th>12</th>\n",
       "      <td>Red Rose</td>\n",
       "    </tr>\n",
       "    <tr>\n",
       "      <th>13</th>\n",
       "      <td>Chevit</td>\n",
       "    </tr>\n",
       "    <tr>\n",
       "      <th>14</th>\n",
       "      <td>GANPATI TRADERS</td>\n",
       "    </tr>\n",
       "    <tr>\n",
       "      <th>15</th>\n",
       "      <td>Ducati</td>\n",
       "    </tr>\n",
       "    <tr>\n",
       "      <th>16</th>\n",
       "      <td>Oricum</td>\n",
       "    </tr>\n",
       "    <tr>\n",
       "      <th>17</th>\n",
       "      <td>Hotstyle</td>\n",
       "    </tr>\n",
       "    <tr>\n",
       "      <th>18</th>\n",
       "      <td>Oricum</td>\n",
       "    </tr>\n",
       "    <tr>\n",
       "      <th>19</th>\n",
       "      <td>French Connection</td>\n",
       "    </tr>\n",
       "    <tr>\n",
       "      <th>20</th>\n",
       "      <td>Stinson</td>\n",
       "    </tr>\n",
       "    <tr>\n",
       "      <th>21</th>\n",
       "      <td>Robbie jones</td>\n",
       "    </tr>\n",
       "    <tr>\n",
       "      <th>22</th>\n",
       "      <td>Essence</td>\n",
       "    </tr>\n",
       "    <tr>\n",
       "      <th>23</th>\n",
       "      <td>French Connection</td>\n",
       "    </tr>\n",
       "    <tr>\n",
       "      <th>24</th>\n",
       "      <td>T-Rock</td>\n",
       "    </tr>\n",
       "    <tr>\n",
       "      <th>25</th>\n",
       "      <td>Chevit</td>\n",
       "    </tr>\n",
       "    <tr>\n",
       "      <th>26</th>\n",
       "      <td>Rockfield</td>\n",
       "    </tr>\n",
       "    <tr>\n",
       "      <th>27</th>\n",
       "      <td>Marc Ecko</td>\n",
       "    </tr>\n",
       "    <tr>\n",
       "      <th>28</th>\n",
       "      <td>Essence</td>\n",
       "    </tr>\n",
       "    <tr>\n",
       "      <th>29</th>\n",
       "      <td>BRUTON</td>\n",
       "    </tr>\n",
       "    <tr>\n",
       "      <th>30</th>\n",
       "      <td>Magnolia</td>\n",
       "    </tr>\n",
       "    <tr>\n",
       "      <th>31</th>\n",
       "      <td>French Connection</td>\n",
       "    </tr>\n",
       "    <tr>\n",
       "      <th>32</th>\n",
       "      <td>Puma</td>\n",
       "    </tr>\n",
       "    <tr>\n",
       "      <th>33</th>\n",
       "      <td>Aura</td>\n",
       "    </tr>\n",
       "    <tr>\n",
       "      <th>34</th>\n",
       "      <td>Camfoot</td>\n",
       "    </tr>\n",
       "    <tr>\n",
       "      <th>35</th>\n",
       "      <td>Ducati</td>\n",
       "    </tr>\n",
       "    <tr>\n",
       "      <th>36</th>\n",
       "      <td>Chevit</td>\n",
       "    </tr>\n",
       "    <tr>\n",
       "      <th>37</th>\n",
       "      <td>Oricum</td>\n",
       "    </tr>\n",
       "    <tr>\n",
       "      <th>38</th>\n",
       "      <td>ZOVIM</td>\n",
       "    </tr>\n",
       "    <tr>\n",
       "      <th>39</th>\n",
       "      <td>Ducati</td>\n",
       "    </tr>\n",
       "  </tbody>\n",
       "</table>\n",
       "</div>"
      ],
      "text/plain": [
       "                   Name\n",
       "0                Chevit\n",
       "1                Chevit\n",
       "2            Deny Brown\n",
       "3             Wildcraft\n",
       "4   World Wear Footwear\n",
       "5            Shoes Bank\n",
       "6          Robbie jones\n",
       "7                Ducati\n",
       "8                Chevit\n",
       "9                Chevit\n",
       "10           D-SNEAKERZ\n",
       "11               Ducati\n",
       "12             Red Rose\n",
       "13               Chevit\n",
       "14      GANPATI TRADERS\n",
       "15               Ducati\n",
       "16               Oricum\n",
       "17             Hotstyle\n",
       "18               Oricum\n",
       "19    French Connection\n",
       "20              Stinson\n",
       "21         Robbie jones\n",
       "22              Essence\n",
       "23    French Connection\n",
       "24               T-Rock\n",
       "25               Chevit\n",
       "26            Rockfield\n",
       "27            Marc Ecko\n",
       "28              Essence\n",
       "29               BRUTON\n",
       "30             Magnolia\n",
       "31    French Connection\n",
       "32                 Puma\n",
       "33                 Aura\n",
       "34              Camfoot\n",
       "35               Ducati\n",
       "36               Chevit\n",
       "37               Oricum\n",
       "38                ZOVIM\n",
       "39               Ducati"
      ]
     },
     "execution_count": 86,
     "metadata": {},
     "output_type": "execute_result"
    }
   ],
   "source": [
    "sneakers"
   ]
  },
  {
   "cell_type": "code",
   "execution_count": 87,
   "metadata": {},
   "outputs": [],
   "source": [
    "#question no.9\n",
    "import selenium\n",
    "import pandas as pd\n",
    "from selenium import webdriver\n",
    "driver = webdriver.Edge(executable_path = r\"C:\\Users\\Althaf\\Downloads\\msedgedriver.exe\")\n",
    "driver.get('https://www.myntra.com/shoes')"
   ]
  },
  {
   "cell_type": "code",
   "execution_count": 88,
   "metadata": {},
   "outputs": [],
   "source": [
    "Brand_Name=[]\n",
    "product_Descr=[]\n",
    "price_value=[]"
   ]
  }
 ],
 "metadata": {
  "kernelspec": {
   "display_name": "Python 3",
   "language": "python",
   "name": "python3"
  },
  "language_info": {
   "codemirror_mode": {
    "name": "ipython",
    "version": 3
   },
   "file_extension": ".py",
   "mimetype": "text/x-python",
   "name": "python",
   "nbconvert_exporter": "python",
   "pygments_lexer": "ipython3",
   "version": "3.7.6"
  }
 },
 "nbformat": 4,
 "nbformat_minor": 4
}
